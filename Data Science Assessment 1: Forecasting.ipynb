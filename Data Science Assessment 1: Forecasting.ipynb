{
 "cells": [
  {
   "cell_type": "markdown",
   "metadata": {},
   "source": [
    "*This assessment contains interactive plots. If you want to directly see the interactivity of some plots, then you need to download the jupyter notebook in your computer.*"
   ]
  },
  {
   "cell_type": "markdown",
   "metadata": {},
   "source": [
    "## Data Source\n",
    "The data source used is the <strong style=\"color: green\">green</strong> taxi data for February 2016 from the following website: https://www1.nyc.gov/site/tlc/about/tlc-trip-record-data.page (the files are stored in Parquet format)."
   ]
  },
  {
   "cell_type": "code",
   "execution_count": 1,
   "metadata": {},
   "outputs": [
    {
     "name": "stdout",
     "output_type": "stream",
     "text": [
      "--2024-09-19 19:10:55--  https://d37ci6vzurychx.cloudfront.net/trip-data/green_tripdata_2016-02.parquet\n",
      "Resolving d37ci6vzurychx.cloudfront.net (d37ci6vzurychx.cloudfront.net)... 108.138.245.225, 108.138.245.58, 108.138.245.96, ...\n",
      "Connecting to d37ci6vzurychx.cloudfront.net (d37ci6vzurychx.cloudfront.net)|108.138.245.225|:443... connected.\n",
      "HTTP request sent, awaiting response... 200 OK\n",
      "Length: 22771978 (22M) [application/x-www-form-urlencoded]\n",
      "Saving to: ‘./data/green_tripdata_2016-02.parquet’\n",
      "\n",
      "green_tripdata_2016 100%[===================>]  21.72M  7.74MB/s    in 2.8s    \n",
      "\n",
      "2024-09-19 19:10:59 (7.74 MB/s) - ‘./data/green_tripdata_2016-02.parquet’ saved [22771978/22771978]\n",
      "\n"
     ]
    }
   ],
   "source": [
    "# Download the data source\n",
    "!mkdir data\n",
    "!wget -P ./data/ https://d37ci6vzurychx.cloudfront.net/trip-data/green_tripdata_2016-02.parquet "
   ]
  },
  {
   "cell_type": "markdown",
   "metadata": {},
   "source": [
    "## Start of the Assessment"
   ]
  },
  {
   "cell_type": "code",
   "execution_count": 2,
   "metadata": {},
   "outputs": [],
   "source": [
    "# automatically reload imported packages\n",
    "%load_ext autoreload\n",
    "%autoreload 2\n",
    "\n",
    "# import all the necessary packages\n",
    "import pandas as pd\n",
    "import numpy as np\n",
    "import matplotlib.pyplot as plt\n",
    "from statsmodels.tsa.stattools import adfuller # test for stationarity\n",
    "import statsmodels.api as sm\n",
    "import numpy as np\n",
    "import pytz\n",
    "from sklearn.metrics import r2_score, mean_squared_error, mean_absolute_error\n",
    "from itertools import product # cartesian product for gridsearch\n",
    "\n",
    "# import libraries that I created that may be useful in the future (who knows)\n",
    "from forecasting.plotting import datetime_line_plot, count_comparison_bar_plot, comparison_line_plot\n",
    "\n",
    "# other setup\n",
    "from IPython.core.interactiveshell import InteractiveShell\n",
    "import warnings\n",
    "\n",
    "#allow multiple notebook displays without printing or `display`\n",
    "InteractiveShell.ast_node_interactivity = \"all\"\n",
    "#view all the columns when displayed in a notebook\n",
    "pd.set_option('display.max_columns', None)\n",
    "#set matplotlib default style\n",
    "plt.style.use('ggplot')\n",
    "warnings.filterwarnings(\"ignore\") # not recommended but for this assessment only"
   ]
  },
  {
   "cell_type": "code",
   "execution_count": 3,
   "metadata": {},
   "outputs": [],
   "source": [
    "# read the data\n",
    "trip_data = pd.read_parquet('./data/green_tripdata_2016-02.parquet')"
   ]
  },
  {
   "cell_type": "markdown",
   "metadata": {},
   "source": [
    "## 1. Report the number of rows and columns of the data."
   ]
  },
  {
   "cell_type": "code",
   "execution_count": 4,
   "metadata": {},
   "outputs": [
    {
     "name": "stdout",
     "output_type": "stream",
     "text": [
      "Number of rows: 1510722, Number of columns: 20\n"
     ]
    }
   ],
   "source": [
    "num_rows, num_columns = trip_data.shape\n",
    "print(f\"Number of rows: {num_rows}, Number of columns: {num_columns}\")"
   ]
  },
  {
   "cell_type": "markdown",
   "metadata": {},
   "source": [
    "#### Data Exploration"
   ]
  },
  {
   "cell_type": "markdown",
   "metadata": {},
   "source": [
    "In any machine learning or statistical modelling, the most important phase (at least for me) is the data exploration. In this phase, the understanding of the data should be established and documents related to the data should be provided (like data dictionary).\n",
    "\n",
    "Even if the objective of the forecasting modelling is the to forecast the number of trips per hour. Having an access to a data dictionary is important.\n",
    "\n",
    "I've tried to look at the data dictionary of the taxi data and found the following table:"
   ]
  },
  {
   "cell_type": "markdown",
   "metadata": {},
   "source": [
    "|Field Name| Description|\n",
    "|----------|------------|\n",
    "|VendorID | A code indicating the LPEP provider that provided the record. <br> 1= Creative Mobile Technologies, LLC; <br> 2= VeriFone Inc.|\n",
    "lpep_pickup_datetime | The date and time when the meter was engaged.|\n",
    "lpep_dropoff_datetime | The date and time when the meter was disengaged.|\n",
    "Passenger_count | The number of passengers in the vehicle. This is a driver-entered value.|\n",
    "Trip_distance | The elapsed Trip Distance in Miles reported by the taximeter.|\n",
    "PULocationID | TLC Taxi Zone in which the taximeter was engaged|\n",
    "DOLocationID | TLC Taxi Zone in which the taximeter was disengaged|\n",
    "RateCodeID | The final rate code in effect at the end of the trip. <br> 1= Standard rate <br> 2=JFK <br> 3=Newark <br> 4=Nassau or Westchester <br> 5=Negotiated fare <br> 6=Group ride\n",
    "Store_and_fwd_flag | This flag indicates whether the trip record was held in vehicle memory before sending to the vendor, aka “store and forward,” because the vehicle did not have a connection to the server. <br> Y= store and forward trip <br> N= not a store and forward trip|\n",
    "Payment_type | A numeric code signifying how the passenger paid for the trip. <br> 1= Credit card <br> 2= Cash <br>3= No charge <br>4= Dispute <br>5= Unknown<br> 6= Voided trip |\n",
    "Fare_amount | The time-and-distance fare calculated by the meter.|\n",
    "Extra | Miscellaneous extras and surcharges. Currently, this only includes the $0.50 and $1 rush hour and overnight charges.|\n",
    "MTA_tax | $0.50 MTA tax that is automatically triggered based on the metered rate in use.|\n",
    "Improvement_surcharge | $0.30 improvement surcharge assessed on hailed trips at the flag drop. The improvement surcharge began being levied in 2015. |\n",
    "Tip_amount | This field is automatically populated for credit card tips. Cash tips are not included.\n",
    "Tolls_amount | Total amount of all tolls paid in trip. |\n",
    "Total_amount | The total amount charged to passengers. Does not include cash tips. |\n",
    "Trip_type | A code indicating whether the trip was a street-hail or a dispatch that is automatically assigned based on the metered rate in use but can be altered by the driver. <br>1= Street-hail <br>2= Dispatch"
   ]
  },
  {
   "cell_type": "markdown",
   "metadata": {},
   "source": [
    "A few important points to note:\n",
    "\n",
    "1. The distance is measured in miles. It might be easier to convert this to kilometers, as it's a metric unit and could provide a more intuitively precise measurement. <br>\n",
    "\n",
    "2. There's no timezone specified in the data dictionary, but since this data is from NYC, I can assume the timezone is EST/US Time.<br>\n",
    "\n",
    "    \n",
    "Converting these two columns to their respective units/data types/timezone is important before to help us draw more accurate insights from our analysis."
   ]
  },
  {
   "cell_type": "markdown",
   "metadata": {},
   "source": [
    "Looking at the data information is also important to get familiar with the data:"
   ]
  },
  {
   "cell_type": "code",
   "execution_count": 5,
   "metadata": {},
   "outputs": [
    {
     "name": "stdout",
     "output_type": "stream",
     "text": [
      "<class 'pandas.core.frame.DataFrame'>\n",
      "RangeIndex: 1510722 entries, 0 to 1510721\n",
      "Data columns (total 20 columns):\n",
      " #   Column                 Non-Null Count    Dtype         \n",
      "---  ------                 --------------    -----         \n",
      " 0   VendorID               1510722 non-null  int64         \n",
      " 1   lpep_pickup_datetime   1510722 non-null  datetime64[us]\n",
      " 2   lpep_dropoff_datetime  1510722 non-null  datetime64[us]\n",
      " 3   store_and_fwd_flag     1510722 non-null  object        \n",
      " 4   RatecodeID             1510722 non-null  int64         \n",
      " 5   PULocationID           1510722 non-null  int64         \n",
      " 6   DOLocationID           1510722 non-null  int64         \n",
      " 7   passenger_count        1510722 non-null  int64         \n",
      " 8   trip_distance          1510722 non-null  float64       \n",
      " 9   fare_amount            1510722 non-null  float64       \n",
      " 10  extra                  1510722 non-null  float64       \n",
      " 11  mta_tax                1510722 non-null  float64       \n",
      " 12  tip_amount             1510722 non-null  float64       \n",
      " 13  tolls_amount           1510722 non-null  float64       \n",
      " 14  ehail_fee              0 non-null        object        \n",
      " 15  improvement_surcharge  1510722 non-null  float64       \n",
      " 16  total_amount           1510722 non-null  float64       \n",
      " 17  payment_type           1510722 non-null  int64         \n",
      " 18  trip_type              1510720 non-null  float64       \n",
      " 19  congestion_surcharge   0 non-null        object        \n",
      "dtypes: datetime64[us](2), float64(9), int64(6), object(3)\n",
      "memory usage: 230.5+ MB\n"
     ]
    }
   ],
   "source": [
    "trip_data.info()"
   ]
  },
  {
   "cell_type": "markdown",
   "metadata": {},
   "source": [
    "Two columns do not contain any data, and the trip_type has missing two data points.\n",
    "\n",
    "<u>Normally, I am deleting the columns that do not contain any data. In ACSS(my current employer), we always make sure that this is well communicated to the clients, to let them be aware and for them to check if there are any errors in the data collection.</u>\n"
   ]
  },
  {
   "cell_type": "markdown",
   "metadata": {},
   "source": [
    "Continuing, when working with a time-series data using pandas. I always use the datetime as a data index. It is more convenient in plotting and resampling:"
   ]
  },
  {
   "cell_type": "code",
   "execution_count": 6,
   "metadata": {},
   "outputs": [
    {
     "data": {
      "text/html": [
       "<div>\n",
       "<style scoped>\n",
       "    .dataframe tbody tr th:only-of-type {\n",
       "        vertical-align: middle;\n",
       "    }\n",
       "\n",
       "    .dataframe tbody tr th {\n",
       "        vertical-align: top;\n",
       "    }\n",
       "\n",
       "    .dataframe thead th {\n",
       "        text-align: right;\n",
       "    }\n",
       "</style>\n",
       "<table border=\"1\" class=\"dataframe\">\n",
       "  <thead>\n",
       "    <tr style=\"text-align: right;\">\n",
       "      <th></th>\n",
       "      <th>VendorID</th>\n",
       "      <th>lpep_dropoff_datetime</th>\n",
       "      <th>store_and_fwd_flag</th>\n",
       "      <th>RatecodeID</th>\n",
       "      <th>PULocationID</th>\n",
       "      <th>DOLocationID</th>\n",
       "      <th>passenger_count</th>\n",
       "      <th>trip_distance</th>\n",
       "      <th>fare_amount</th>\n",
       "      <th>extra</th>\n",
       "      <th>mta_tax</th>\n",
       "      <th>tip_amount</th>\n",
       "      <th>tolls_amount</th>\n",
       "      <th>ehail_fee</th>\n",
       "      <th>improvement_surcharge</th>\n",
       "      <th>total_amount</th>\n",
       "      <th>payment_type</th>\n",
       "      <th>trip_type</th>\n",
       "      <th>congestion_surcharge</th>\n",
       "    </tr>\n",
       "    <tr>\n",
       "      <th>lpep_pickup_datetime</th>\n",
       "      <th></th>\n",
       "      <th></th>\n",
       "      <th></th>\n",
       "      <th></th>\n",
       "      <th></th>\n",
       "      <th></th>\n",
       "      <th></th>\n",
       "      <th></th>\n",
       "      <th></th>\n",
       "      <th></th>\n",
       "      <th></th>\n",
       "      <th></th>\n",
       "      <th></th>\n",
       "      <th></th>\n",
       "      <th></th>\n",
       "      <th></th>\n",
       "      <th></th>\n",
       "      <th></th>\n",
       "      <th></th>\n",
       "    </tr>\n",
       "  </thead>\n",
       "  <tbody>\n",
       "    <tr>\n",
       "      <th>2016-02-01 00:11:39</th>\n",
       "      <td>2</td>\n",
       "      <td>2016-02-01 00:22:25</td>\n",
       "      <td>N</td>\n",
       "      <td>1</td>\n",
       "      <td>265</td>\n",
       "      <td>265</td>\n",
       "      <td>1</td>\n",
       "      <td>3.80</td>\n",
       "      <td>15.23</td>\n",
       "      <td>0.0</td>\n",
       "      <td>0.0</td>\n",
       "      <td>0.00</td>\n",
       "      <td>0.0</td>\n",
       "      <td>None</td>\n",
       "      <td>0.46</td>\n",
       "      <td>15.69</td>\n",
       "      <td>2</td>\n",
       "      <td>1.0</td>\n",
       "      <td>None</td>\n",
       "    </tr>\n",
       "    <tr>\n",
       "      <th>2016-02-01 00:44:47</th>\n",
       "      <td>2</td>\n",
       "      <td>2016-02-01 00:51:57</td>\n",
       "      <td>N</td>\n",
       "      <td>1</td>\n",
       "      <td>265</td>\n",
       "      <td>265</td>\n",
       "      <td>1</td>\n",
       "      <td>1.50</td>\n",
       "      <td>8.79</td>\n",
       "      <td>0.0</td>\n",
       "      <td>0.0</td>\n",
       "      <td>0.00</td>\n",
       "      <td>0.0</td>\n",
       "      <td>None</td>\n",
       "      <td>0.26</td>\n",
       "      <td>9.05</td>\n",
       "      <td>2</td>\n",
       "      <td>1.0</td>\n",
       "      <td>None</td>\n",
       "    </tr>\n",
       "    <tr>\n",
       "      <th>2016-02-01 00:10:55</th>\n",
       "      <td>2</td>\n",
       "      <td>2016-02-01 00:35:08</td>\n",
       "      <td>N</td>\n",
       "      <td>1</td>\n",
       "      <td>225</td>\n",
       "      <td>77</td>\n",
       "      <td>1</td>\n",
       "      <td>3.84</td>\n",
       "      <td>15.50</td>\n",
       "      <td>0.5</td>\n",
       "      <td>0.5</td>\n",
       "      <td>3.36</td>\n",
       "      <td>0.0</td>\n",
       "      <td>None</td>\n",
       "      <td>0.30</td>\n",
       "      <td>20.16</td>\n",
       "      <td>1</td>\n",
       "      <td>1.0</td>\n",
       "      <td>None</td>\n",
       "    </tr>\n",
       "    <tr>\n",
       "      <th>2016-02-01 00:36:25</th>\n",
       "      <td>2</td>\n",
       "      <td>2016-02-01 00:40:10</td>\n",
       "      <td>N</td>\n",
       "      <td>1</td>\n",
       "      <td>77</td>\n",
       "      <td>39</td>\n",
       "      <td>1</td>\n",
       "      <td>1.04</td>\n",
       "      <td>5.50</td>\n",
       "      <td>0.5</td>\n",
       "      <td>0.5</td>\n",
       "      <td>0.00</td>\n",
       "      <td>0.0</td>\n",
       "      <td>None</td>\n",
       "      <td>0.30</td>\n",
       "      <td>6.80</td>\n",
       "      <td>2</td>\n",
       "      <td>1.0</td>\n",
       "      <td>None</td>\n",
       "    </tr>\n",
       "    <tr>\n",
       "      <th>2016-02-01 00:06:28</th>\n",
       "      <td>2</td>\n",
       "      <td>2016-02-01 00:17:09</td>\n",
       "      <td>N</td>\n",
       "      <td>1</td>\n",
       "      <td>80</td>\n",
       "      <td>52</td>\n",
       "      <td>1</td>\n",
       "      <td>5.18</td>\n",
       "      <td>16.00</td>\n",
       "      <td>0.5</td>\n",
       "      <td>0.5</td>\n",
       "      <td>0.00</td>\n",
       "      <td>0.0</td>\n",
       "      <td>None</td>\n",
       "      <td>0.30</td>\n",
       "      <td>17.30</td>\n",
       "      <td>2</td>\n",
       "      <td>1.0</td>\n",
       "      <td>None</td>\n",
       "    </tr>\n",
       "  </tbody>\n",
       "</table>\n",
       "</div>"
      ],
      "text/plain": [
       "                      VendorID lpep_dropoff_datetime store_and_fwd_flag  \\\n",
       "lpep_pickup_datetime                                                      \n",
       "2016-02-01 00:11:39          2   2016-02-01 00:22:25                  N   \n",
       "2016-02-01 00:44:47          2   2016-02-01 00:51:57                  N   \n",
       "2016-02-01 00:10:55          2   2016-02-01 00:35:08                  N   \n",
       "2016-02-01 00:36:25          2   2016-02-01 00:40:10                  N   \n",
       "2016-02-01 00:06:28          2   2016-02-01 00:17:09                  N   \n",
       "\n",
       "                      RatecodeID  PULocationID  DOLocationID  passenger_count  \\\n",
       "lpep_pickup_datetime                                                            \n",
       "2016-02-01 00:11:39            1           265           265                1   \n",
       "2016-02-01 00:44:47            1           265           265                1   \n",
       "2016-02-01 00:10:55            1           225            77                1   \n",
       "2016-02-01 00:36:25            1            77            39                1   \n",
       "2016-02-01 00:06:28            1            80            52                1   \n",
       "\n",
       "                      trip_distance  fare_amount  extra  mta_tax  tip_amount  \\\n",
       "lpep_pickup_datetime                                                           \n",
       "2016-02-01 00:11:39            3.80        15.23    0.0      0.0        0.00   \n",
       "2016-02-01 00:44:47            1.50         8.79    0.0      0.0        0.00   \n",
       "2016-02-01 00:10:55            3.84        15.50    0.5      0.5        3.36   \n",
       "2016-02-01 00:36:25            1.04         5.50    0.5      0.5        0.00   \n",
       "2016-02-01 00:06:28            5.18        16.00    0.5      0.5        0.00   \n",
       "\n",
       "                      tolls_amount ehail_fee  improvement_surcharge  \\\n",
       "lpep_pickup_datetime                                                  \n",
       "2016-02-01 00:11:39            0.0      None                   0.46   \n",
       "2016-02-01 00:44:47            0.0      None                   0.26   \n",
       "2016-02-01 00:10:55            0.0      None                   0.30   \n",
       "2016-02-01 00:36:25            0.0      None                   0.30   \n",
       "2016-02-01 00:06:28            0.0      None                   0.30   \n",
       "\n",
       "                      total_amount  payment_type  trip_type  \\\n",
       "lpep_pickup_datetime                                          \n",
       "2016-02-01 00:11:39          15.69             2        1.0   \n",
       "2016-02-01 00:44:47           9.05             2        1.0   \n",
       "2016-02-01 00:10:55          20.16             1        1.0   \n",
       "2016-02-01 00:36:25           6.80             2        1.0   \n",
       "2016-02-01 00:06:28          17.30             2        1.0   \n",
       "\n",
       "                     congestion_surcharge  \n",
       "lpep_pickup_datetime                       \n",
       "2016-02-01 00:11:39                  None  \n",
       "2016-02-01 00:44:47                  None  \n",
       "2016-02-01 00:10:55                  None  \n",
       "2016-02-01 00:36:25                  None  \n",
       "2016-02-01 00:06:28                  None  "
      ]
     },
     "execution_count": 6,
     "metadata": {},
     "output_type": "execute_result"
    }
   ],
   "source": [
    "# To have an easier time dealing with time-series data, I always use DateTimeIndex\n",
    "trip_data = trip_data.set_index('lpep_pickup_datetime') # can also use inplace=True\n",
    "trip_data.head()"
   ]
  },
  {
   "cell_type": "markdown",
   "metadata": {},
   "source": [
    "Making sure as well that we are in eastern timezone because the data is from NYC, convert the date-time index:"
   ]
  },
  {
   "cell_type": "code",
   "execution_count": 7,
   "metadata": {},
   "outputs": [
    {
     "data": {
      "text/plain": [
       "datetime64[us, US/Eastern]"
      ]
     },
     "execution_count": 7,
     "metadata": {},
     "output_type": "execute_result"
    }
   ],
   "source": [
    "trip_data.index = trip_data.index.tz_localize(pytz.utc).tz_convert('US/Eastern')\n",
    "trip_data.index.dtype"
   ]
  },
  {
   "cell_type": "markdown",
   "metadata": {},
   "source": [
    "Next is to convert miles to kilometers:"
   ]
  },
  {
   "cell_type": "code",
   "execution_count": 8,
   "metadata": {},
   "outputs": [
    {
     "data": {
      "text/html": [
       "<div>\n",
       "<style scoped>\n",
       "    .dataframe tbody tr th:only-of-type {\n",
       "        vertical-align: middle;\n",
       "    }\n",
       "\n",
       "    .dataframe tbody tr th {\n",
       "        vertical-align: top;\n",
       "    }\n",
       "\n",
       "    .dataframe thead th {\n",
       "        text-align: right;\n",
       "    }\n",
       "</style>\n",
       "<table border=\"1\" class=\"dataframe\">\n",
       "  <thead>\n",
       "    <tr style=\"text-align: right;\">\n",
       "      <th></th>\n",
       "      <th>trip_distance_km</th>\n",
       "      <th>trip_distance</th>\n",
       "    </tr>\n",
       "    <tr>\n",
       "      <th>lpep_pickup_datetime</th>\n",
       "      <th></th>\n",
       "      <th></th>\n",
       "    </tr>\n",
       "  </thead>\n",
       "  <tbody>\n",
       "    <tr>\n",
       "      <th>2016-01-31 19:11:39-05:00</th>\n",
       "      <td>6.115507</td>\n",
       "      <td>3.80</td>\n",
       "    </tr>\n",
       "    <tr>\n",
       "      <th>2016-01-31 19:44:47-05:00</th>\n",
       "      <td>2.414016</td>\n",
       "      <td>1.50</td>\n",
       "    </tr>\n",
       "    <tr>\n",
       "      <th>2016-01-31 19:10:55-05:00</th>\n",
       "      <td>6.179881</td>\n",
       "      <td>3.84</td>\n",
       "    </tr>\n",
       "    <tr>\n",
       "      <th>2016-01-31 19:36:25-05:00</th>\n",
       "      <td>1.673718</td>\n",
       "      <td>1.04</td>\n",
       "    </tr>\n",
       "    <tr>\n",
       "      <th>2016-01-31 19:06:28-05:00</th>\n",
       "      <td>8.336402</td>\n",
       "      <td>5.18</td>\n",
       "    </tr>\n",
       "  </tbody>\n",
       "</table>\n",
       "</div>"
      ],
      "text/plain": [
       "                           trip_distance_km  trip_distance\n",
       "lpep_pickup_datetime                                      \n",
       "2016-01-31 19:11:39-05:00          6.115507           3.80\n",
       "2016-01-31 19:44:47-05:00          2.414016           1.50\n",
       "2016-01-31 19:10:55-05:00          6.179881           3.84\n",
       "2016-01-31 19:36:25-05:00          1.673718           1.04\n",
       "2016-01-31 19:06:28-05:00          8.336402           5.18"
      ]
     },
     "execution_count": 8,
     "metadata": {},
     "output_type": "execute_result"
    }
   ],
   "source": [
    "km_constant = 1.609344 # 1 mile  = 1.609344km\n",
    "\n",
    "trip_data['trip_distance_km'] = trip_data['trip_distance'] * km_constant\n",
    "trip_data[['trip_distance_km', 'trip_distance']].head()"
   ]
  },
  {
   "cell_type": "markdown",
   "metadata": {},
   "source": [
    "*For a non forecasting models, after reviewing the data dictionary, and consulting some concerns with the client, I always perform the univariate, bivariate, and multivariate analysis to the variables of interest.*"
   ]
  },
  {
   "cell_type": "markdown",
   "metadata": {},
   "source": [
    "As the last step in exploring the data, I also add below the descriptive statistics:"
   ]
  },
  {
   "cell_type": "code",
   "execution_count": 9,
   "metadata": {},
   "outputs": [
    {
     "data": {
      "text/html": [
       "<div>\n",
       "<style scoped>\n",
       "    .dataframe tbody tr th:only-of-type {\n",
       "        vertical-align: middle;\n",
       "    }\n",
       "\n",
       "    .dataframe tbody tr th {\n",
       "        vertical-align: top;\n",
       "    }\n",
       "\n",
       "    .dataframe thead th {\n",
       "        text-align: right;\n",
       "    }\n",
       "</style>\n",
       "<table border=\"1\" class=\"dataframe\">\n",
       "  <thead>\n",
       "    <tr style=\"text-align: right;\">\n",
       "      <th></th>\n",
       "      <th>count</th>\n",
       "      <th>mean</th>\n",
       "      <th>min</th>\n",
       "      <th>25%</th>\n",
       "      <th>50%</th>\n",
       "      <th>75%</th>\n",
       "      <th>max</th>\n",
       "      <th>std</th>\n",
       "    </tr>\n",
       "  </thead>\n",
       "  <tbody>\n",
       "    <tr>\n",
       "      <th>VendorID</th>\n",
       "      <td>1510722.0</td>\n",
       "      <td>1.785149</td>\n",
       "      <td>1.0</td>\n",
       "      <td>2.0</td>\n",
       "      <td>2.0</td>\n",
       "      <td>2.0</td>\n",
       "      <td>2.0</td>\n",
       "      <td>0.410719</td>\n",
       "    </tr>\n",
       "    <tr>\n",
       "      <th>lpep_dropoff_datetime</th>\n",
       "      <td>1510722</td>\n",
       "      <td>2016-02-15 20:54:57.890165</td>\n",
       "      <td>2016-02-01 00:01:04</td>\n",
       "      <td>2016-02-08 15:39:11.250000</td>\n",
       "      <td>2016-02-15 15:20:05</td>\n",
       "      <td>2016-02-22 22:50:14.250000</td>\n",
       "      <td>2016-03-01 23:47:15</td>\n",
       "      <td>NaN</td>\n",
       "    </tr>\n",
       "    <tr>\n",
       "      <th>RatecodeID</th>\n",
       "      <td>1510722.0</td>\n",
       "      <td>1.09133</td>\n",
       "      <td>1.0</td>\n",
       "      <td>1.0</td>\n",
       "      <td>1.0</td>\n",
       "      <td>1.0</td>\n",
       "      <td>99.0</td>\n",
       "      <td>0.613795</td>\n",
       "    </tr>\n",
       "    <tr>\n",
       "      <th>PULocationID</th>\n",
       "      <td>1510722.0</td>\n",
       "      <td>115.628077</td>\n",
       "      <td>1.0</td>\n",
       "      <td>49.0</td>\n",
       "      <td>92.0</td>\n",
       "      <td>179.0</td>\n",
       "      <td>265.0</td>\n",
       "      <td>77.320613</td>\n",
       "    </tr>\n",
       "    <tr>\n",
       "      <th>DOLocationID</th>\n",
       "      <td>1510722.0</td>\n",
       "      <td>129.730622</td>\n",
       "      <td>1.0</td>\n",
       "      <td>61.0</td>\n",
       "      <td>129.0</td>\n",
       "      <td>193.0</td>\n",
       "      <td>265.0</td>\n",
       "      <td>77.34236</td>\n",
       "    </tr>\n",
       "    <tr>\n",
       "      <th>passenger_count</th>\n",
       "      <td>1510722.0</td>\n",
       "      <td>1.352398</td>\n",
       "      <td>0.0</td>\n",
       "      <td>1.0</td>\n",
       "      <td>1.0</td>\n",
       "      <td>1.0</td>\n",
       "      <td>9.0</td>\n",
       "      <td>1.019621</td>\n",
       "    </tr>\n",
       "    <tr>\n",
       "      <th>trip_distance</th>\n",
       "      <td>1510722.0</td>\n",
       "      <td>2.733117</td>\n",
       "      <td>0.0</td>\n",
       "      <td>1.0</td>\n",
       "      <td>1.8</td>\n",
       "      <td>3.44</td>\n",
       "      <td>235.5</td>\n",
       "      <td>2.84441</td>\n",
       "    </tr>\n",
       "    <tr>\n",
       "      <th>fare_amount</th>\n",
       "      <td>1510722.0</td>\n",
       "      <td>11.748562</td>\n",
       "      <td>-400.0</td>\n",
       "      <td>6.0</td>\n",
       "      <td>9.0</td>\n",
       "      <td>14.5</td>\n",
       "      <td>933.5</td>\n",
       "      <td>9.39757</td>\n",
       "    </tr>\n",
       "    <tr>\n",
       "      <th>extra</th>\n",
       "      <td>1510722.0</td>\n",
       "      <td>0.349822</td>\n",
       "      <td>-4.5</td>\n",
       "      <td>0.0</td>\n",
       "      <td>0.5</td>\n",
       "      <td>0.5</td>\n",
       "      <td>4.5</td>\n",
       "      <td>0.381864</td>\n",
       "    </tr>\n",
       "    <tr>\n",
       "      <th>mta_tax</th>\n",
       "      <td>1510722.0</td>\n",
       "      <td>0.486959</td>\n",
       "      <td>-0.5</td>\n",
       "      <td>0.5</td>\n",
       "      <td>0.5</td>\n",
       "      <td>0.5</td>\n",
       "      <td>3.0</td>\n",
       "      <td>0.087901</td>\n",
       "    </tr>\n",
       "    <tr>\n",
       "      <th>tip_amount</th>\n",
       "      <td>1510722.0</td>\n",
       "      <td>1.225782</td>\n",
       "      <td>-10.0</td>\n",
       "      <td>0.0</td>\n",
       "      <td>0.0</td>\n",
       "      <td>2.0</td>\n",
       "      <td>400.0</td>\n",
       "      <td>2.42573</td>\n",
       "    </tr>\n",
       "    <tr>\n",
       "      <th>tolls_amount</th>\n",
       "      <td>1510722.0</td>\n",
       "      <td>0.101732</td>\n",
       "      <td>-12.5</td>\n",
       "      <td>0.0</td>\n",
       "      <td>0.0</td>\n",
       "      <td>0.0</td>\n",
       "      <td>902.17</td>\n",
       "      <td>1.357322</td>\n",
       "    </tr>\n",
       "    <tr>\n",
       "      <th>improvement_surcharge</th>\n",
       "      <td>1510722.0</td>\n",
       "      <td>0.292185</td>\n",
       "      <td>-0.3</td>\n",
       "      <td>0.3</td>\n",
       "      <td>0.3</td>\n",
       "      <td>0.3</td>\n",
       "      <td>1.77</td>\n",
       "      <td>0.051294</td>\n",
       "    </tr>\n",
       "    <tr>\n",
       "      <th>total_amount</th>\n",
       "      <td>1510722.0</td>\n",
       "      <td>14.20499</td>\n",
       "      <td>-400.0</td>\n",
       "      <td>7.8</td>\n",
       "      <td>11.0</td>\n",
       "      <td>17.16</td>\n",
       "      <td>1121.16</td>\n",
       "      <td>10.879686</td>\n",
       "    </tr>\n",
       "    <tr>\n",
       "      <th>payment_type</th>\n",
       "      <td>1510722.0</td>\n",
       "      <td>1.508749</td>\n",
       "      <td>1.0</td>\n",
       "      <td>1.0</td>\n",
       "      <td>1.0</td>\n",
       "      <td>2.0</td>\n",
       "      <td>5.0</td>\n",
       "      <td>0.525572</td>\n",
       "    </tr>\n",
       "    <tr>\n",
       "      <th>trip_type</th>\n",
       "      <td>1510720.0</td>\n",
       "      <td>1.021434</td>\n",
       "      <td>1.0</td>\n",
       "      <td>1.0</td>\n",
       "      <td>1.0</td>\n",
       "      <td>1.0</td>\n",
       "      <td>2.0</td>\n",
       "      <td>0.144827</td>\n",
       "    </tr>\n",
       "    <tr>\n",
       "      <th>trip_distance_km</th>\n",
       "      <td>1510722.0</td>\n",
       "      <td>4.398525</td>\n",
       "      <td>0.0</td>\n",
       "      <td>1.609344</td>\n",
       "      <td>2.896819</td>\n",
       "      <td>5.536143</td>\n",
       "      <td>379.000512</td>\n",
       "      <td>4.577634</td>\n",
       "    </tr>\n",
       "  </tbody>\n",
       "</table>\n",
       "</div>"
      ],
      "text/plain": [
       "                           count                        mean  \\\n",
       "VendorID               1510722.0                    1.785149   \n",
       "lpep_dropoff_datetime    1510722  2016-02-15 20:54:57.890165   \n",
       "RatecodeID             1510722.0                     1.09133   \n",
       "PULocationID           1510722.0                  115.628077   \n",
       "DOLocationID           1510722.0                  129.730622   \n",
       "passenger_count        1510722.0                    1.352398   \n",
       "trip_distance          1510722.0                    2.733117   \n",
       "fare_amount            1510722.0                   11.748562   \n",
       "extra                  1510722.0                    0.349822   \n",
       "mta_tax                1510722.0                    0.486959   \n",
       "tip_amount             1510722.0                    1.225782   \n",
       "tolls_amount           1510722.0                    0.101732   \n",
       "improvement_surcharge  1510722.0                    0.292185   \n",
       "total_amount           1510722.0                    14.20499   \n",
       "payment_type           1510722.0                    1.508749   \n",
       "trip_type              1510720.0                    1.021434   \n",
       "trip_distance_km       1510722.0                    4.398525   \n",
       "\n",
       "                                       min                         25%  \\\n",
       "VendorID                               1.0                         2.0   \n",
       "lpep_dropoff_datetime  2016-02-01 00:01:04  2016-02-08 15:39:11.250000   \n",
       "RatecodeID                             1.0                         1.0   \n",
       "PULocationID                           1.0                        49.0   \n",
       "DOLocationID                           1.0                        61.0   \n",
       "passenger_count                        0.0                         1.0   \n",
       "trip_distance                          0.0                         1.0   \n",
       "fare_amount                         -400.0                         6.0   \n",
       "extra                                 -4.5                         0.0   \n",
       "mta_tax                               -0.5                         0.5   \n",
       "tip_amount                           -10.0                         0.0   \n",
       "tolls_amount                         -12.5                         0.0   \n",
       "improvement_surcharge                 -0.3                         0.3   \n",
       "total_amount                        -400.0                         7.8   \n",
       "payment_type                           1.0                         1.0   \n",
       "trip_type                              1.0                         1.0   \n",
       "trip_distance_km                       0.0                    1.609344   \n",
       "\n",
       "                                       50%                         75%  \\\n",
       "VendorID                               2.0                         2.0   \n",
       "lpep_dropoff_datetime  2016-02-15 15:20:05  2016-02-22 22:50:14.250000   \n",
       "RatecodeID                             1.0                         1.0   \n",
       "PULocationID                          92.0                       179.0   \n",
       "DOLocationID                         129.0                       193.0   \n",
       "passenger_count                        1.0                         1.0   \n",
       "trip_distance                          1.8                        3.44   \n",
       "fare_amount                            9.0                        14.5   \n",
       "extra                                  0.5                         0.5   \n",
       "mta_tax                                0.5                         0.5   \n",
       "tip_amount                             0.0                         2.0   \n",
       "tolls_amount                           0.0                         0.0   \n",
       "improvement_surcharge                  0.3                         0.3   \n",
       "total_amount                          11.0                       17.16   \n",
       "payment_type                           1.0                         2.0   \n",
       "trip_type                              1.0                         1.0   \n",
       "trip_distance_km                  2.896819                    5.536143   \n",
       "\n",
       "                                       max        std  \n",
       "VendorID                               2.0   0.410719  \n",
       "lpep_dropoff_datetime  2016-03-01 23:47:15        NaN  \n",
       "RatecodeID                            99.0   0.613795  \n",
       "PULocationID                         265.0  77.320613  \n",
       "DOLocationID                         265.0   77.34236  \n",
       "passenger_count                        9.0   1.019621  \n",
       "trip_distance                        235.5    2.84441  \n",
       "fare_amount                          933.5    9.39757  \n",
       "extra                                  4.5   0.381864  \n",
       "mta_tax                                3.0   0.087901  \n",
       "tip_amount                           400.0    2.42573  \n",
       "tolls_amount                        902.17   1.357322  \n",
       "improvement_surcharge                 1.77   0.051294  \n",
       "total_amount                       1121.16  10.879686  \n",
       "payment_type                           5.0   0.525572  \n",
       "trip_type                              2.0   0.144827  \n",
       "trip_distance_km                379.000512   4.577634  "
      ]
     },
     "execution_count": 9,
     "metadata": {},
     "output_type": "execute_result"
    }
   ],
   "source": [
    "trip_data.describe().T"
   ]
  },
  {
   "cell_type": "markdown",
   "metadata": {},
   "source": [
    "This table presents a descriptive statistical summary of the data, allowing us to check for any irregularities, skewness, etc. For instance, a value of 999 might indicate an error. Fortunately, there doesn't appear to be any such errors in the data. However, we see that there's a negative fare, which is quite questionable."
   ]
  },
  {
   "cell_type": "markdown",
   "metadata": {},
   "source": [
    "## 2. Visualise the trip distance by time of day and report on any observations."
   ]
  },
  {
   "cell_type": "code",
   "execution_count": 10,
   "metadata": {},
   "outputs": [
    {
     "data": {
      "image/png": "[encoded data removed]",
      "text/plain": [
       "<Figure size 640x480 with 1 Axes>"
      ]
     },
     "metadata": {},
     "output_type": "display_data"
    },
    {
     "name": "stdout",
     "output_type": "stream",
     "text": [
      "Figure 1: Trip Distance (KM) by Time of Day\n"
     ]
    }
   ],
   "source": [
    "# this code has been stored in the folder ./forecasting/plotting.py\n",
    "datetime_line_plot(trip_data,\n",
    "                   'trip_distance_km',\n",
    "                   plot_title_name = 'Trip Distance (KM) by Time of Day', \n",
    "                   plot_xlabel_name= 'Date and Time', \n",
    "                   plot_ylabel_name= 'Trip Distance in Kilometers')\n",
    "print(\"Figure 1: Trip Distance (KM) by Time of Day\")"
   ]
  },
  {
   "cell_type": "markdown",
   "metadata": {},
   "source": [
    "Without downsampling the data (averaging the trip distance per hour), we can see outliers in the first week of February. There are also longer trips in the middle of the month, which could mean that people tend to have longer trips on salary day/pay day (Assuming the payday are every 15th and 30th of the month), as stated in the NYC labor law: https://dol.ny.gov/frequency-pay, which mandates that clerical and other workers are paid at least twice per month."
   ]
  },
  {
   "cell_type": "markdown",
   "metadata": {},
   "source": [
    "Plotting the average hourly trip:"
   ]
  },
  {
   "cell_type": "code",
   "execution_count": 11,
   "metadata": {},
   "outputs": [
    {
     "data": {
      "image/png": "[encoded data removed]",
      "text/plain": [
       "<Figure size 640x480 with 1 Axes>"
      ]
     },
     "metadata": {},
     "output_type": "display_data"
    },
    {
     "name": "stdout",
     "output_type": "stream",
     "text": [
      "Figure 2: Average Hourly Trip Distance (KM) by Time of Day\n"
     ]
    }
   ],
   "source": [
    "datetime_line_plot(trip_data,\n",
    "                   'trip_distance_km',\n",
    "                   freq='h',\n",
    "                   plot_title_name = 'Average Hourly Trip Distance (KM) by Time of Day', \n",
    "                   plot_xlabel_name= 'Date and Time', \n",
    "                   plot_ylabel_name= 'Trip Distance in Kilometers')\n",
    "print(\"Figure 2: Average Hourly Trip Distance (KM) by Time of Day\")"
   ]
  },
  {
   "cell_type": "markdown",
   "metadata": {},
   "source": [
    "We can observe that our trip is somehow stationary, which is what we need to consider when forecasting using ARIMA models. (But this will not be modeled, since the number of trips will be forecasted not the Hourly Distance)\n",
    "\n",
    "The created `datetime_line_plot` function has a `make_interactive` parameter to look at the line plot in more detail."
   ]
  },
  {
   "cell_type": "code",
   "execution_count": 36,
   "metadata": {},
   "outputs": [
    {
     "data": {
      "application/vnd.plotly.v1+json": {
       "config": {
        "plotlyServerURL": "https://plot.ly"
       },
       "data": [
        {
         "hovertemplate": "Date and Time=%{x}<br>Trip Distance in Kilometers=%{y}<extra></extra>",
         "legendgroup": "",
         "line": {
          "color": "#636efa",
          "dash": "solid"
         },
         "marker": {
          "symbol": "circle"
         },
         "mode": "lines",
         "name": "",
         "orientation": "v",
         "showlegend": false,
         "type": "scatter",
         "x": [
          "2016-01-31T19:00:00-05:00",
          "2016-01-31T20:00:00-05:00",
          "2016-01-31T21:00:00-05:00",
          "2016-01-31T22:00:00-05:00",
          "2016-01-31T23:00:00-05:00",
          "2016-02-01T00:00:00-05:00",
          "2016-02-01T01:00:00-05:00",
          "2016-02-01T02:00:00-05:00",
          "2016-02-01T03:00:00-05:00",
          "2016-02-01T04:00:00-05:00",
          "2016-02-01T05:00:00-05:00",
          "2016-02-01T06:00:00-05:00",
          "2016-02-01T07:00:00-05:00",
          "2016-02-01T08:00:00-05:00",
          "2016-02-01T09:00:00-05:00",
          "2016-02-01T10:00:00-05:00",
          "2016-02-01T11:00:00-05:00",
          "2016-02-01T12:00:00-05:00",
          "2016-02-01T13:00:00-05:00",
          "2016-02-01T14:00:00-05:00",
          "2016-02-01T15:00:00-05:00",
          "2016-02-01T16:00:00-05:00",
          "2016-02-01T17:00:00-05:00",
          "2016-02-01T18:00:00-05:00",
          "2016-02-01T19:00:00-05:00",
          "2016-02-01T20:00:00-05:00",
          "2016-02-01T21:00:00-05:00",
          "2016-02-01T22:00:00-05:00",
          "2016-02-01T23:00:00-05:00",
          "2016-02-02T00:00:00-05:00",
          "2016-02-02T01:00:00-05:00",
          "2016-02-02T02:00:00-05:00",
          "2016-02-02T03:00:00-05:00",
          "2016-02-02T04:00:00-05:00",
          "2016-02-02T05:00:00-05:00",
          "2016-02-02T06:00:00-05:00",
          "2016-02-02T07:00:00-05:00",
          "2016-02-02T08:00:00-05:00",
          "2016-02-02T09:00:00-05:00",
          "2016-02-02T10:00:00-05:00",
          "2016-02-02T11:00:00-05:00",
          "2016-02-02T12:00:00-05:00",
          "2016-02-02T13:00:00-05:00",
          "2016-02-02T14:00:00-05:00",
          "2016-02-02T15:00:00-05:00",
          "2016-02-02T16:00:00-05:00",
          "2016-02-02T17:00:00-05:00",
          "2016-02-02T18:00:00-05:00",
          "2016-02-02T19:00:00-05:00",
          "2016-02-02T20:00:00-05:00",
          "2016-02-02T21:00:00-05:00",
          "2016-02-02T22:00:00-05:00",
          "2016-02-02T23:00:00-05:00",
          "2016-02-03T00:00:00-05:00",
          "2016-02-03T01:00:00-05:00",
          "2016-02-03T02:00:00-05:00",
          "2016-02-03T03:00:00-05:00",
          "2016-02-03T04:00:00-05:00",
          "2016-02-03T05:00:00-05:00",
          "2016-02-03T06:00:00-05:00",
          "2016-02-03T07:00:00-05:00",
          "2016-02-03T08:00:00-05:00",
          "2016-02-03T09:00:00-05:00",
          "2016-02-03T10:00:00-05:00",
          "2016-02-03T11:00:00-05:00",
          "2016-02-03T12:00:00-05:00",
          "2016-02-03T13:00:00-05:00",
          "2016-02-03T14:00:00-05:00",
          "2016-02-03T15:00:00-05:00",
          "2016-02-03T16:00:00-05:00",
          "2016-02-03T17:00:00-05:00",
          "2016-02-03T18:00:00-05:00",
          "2016-02-03T19:00:00-05:00",
          "2016-02-03T20:00:00-05:00",
          "2016-02-03T21:00:00-05:00",
          "2016-02-03T22:00:00-05:00",
          "2016-02-03T23:00:00-05:00",
          "2016-02-04T00:00:00-05:00",
          "2016-02-04T01:00:00-05:00",
          "2016-02-04T02:00:00-05:00",
          "2016-02-04T03:00:00-05:00",
          "2016-02-04T04:00:00-05:00",
          "2016-02-04T05:00:00-05:00",
          "2016-02-04T06:00:00-05:00",
          "2016-02-04T07:00:00-05:00",
          "2016-02-04T08:00:00-05:00",
          "2016-02-04T09:00:00-05:00",
          "2016-02-04T10:00:00-05:00",
          "2016-02-04T11:00:00-05:00",
          "2016-02-04T12:00:00-05:00",
          "2016-02-04T13:00:00-05:00",
          "2016-02-04T14:00:00-05:00",
          "2016-02-04T15:00:00-05:00",
          "2016-02-04T16:00:00-05:00",
          "2016-02-04T17:00:00-05:00",
          "2016-02-04T18:00:00-05:00",
          "2016-02-04T19:00:00-05:00",
          "2016-02-04T20:00:00-05:00",
          "2016-02-04T21:00:00-05:00",
          "2016-02-04T22:00:00-05:00",
          "2016-02-04T23:00:00-05:00",
          "2016-02-05T00:00:00-05:00",
          "2016-02-05T01:00:00-05:00",
          "2016-02-05T02:00:00-05:00",
          "2016-02-05T03:00:00-05:00",
          "2016-02-05T04:00:00-05:00",
          "2016-02-05T05:00:00-05:00",
          "2016-02-05T06:00:00-05:00",
          "2016-02-05T07:00:00-05:00",
          "2016-02-05T08:00:00-05:00",
          "2016-02-05T09:00:00-05:00",
          "2016-02-05T10:00:00-05:00",
          "2016-02-05T11:00:00-05:00",
          "2016-02-05T12:00:00-05:00",
          "2016-02-05T13:00:00-05:00",
          "2016-02-05T14:00:00-05:00",
          "2016-02-05T15:00:00-05:00",
          "2016-02-05T16:00:00-05:00",
          "2016-02-05T17:00:00-05:00",
          "2016-02-05T18:00:00-05:00",
          "2016-02-05T19:00:00-05:00",
          "2016-02-05T20:00:00-05:00",
          "2016-02-05T21:00:00-05:00",
          "2016-02-05T22:00:00-05:00",
          "2016-02-05T23:00:00-05:00",
          "2016-02-06T00:00:00-05:00",
          "2016-02-06T01:00:00-05:00",
          "2016-02-06T02:00:00-05:00",
          "2016-02-06T03:00:00-05:00",
          "2016-02-06T04:00:00-05:00",
          "2016-02-06T05:00:00-05:00",
          "2016-02-06T06:00:00-05:00",
          "2016-02-06T07:00:00-05:00",
          "2016-02-06T08:00:00-05:00",
          "2016-02-06T09:00:00-05:00",
          "2016-02-06T10:00:00-05:00",
          "2016-02-06T11:00:00-05:00",
          "2016-02-06T12:00:00-05:00",
          "2016-02-06T13:00:00-05:00",
          "2016-02-06T14:00:00-05:00",
          "2016-02-06T15:00:00-05:00",
          "2016-02-06T16:00:00-05:00",
          "2016-02-06T17:00:00-05:00",
          "2016-02-06T18:00:00-05:00",
          "2016-02-06T19:00:00-05:00",
          "2016-02-06T20:00:00-05:00",
          "2016-02-06T21:00:00-05:00",
          "2016-02-06T22:00:00-05:00",
          "2016-02-06T23:00:00-05:00",
          "2016-02-07T00:00:00-05:00",
          "2016-02-07T01:00:00-05:00",
          "2016-02-07T02:00:00-05:00",
          "2016-02-07T03:00:00-05:00",
          "2016-02-07T04:00:00-05:00",
          "2016-02-07T05:00:00-05:00",
          "2016-02-07T06:00:00-05:00",
          "2016-02-07T07:00:00-05:00",
          "2016-02-07T08:00:00-05:00",
          "2016-02-07T09:00:00-05:00",
          "2016-02-07T10:00:00-05:00",
          "2016-02-07T11:00:00-05:00",
          "2016-02-07T12:00:00-05:00",
          "2016-02-07T13:00:00-05:00",
          "2016-02-07T14:00:00-05:00",
          "2016-02-07T15:00:00-05:00",
          "2016-02-07T16:00:00-05:00",
          "2016-02-07T17:00:00-05:00",
          "2016-02-07T18:00:00-05:00",
          "2016-02-07T19:00:00-05:00",
          "2016-02-07T20:00:00-05:00",
          "2016-02-07T21:00:00-05:00",
          "2016-02-07T22:00:00-05:00",
          "2016-02-07T23:00:00-05:00",
          "2016-02-08T00:00:00-05:00",
          "2016-02-08T01:00:00-05:00",
          "2016-02-08T02:00:00-05:00",
          "2016-02-08T03:00:00-05:00",
          "2016-02-08T04:00:00-05:00",
          "2016-02-08T05:00:00-05:00",
          "2016-02-08T06:00:00-05:00",
          "2016-02-08T07:00:00-05:00",
          "2016-02-08T08:00:00-05:00",
          "2016-02-08T09:00:00-05:00",
          "2016-02-08T10:00:00-05:00",
          "2016-02-08T11:00:00-05:00",
          "2016-02-08T12:00:00-05:00",
          "2016-02-08T13:00:00-05:00",
          "2016-02-08T14:00:00-05:00",
          "2016-02-08T15:00:00-05:00",
          "2016-02-08T16:00:00-05:00",
          "2016-02-08T17:00:00-05:00",
          "2016-02-08T18:00:00-05:00",
          "2016-02-08T19:00:00-05:00",
          "2016-02-08T20:00:00-05:00",
          "2016-02-08T21:00:00-05:00",
          "2016-02-08T22:00:00-05:00",
          "2016-02-08T23:00:00-05:00",
          "2016-02-09T00:00:00-05:00",
          "2016-02-09T01:00:00-05:00",
          "2016-02-09T02:00:00-05:00",
          "2016-02-09T03:00:00-05:00",
          "2016-02-09T04:00:00-05:00",
          "2016-02-09T05:00:00-05:00",
          "2016-02-09T06:00:00-05:00",
          "2016-02-09T07:00:00-05:00",
          "2016-02-09T08:00:00-05:00",
          "2016-02-09T09:00:00-05:00",
          "2016-02-09T10:00:00-05:00",
          "2016-02-09T11:00:00-05:00",
          "2016-02-09T12:00:00-05:00",
          "2016-02-09T13:00:00-05:00",
          "2016-02-09T14:00:00-05:00",
          "2016-02-09T15:00:00-05:00",
          "2016-02-09T16:00:00-05:00",
          "2016-02-09T17:00:00-05:00",
          "2016-02-09T18:00:00-05:00",
          "2016-02-09T19:00:00-05:00",
          "2016-02-09T20:00:00-05:00",
          "2016-02-09T21:00:00-05:00",
          "2016-02-09T22:00:00-05:00",
          "2016-02-09T23:00:00-05:00",
          "2016-02-10T00:00:00-05:00",
          "2016-02-10T01:00:00-05:00",
          "2016-02-10T02:00:00-05:00",
          "2016-02-10T03:00:00-05:00",
          "2016-02-10T04:00:00-05:00",
          "2016-02-10T05:00:00-05:00",
          "2016-02-10T06:00:00-05:00",
          "2016-02-10T07:00:00-05:00",
          "2016-02-10T08:00:00-05:00",
          "2016-02-10T09:00:00-05:00",
          "2016-02-10T10:00:00-05:00",
          "2016-02-10T11:00:00-05:00",
          "2016-02-10T12:00:00-05:00",
          "2016-02-10T13:00:00-05:00",
          "2016-02-10T14:00:00-05:00",
          "2016-02-10T15:00:00-05:00",
          "2016-02-10T16:00:00-05:00",
          "2016-02-10T17:00:00-05:00",
          "2016-02-10T18:00:00-05:00",
          "2016-02-10T19:00:00-05:00",
          "2016-02-10T20:00:00-05:00",
          "2016-02-10T21:00:00-05:00",
          "2016-02-10T22:00:00-05:00",
          "2016-02-10T23:00:00-05:00",
          "2016-02-11T00:00:00-05:00",
          "2016-02-11T01:00:00-05:00",
          "2016-02-11T02:00:00-05:00",
          "2016-02-11T03:00:00-05:00",
          "2016-02-11T04:00:00-05:00",
          "2016-02-11T05:00:00-05:00",
          "2016-02-11T06:00:00-05:00",
          "2016-02-11T07:00:00-05:00",
          "2016-02-11T08:00:00-05:00",
          "2016-02-11T09:00:00-05:00",
          "2016-02-11T10:00:00-05:00",
          "2016-02-11T11:00:00-05:00",
          "2016-02-11T12:00:00-05:00",
          "2016-02-11T13:00:00-05:00",
          "2016-02-11T14:00:00-05:00",
          "2016-02-11T15:00:00-05:00",
          "2016-02-11T16:00:00-05:00",
          "2016-02-11T17:00:00-05:00",
          "2016-02-11T18:00:00-05:00",
          "2016-02-11T19:00:00-05:00",
          "2016-02-11T20:00:00-05:00",
          "2016-02-11T21:00:00-05:00",
          "2016-02-11T22:00:00-05:00",
          "2016-02-11T23:00:00-05:00",
          "2016-02-12T00:00:00-05:00",
          "2016-02-12T01:00:00-05:00",
          "2016-02-12T02:00:00-05:00",
          "2016-02-12T03:00:00-05:00",
          "2016-02-12T04:00:00-05:00",
          "2016-02-12T05:00:00-05:00",
          "2016-02-12T06:00:00-05:00",
          "2016-02-12T07:00:00-05:00",
          "2016-02-12T08:00:00-05:00",
          "2016-02-12T09:00:00-05:00",
          "2016-02-12T10:00:00-05:00",
          "2016-02-12T11:00:00-05:00",
          "2016-02-12T12:00:00-05:00",
          "2016-02-12T13:00:00-05:00",
          "2016-02-12T14:00:00-05:00",
          "2016-02-12T15:00:00-05:00",
          "2016-02-12T16:00:00-05:00",
          "2016-02-12T17:00:00-05:00",
          "2016-02-12T18:00:00-05:00",
          "2016-02-12T19:00:00-05:00",
          "2016-02-12T20:00:00-05:00",
          "2016-02-12T21:00:00-05:00",
          "2016-02-12T22:00:00-05:00",
          "2016-02-12T23:00:00-05:00",
          "2016-02-13T00:00:00-05:00",
          "2016-02-13T01:00:00-05:00",
          "2016-02-13T02:00:00-05:00",
          "2016-02-13T03:00:00-05:00",
          "2016-02-13T04:00:00-05:00",
          "2016-02-13T05:00:00-05:00",
          "2016-02-13T06:00:00-05:00",
          "2016-02-13T07:00:00-05:00",
          "2016-02-13T08:00:00-05:00",
          "2016-02-13T09:00:00-05:00",
          "2016-02-13T10:00:00-05:00",
          "2016-02-13T11:00:00-05:00",
          "2016-02-13T12:00:00-05:00",
          "2016-02-13T13:00:00-05:00",
          "2016-02-13T14:00:00-05:00",
          "2016-02-13T15:00:00-05:00",
          "2016-02-13T16:00:00-05:00",
          "2016-02-13T17:00:00-05:00",
          "2016-02-13T18:00:00-05:00",
          "2016-02-13T19:00:00-05:00",
          "2016-02-13T20:00:00-05:00",
          "2016-02-13T21:00:00-05:00",
          "2016-02-13T22:00:00-05:00",
          "2016-02-13T23:00:00-05:00",
          "2016-02-14T00:00:00-05:00",
          "2016-02-14T01:00:00-05:00",
          "2016-02-14T02:00:00-05:00",
          "2016-02-14T03:00:00-05:00",
          "2016-02-14T04:00:00-05:00",
          "2016-02-14T05:00:00-05:00",
          "2016-02-14T06:00:00-05:00",
          "2016-02-14T07:00:00-05:00",
          "2016-02-14T08:00:00-05:00",
          "2016-02-14T09:00:00-05:00",
          "2016-02-14T10:00:00-05:00",
          "2016-02-14T11:00:00-05:00",
          "2016-02-14T12:00:00-05:00",
          "2016-02-14T13:00:00-05:00",
          "2016-02-14T14:00:00-05:00",
          "2016-02-14T15:00:00-05:00",
          "2016-02-14T16:00:00-05:00",
          "2016-02-14T17:00:00-05:00",
          "2016-02-14T18:00:00-05:00",
          "2016-02-14T19:00:00-05:00",
          "2016-02-14T20:00:00-05:00",
          "2016-02-14T21:00:00-05:00",
          "2016-02-14T22:00:00-05:00",
          "2016-02-14T23:00:00-05:00",
          "2016-02-15T00:00:00-05:00",
          "2016-02-15T01:00:00-05:00",
          "2016-02-15T02:00:00-05:00",
          "2016-02-15T03:00:00-05:00",
          "2016-02-15T04:00:00-05:00",
          "2016-02-15T05:00:00-05:00",
          "2016-02-15T06:00:00-05:00",
          "2016-02-15T07:00:00-05:00",
          "2016-02-15T08:00:00-05:00",
          "2016-02-15T09:00:00-05:00",
          "2016-02-15T10:00:00-05:00",
          "2016-02-15T11:00:00-05:00",
          "2016-02-15T12:00:00-05:00",
          "2016-02-15T13:00:00-05:00",
          "2016-02-15T14:00:00-05:00",
          "2016-02-15T15:00:00-05:00",
          "2016-02-15T16:00:00-05:00",
          "2016-02-15T17:00:00-05:00",
          "2016-02-15T18:00:00-05:00",
          "2016-02-15T19:00:00-05:00",
          "2016-02-15T20:00:00-05:00",
          "2016-02-15T21:00:00-05:00",
          "2016-02-15T22:00:00-05:00",
          "2016-02-15T23:00:00-05:00",
          "2016-02-16T00:00:00-05:00",
          "2016-02-16T01:00:00-05:00",
          "2016-02-16T02:00:00-05:00",
          "2016-02-16T03:00:00-05:00",
          "2016-02-16T04:00:00-05:00",
          "2016-02-16T05:00:00-05:00",
          "2016-02-16T06:00:00-05:00",
          "2016-02-16T07:00:00-05:00",
          "2016-02-16T08:00:00-05:00",
          "2016-02-16T09:00:00-05:00",
          "2016-02-16T10:00:00-05:00",
          "2016-02-16T11:00:00-05:00",
          "2016-02-16T12:00:00-05:00",
          "2016-02-16T13:00:00-05:00",
          "2016-02-16T14:00:00-05:00",
          "2016-02-16T15:00:00-05:00",
          "2016-02-16T16:00:00-05:00",
          "2016-02-16T17:00:00-05:00",
          "2016-02-16T18:00:00-05:00",
          "2016-02-16T19:00:00-05:00",
          "2016-02-16T20:00:00-05:00",
          "2016-02-16T21:00:00-05:00",
          "2016-02-16T22:00:00-05:00",
          "2016-02-16T23:00:00-05:00",
          "2016-02-17T00:00:00-05:00",
          "2016-02-17T01:00:00-05:00",
          "2016-02-17T02:00:00-05:00",
          "2016-02-17T03:00:00-05:00",
          "2016-02-17T04:00:00-05:00",
          "2016-02-17T05:00:00-05:00",
          "2016-02-17T06:00:00-05:00",
          "2016-02-17T07:00:00-05:00",
          "2016-02-17T08:00:00-05:00",
          "2016-02-17T09:00:00-05:00",
          "2016-02-17T10:00:00-05:00",
          "2016-02-17T11:00:00-05:00",
          "2016-02-17T12:00:00-05:00",
          "2016-02-17T13:00:00-05:00",
          "2016-02-17T14:00:00-05:00",
          "2016-02-17T15:00:00-05:00",
          "2016-02-17T16:00:00-05:00",
          "2016-02-17T17:00:00-05:00",
          "2016-02-17T18:00:00-05:00",
          "2016-02-17T19:00:00-05:00",
          "2016-02-17T20:00:00-05:00",
          "2016-02-17T21:00:00-05:00",
          "2016-02-17T22:00:00-05:00",
          "2016-02-17T23:00:00-05:00",
          "2016-02-18T00:00:00-05:00",
          "2016-02-18T01:00:00-05:00",
          "2016-02-18T02:00:00-05:00",
          "2016-02-18T03:00:00-05:00",
          "2016-02-18T04:00:00-05:00",
          "2016-02-18T05:00:00-05:00",
          "2016-02-18T06:00:00-05:00",
          "2016-02-18T07:00:00-05:00",
          "2016-02-18T08:00:00-05:00",
          "2016-02-18T09:00:00-05:00",
          "2016-02-18T10:00:00-05:00",
          "2016-02-18T11:00:00-05:00",
          "2016-02-18T12:00:00-05:00",
          "2016-02-18T13:00:00-05:00",
          "2016-02-18T14:00:00-05:00",
          "2016-02-18T15:00:00-05:00",
          "2016-02-18T16:00:00-05:00",
          "2016-02-18T17:00:00-05:00",
          "2016-02-18T18:00:00-05:00",
          "2016-02-18T19:00:00-05:00",
          "2016-02-18T20:00:00-05:00",
          "2016-02-18T21:00:00-05:00",
          "2016-02-18T22:00:00-05:00",
          "2016-02-18T23:00:00-05:00",
          "2016-02-19T00:00:00-05:00",
          "2016-02-19T01:00:00-05:00",
          "2016-02-19T02:00:00-05:00",
          "2016-02-19T03:00:00-05:00",
          "2016-02-19T04:00:00-05:00",
          "2016-02-19T05:00:00-05:00",
          "2016-02-19T06:00:00-05:00",
          "2016-02-19T07:00:00-05:00",
          "2016-02-19T08:00:00-05:00",
          "2016-02-19T09:00:00-05:00",
          "2016-02-19T10:00:00-05:00",
          "2016-02-19T11:00:00-05:00",
          "2016-02-19T12:00:00-05:00",
          "2016-02-19T13:00:00-05:00",
          "2016-02-19T14:00:00-05:00",
          "2016-02-19T15:00:00-05:00",
          "2016-02-19T16:00:00-05:00",
          "2016-02-19T17:00:00-05:00",
          "2016-02-19T18:00:00-05:00",
          "2016-02-19T19:00:00-05:00",
          "2016-02-19T20:00:00-05:00",
          "2016-02-19T21:00:00-05:00",
          "2016-02-19T22:00:00-05:00",
          "2016-02-19T23:00:00-05:00",
          "2016-02-20T00:00:00-05:00",
          "2016-02-20T01:00:00-05:00",
          "2016-02-20T02:00:00-05:00",
          "2016-02-20T03:00:00-05:00",
          "2016-02-20T04:00:00-05:00",
          "2016-02-20T05:00:00-05:00",
          "2016-02-20T06:00:00-05:00",
          "2016-02-20T07:00:00-05:00",
          "2016-02-20T08:00:00-05:00",
          "2016-02-20T09:00:00-05:00",
          "2016-02-20T10:00:00-05:00",
          "2016-02-20T11:00:00-05:00",
          "2016-02-20T12:00:00-05:00",
          "2016-02-20T13:00:00-05:00",
          "2016-02-20T14:00:00-05:00",
          "2016-02-20T15:00:00-05:00",
          "2016-02-20T16:00:00-05:00",
          "2016-02-20T17:00:00-05:00",
          "2016-02-20T18:00:00-05:00",
          "2016-02-20T19:00:00-05:00",
          "2016-02-20T20:00:00-05:00",
          "2016-02-20T21:00:00-05:00",
          "2016-02-20T22:00:00-05:00",
          "2016-02-20T23:00:00-05:00",
          "2016-02-21T00:00:00-05:00",
          "2016-02-21T01:00:00-05:00",
          "2016-02-21T02:00:00-05:00",
          "2016-02-21T03:00:00-05:00",
          "2016-02-21T04:00:00-05:00",
          "2016-02-21T05:00:00-05:00",
          "2016-02-21T06:00:00-05:00",
          "2016-02-21T07:00:00-05:00",
          "2016-02-21T08:00:00-05:00",
          "2016-02-21T09:00:00-05:00",
          "2016-02-21T10:00:00-05:00",
          "2016-02-21T11:00:00-05:00",
          "2016-02-21T12:00:00-05:00",
          "2016-02-21T13:00:00-05:00",
          "2016-02-21T14:00:00-05:00",
          "2016-02-21T15:00:00-05:00",
          "2016-02-21T16:00:00-05:00",
          "2016-02-21T17:00:00-05:00",
          "2016-02-21T18:00:00-05:00",
          "2016-02-21T19:00:00-05:00",
          "2016-02-21T20:00:00-05:00",
          "2016-02-21T21:00:00-05:00",
          "2016-02-21T22:00:00-05:00",
          "2016-02-21T23:00:00-05:00",
          "2016-02-22T00:00:00-05:00",
          "2016-02-22T01:00:00-05:00",
          "2016-02-22T02:00:00-05:00",
          "2016-02-22T03:00:00-05:00",
          "2016-02-22T04:00:00-05:00",
          "2016-02-22T05:00:00-05:00",
          "2016-02-22T06:00:00-05:00",
          "2016-02-22T07:00:00-05:00",
          "2016-02-22T08:00:00-05:00",
          "2016-02-22T09:00:00-05:00",
          "2016-02-22T10:00:00-05:00",
          "2016-02-22T11:00:00-05:00",
          "2016-02-22T12:00:00-05:00",
          "2016-02-22T13:00:00-05:00",
          "2016-02-22T14:00:00-05:00",
          "2016-02-22T15:00:00-05:00",
          "2016-02-22T16:00:00-05:00",
          "2016-02-22T17:00:00-05:00",
          "2016-02-22T18:00:00-05:00",
          "2016-02-22T19:00:00-05:00",
          "2016-02-22T20:00:00-05:00",
          "2016-02-22T21:00:00-05:00",
          "2016-02-22T22:00:00-05:00",
          "2016-02-22T23:00:00-05:00",
          "2016-02-23T00:00:00-05:00",
          "2016-02-23T01:00:00-05:00",
          "2016-02-23T02:00:00-05:00",
          "2016-02-23T03:00:00-05:00",
          "2016-02-23T04:00:00-05:00",
          "2016-02-23T05:00:00-05:00",
          "2016-02-23T06:00:00-05:00",
          "2016-02-23T07:00:00-05:00",
          "2016-02-23T08:00:00-05:00",
          "2016-02-23T09:00:00-05:00",
          "2016-02-23T10:00:00-05:00",
          "2016-02-23T11:00:00-05:00",
          "2016-02-23T12:00:00-05:00",
          "2016-02-23T13:00:00-05:00",
          "2016-02-23T14:00:00-05:00",
          "2016-02-23T15:00:00-05:00",
          "2016-02-23T16:00:00-05:00",
          "2016-02-23T17:00:00-05:00",
          "2016-02-23T18:00:00-05:00",
          "2016-02-23T19:00:00-05:00",
          "2016-02-23T20:00:00-05:00",
          "2016-02-23T21:00:00-05:00",
          "2016-02-23T22:00:00-05:00",
          "2016-02-23T23:00:00-05:00",
          "2016-02-24T00:00:00-05:00",
          "2016-02-24T01:00:00-05:00",
          "2016-02-24T02:00:00-05:00",
          "2016-02-24T03:00:00-05:00",
          "2016-02-24T04:00:00-05:00",
          "2016-02-24T05:00:00-05:00",
          "2016-02-24T06:00:00-05:00",
          "2016-02-24T07:00:00-05:00",
          "2016-02-24T08:00:00-05:00",
          "2016-02-24T09:00:00-05:00",
          "2016-02-24T10:00:00-05:00",
          "2016-02-24T11:00:00-05:00",
          "2016-02-24T12:00:00-05:00",
          "2016-02-24T13:00:00-05:00",
          "2016-02-24T14:00:00-05:00",
          "2016-02-24T15:00:00-05:00",
          "2016-02-24T16:00:00-05:00",
          "2016-02-24T17:00:00-05:00",
          "2016-02-24T18:00:00-05:00",
          "2016-02-24T19:00:00-05:00",
          "2016-02-24T20:00:00-05:00",
          "2016-02-24T21:00:00-05:00",
          "2016-02-24T22:00:00-05:00",
          "2016-02-24T23:00:00-05:00",
          "2016-02-25T00:00:00-05:00",
          "2016-02-25T01:00:00-05:00",
          "2016-02-25T02:00:00-05:00",
          "2016-02-25T03:00:00-05:00",
          "2016-02-25T04:00:00-05:00",
          "2016-02-25T05:00:00-05:00",
          "2016-02-25T06:00:00-05:00",
          "2016-02-25T07:00:00-05:00",
          "2016-02-25T08:00:00-05:00",
          "2016-02-25T09:00:00-05:00",
          "2016-02-25T10:00:00-05:00",
          "2016-02-25T11:00:00-05:00",
          "2016-02-25T12:00:00-05:00",
          "2016-02-25T13:00:00-05:00",
          "2016-02-25T14:00:00-05:00",
          "2016-02-25T15:00:00-05:00",
          "2016-02-25T16:00:00-05:00",
          "2016-02-25T17:00:00-05:00",
          "2016-02-25T18:00:00-05:00",
          "2016-02-25T19:00:00-05:00",
          "2016-02-25T20:00:00-05:00",
          "2016-02-25T21:00:00-05:00",
          "2016-02-25T22:00:00-05:00",
          "2016-02-25T23:00:00-05:00",
          "2016-02-26T00:00:00-05:00",
          "2016-02-26T01:00:00-05:00",
          "2016-02-26T02:00:00-05:00",
          "2016-02-26T03:00:00-05:00",
          "2016-02-26T04:00:00-05:00",
          "2016-02-26T05:00:00-05:00",
          "2016-02-26T06:00:00-05:00",
          "2016-02-26T07:00:00-05:00",
          "2016-02-26T08:00:00-05:00",
          "2016-02-26T09:00:00-05:00",
          "2016-02-26T10:00:00-05:00",
          "2016-02-26T11:00:00-05:00",
          "2016-02-26T12:00:00-05:00",
          "2016-02-26T13:00:00-05:00",
          "2016-02-26T14:00:00-05:00",
          "2016-02-26T15:00:00-05:00",
          "2016-02-26T16:00:00-05:00",
          "2016-02-26T17:00:00-05:00",
          "2016-02-26T18:00:00-05:00",
          "2016-02-26T19:00:00-05:00",
          "2016-02-26T20:00:00-05:00",
          "2016-02-26T21:00:00-05:00",
          "2016-02-26T22:00:00-05:00",
          "2016-02-26T23:00:00-05:00",
          "2016-02-27T00:00:00-05:00",
          "2016-02-27T01:00:00-05:00",
          "2016-02-27T02:00:00-05:00",
          "2016-02-27T03:00:00-05:00",
          "2016-02-27T04:00:00-05:00",
          "2016-02-27T05:00:00-05:00",
          "2016-02-27T06:00:00-05:00",
          "2016-02-27T07:00:00-05:00",
          "2016-02-27T08:00:00-05:00",
          "2016-02-27T09:00:00-05:00",
          "2016-02-27T10:00:00-05:00",
          "2016-02-27T11:00:00-05:00",
          "2016-02-27T12:00:00-05:00",
          "2016-02-27T13:00:00-05:00",
          "2016-02-27T14:00:00-05:00",
          "2016-02-27T15:00:00-05:00",
          "2016-02-27T16:00:00-05:00",
          "2016-02-27T17:00:00-05:00",
          "2016-02-27T18:00:00-05:00",
          "2016-02-27T19:00:00-05:00",
          "2016-02-27T20:00:00-05:00",
          "2016-02-27T21:00:00-05:00",
          "2016-02-27T22:00:00-05:00",
          "2016-02-27T23:00:00-05:00",
          "2016-02-28T00:00:00-05:00",
          "2016-02-28T01:00:00-05:00",
          "2016-02-28T02:00:00-05:00",
          "2016-02-28T03:00:00-05:00",
          "2016-02-28T04:00:00-05:00",
          "2016-02-28T05:00:00-05:00",
          "2016-02-28T06:00:00-05:00",
          "2016-02-28T07:00:00-05:00",
          "2016-02-28T08:00:00-05:00",
          "2016-02-28T09:00:00-05:00",
          "2016-02-28T10:00:00-05:00",
          "2016-02-28T11:00:00-05:00",
          "2016-02-28T12:00:00-05:00",
          "2016-02-28T13:00:00-05:00",
          "2016-02-28T14:00:00-05:00",
          "2016-02-28T15:00:00-05:00",
          "2016-02-28T16:00:00-05:00",
          "2016-02-28T17:00:00-05:00",
          "2016-02-28T18:00:00-05:00",
          "2016-02-28T19:00:00-05:00",
          "2016-02-28T20:00:00-05:00",
          "2016-02-28T21:00:00-05:00",
          "2016-02-28T22:00:00-05:00",
          "2016-02-28T23:00:00-05:00",
          "2016-02-29T00:00:00-05:00",
          "2016-02-29T01:00:00-05:00",
          "2016-02-29T02:00:00-05:00",
          "2016-02-29T03:00:00-05:00",
          "2016-02-29T04:00:00-05:00",
          "2016-02-29T05:00:00-05:00",
          "2016-02-29T06:00:00-05:00",
          "2016-02-29T07:00:00-05:00",
          "2016-02-29T08:00:00-05:00",
          "2016-02-29T09:00:00-05:00",
          "2016-02-29T10:00:00-05:00",
          "2016-02-29T11:00:00-05:00",
          "2016-02-29T12:00:00-05:00",
          "2016-02-29T13:00:00-05:00",
          "2016-02-29T14:00:00-05:00",
          "2016-02-29T15:00:00-05:00",
          "2016-02-29T16:00:00-05:00",
          "2016-02-29T17:00:00-05:00",
          "2016-02-29T18:00:00-05:00"
         ],
         "xaxis": "x",
         "y": [
          4.180489361860466,
          4.406517492747253,
          4.761339459622642,
          4.396757679814385,
          5.7753551398704115,
          7.695393207652175,
          6.716937303092784,
          4.977753126882634,
          4.600523754924472,
          4.588591255158924,
          4.3507741686828245,
          4.367803185380711,
          4.411178337149479,
          4.347469127674661,
          4.156314337950339,
          4.142913202995373,
          4.025907378770951,
          3.878565352057554,
          3.8509774103225807,
          3.8235244676129034,
          4.380043319694657,
          4.328007539403579,
          4.451064098774567,
          4.2162075432459245,
          4.043087442580645,
          4.070659012682927,
          3.930414301166307,
          4.568561417964072,
          5.655687886451614,
          6.987288388895184,
          5.986783174072993,
          4.8354582616138675,
          4.469465523742503,
          4.324704346784141,
          4.423160268907563,
          4.449593390060341,
          4.320304745915493,
          4.451787569202939,
          4.095908332552136,
          4.17892992,
          4.022038797623763,
          3.6861074280512094,
          3.627827814416374,
          3.7651910836795253,
          4.155493723360595,
          4.28658918420754,
          4.301999001953917,
          4.442691227586208,
          4.038929184000001,
          4.229378204362802,
          4.432981762575453,
          4.855118497476923,
          5.44306636097561,
          6.935408867796611,
          5.988985861902017,
          4.6541859094835685,
          4.36936896,
          4.411739259661017,
          4.370061670630631,
          4.313898865686901,
          4.125815238230089,
          3.9551414625587475,
          3.863204218235951,
          3.662381041650619,
          3.668916399947883,
          3.648410160626632,
          3.661927746329426,
          3.760386677389034,
          3.8967699113211935,
          4.431383319746606,
          4.577095099697759,
          4.4504372402891565,
          4.390303732363637,
          4.184871225806452,
          4.260932918709678,
          4.376578449017341,
          6.19908336,
          8.012485729704142,
          6.703653460114285,
          4.656162531031579,
          4.2000434637523885,
          4.478821983649414,
          4.360749960057665,
          4.578377353846154,
          4.344891940973313,
          4.623370189652043,
          4.392750603041352,
          4.195220998736842,
          3.951616853333334,
          3.9817671916763007,
          3.750663764106777,
          3.872947137662338,
          4.171674544099379,
          4.2311694248550475,
          4.254201148001381,
          4.344341392238807,
          3.983710937619784,
          4.0907369000451475,
          4.403112356764361,
          4.647567255864407,
          5.533801404179105,
          6.492830046792453,
          6.006230755555556,
          4.897207983505155,
          3.9435707399772295,
          4.174828052773517,
          4.018474627952495,
          4.079368153000515,
          4.403854902857144,
          4.434679048316598,
          4.513694576541629,
          4.12049884742515,
          3.9240250026666668,
          3.8463828552577324,
          3.7380074695698666,
          3.876187871886391,
          4.074734060260569,
          4.039874600602697,
          4.323522641317647,
          4.677711616869612,
          4.593177412838549,
          4.686381414062206,
          4.74026142595843,
          5.103589719493671,
          5.1495983729395975,
          5.811543528421053,
          6.532884781176471,
          6.231016567741936,
          5.28870672,
          4.927682211575932,
          4.546014771814093,
          4.449700365071398,
          4.6588680728895975,
          4.468678406540146,
          4.390814852017937,
          4.322933331374073,
          4.116724709400553,
          4.207926643132671,
          4.334783914535688,
          4.346268427906978,
          4.25400459566841,
          4.279688616328768,
          4.582515756155161,
          4.910589680612337,
          4.900472417363727,
          4.930223987048905,
          5.007311228077995,
          5.193458314338462,
          5.431652870059172,
          5.6799296528155345,
          6.294516188600338,
          5.798650285070423,
          5.5241965838819524,
          4.857670145158371,
          4.792269837215778,
          4.56386146677551,
          4.548168294528967,
          4.452421848779632,
          4.4692994789812115,
          4.616940030177936,
          4.614285495402985,
          4.695469772266065,
          4.356346119331742,
          4.19982839249131,
          4.3416246146393584,
          4.873166873173506,
          5.559393797380444,
          5.083861823607897,
          4.488479969572108,
          4.458587496462347,
          4.278846060241611,
          4.927198865101215,
          6.242807468201439,
          7.848322804528302,
          6.776839411358026,
          5.55283326242965,
          4.8324322316962025,
          4.434966235752213,
          4.180160810958904,
          4.052138349812333,
          4.224575333647059,
          4.224766829589042,
          4.274405768109821,
          4.210354030159027,
          3.989487275492958,
          3.855062149628507,
          3.6222672700429186,
          3.8143111917525774,
          3.888364682785899,
          4.085005086109979,
          4.1289240923607125,
          4.089264938922156,
          4.424407202956879,
          4.004813963835617,
          4.204401458208233,
          4.40429835505618,
          5.884967250318021,
          7.312935771428572,
          5.993583118995816,
          4.7663435454171434,
          4.318614827551867,
          4.330238484777124,
          4.295675552542373,
          4.330917519463088,
          4.497834390588236,
          4.518415522787457,
          4.212355170195293,
          4.274090163977901,
          3.8469134434271317,
          3.694224288539326,
          3.66141409204517,
          3.7484259855167874,
          3.96852792806489,
          4.115381989618322,
          4.3368402948295754,
          4.215889181182147,
          4.054151091621857,
          4.2624364854390935,
          4.401762166153846,
          4.429838865742575,
          5.394367817142857,
          7.804411054718101,
          6.623179941052633,
          4.737873939372973,
          4.337864308389486,
          4.294737018240779,
          4.442231126227545,
          4.1848305643151775,
          4.252818841518987,
          4.193370977191977,
          4.186431431783412,
          3.9234261212192068,
          3.963565487297394,
          3.7114287876809366,
          3.564490295606557,
          3.601375139247435,
          3.8034015009944753,
          4.252243214941634,
          4.3270032102379,
          4.350433831979849,
          4.146647834211604,
          4.4047012371916505,
          4.533490179801981,
          4.545253318736843,
          5.8109105144788735,
          7.439322425806452,
          6.133902747973511,
          4.9810245095987495,
          4.372225172801141,
          4.379434078040817,
          4.197891915491481,
          4.305224669201522,
          4.257216849300567,
          4.2954530111508955,
          4.188452571020105,
          3.914498364672519,
          3.839244074512636,
          3.698865582736513,
          3.619735949134809,
          3.6792390869362577,
          3.761547702166247,
          3.9435680809236837,
          4.1516296033633635,
          4.3345663668094705,
          4.28081255467793,
          4.3065374342261435,
          4.713248826770428,
          4.871295806270271,
          5.73506883147541,
          7.582069590142181,
          6.564091242593857,
          4.994343944978081,
          4.652594294323608,
          4.786157748148149,
          4.47612814733016,
          4.524284043475862,
          4.612567554782609,
          4.502816131282051,
          4.161398578144331,
          4.1383994818743775,
          4.07629401021325,
          3.87698936649505,
          3.8661880234180543,
          3.9115880789333333,
          3.9131133998555963,
          3.9834404765217393,
          4.355151008744186,
          4.609151966896552,
          4.611584708865097,
          4.526290172844501,
          4.882172105673865,
          5.091472930404624,
          5.159522916071194,
          6.004932375813954,
          6.536952535056543,
          6.198805103468636,
          5.317176192907802,
          4.892652339775282,
          4.663666740420758,
          4.4987018129496406,
          4.280244272011791,
          4.462629509774437,
          4.285665218738511,
          4.036443053617021,
          3.931826272266869,
          3.9902532758466305,
          4.056667816119403,
          4.164601607494145,
          4.08593385821648,
          4.0946245251129225,
          4.385166789561693,
          4.429606012270648,
          4.3737991251267445,
          4.481858461358656,
          4.630437092274368,
          4.92500599890411,
          5.1195286105637985,
          5.295190184024768,
          6.745347137171382,
          6.075619310933334,
          5.437474040754717,
          4.971729323604396,
          4.973258431616767,
          4.525493785408028,
          4.444518813763793,
          4.74196136766147,
          4.597157687819549,
          4.442428588839104,
          4.419952908670945,
          4.433123030068965,
          4.537241337435898,
          4.091980071825115,
          3.996576756788321,
          4.068565140382166,
          4.422557378865672,
          4.587947495721813,
          4.4886175620575415,
          4.36014443575285,
          4.396057361558002,
          4.919505932427184,
          5.97099177102402,
          7.0634938270881875,
          6.592712681739131,
          5.473490574797688,
          5.030489086558198,
          4.792261460194973,
          4.859864893390559,
          4.728794839061834,
          4.619999052238654,
          4.509583705228216,
          4.279244336756757,
          4.366023762721089,
          4.223338536585366,
          3.978589351689136,
          3.9582457626122456,
          3.9408700927799534,
          3.92443520262618,
          3.9067719680000006,
          3.9206419402714934,
          4.289622361791045,
          3.9593705150716336,
          4.116412117535545,
          4.373356073513514,
          4.917948000000001,
          5.349926856237625,
          8.016838062813301,
          6.774418614857144,
          5.548614083141655,
          4.965789919041916,
          4.560101749848943,
          4.693414364182622,
          4.47115727332303,
          4.224489572492836,
          3.9935535413439367,
          3.9166416090788094,
          4.289513860923077,
          4.1957805016562775,
          4.072394304,
          3.971644063660623,
          3.8971496308612106,
          3.95667602115649,
          4.1437462464,
          4.439608277802198,
          4.4876456856,
          4.278729980289855,
          4.328400413676816,
          4.497724692134832,
          5.008973138480243,
          5.537032241860465,
          7.2233028,
          6.578602755254238,
          5.271146951701246,
          4.794794489027238,
          4.7280542597260276,
          4.326444225788726,
          4.4807697314285715,
          4.297272454635129,
          4.388766038709678,
          4.40782893788618,
          4.07915713404878,
          3.9405227731349948,
          3.9483530742857145,
          3.6913837641649114,
          3.8398373074285717,
          3.972044563079076,
          4.317961206579046,
          4.399583297743191,
          4.271407188793774,
          4.154435435033025,
          4.3412922751079135,
          4.2020346106046516,
          4.4718112832287,
          6.438700397805487,
          7.92255776178771,
          6.639539824523472,
          5.112123457368763,
          4.52448303133005,
          4.802163238344502,
          4.4857830528000004,
          4.476128349767442,
          4.409325508374684,
          4.494871532307693,
          4.365529238838175,
          4.271369150334572,
          4.011809684210527,
          3.8071817252871467,
          3.668311515769829,
          3.717293743157895,
          3.988242757096019,
          4.08337512,
          4.328614625395096,
          4.448051740920502,
          4.359593334901123,
          4.494005326591422,
          4.58838666207765,
          4.54617360630657,
          6.031947417313432,
          7.308328565687204,
          6.1613376,
          5.390919462792737,
          4.759542057852029,
          4.562898751168832,
          4.5642201173925105,
          4.788907167902736,
          4.793046630697674,
          4.576702573424803,
          4.289721138798956,
          4.302185917310925,
          4.04829030901193,
          3.80885155983512,
          3.904510657699115,
          3.920032206509041,
          4.277033971843576,
          4.340301384535548,
          4.7084009705084755,
          4.641485326883721,
          4.723635331690029,
          4.667995475366889,
          4.860858077505568,
          5.134450532173914,
          5.239030690060754,
          6.1906620023300984,
          6.525128585502183,
          5.764256185892116,
          5.457261661866667,
          5.159180630335571,
          4.772312624761905,
          4.775862956558019,
          4.619287352081137,
          4.483125951303042,
          4.611443069302326,
          4.530886293961872,
          4.577121749372157,
          4.464541759086236,
          4.425922780242274,
          4.36345847054409,
          4.4403246291939,
          4.495280148315483,
          4.804020830325319,
          5.055550757798659,
          4.967802685811966,
          5.020966243636364,
          5.102995692790199,
          5.199538749080377,
          5.405146905371655,
          5.884326880504733,
          6.358626374736843,
          5.916517087179487,
          5.7647579290566044,
          5.215640765697842,
          4.934677615898909,
          4.831420518271357,
          4.681500200586843,
          4.69932541286986,
          4.679267268118812,
          5.028001684444445,
          4.522331870032363,
          4.395723863257066,
          4.2850103935844475,
          4.274732474765054,
          4.3379031943101,
          4.329122536541833,
          4.497093155132663,
          4.688266149709544,
          4.275415563157895,
          4.270870058978102,
          4.482739751902834,
          4.5987673132225915,
          5.950405748571429,
          7.837166866542057,
          6.5184721390344835,
          5.106661501318345,
          4.419606421812548,
          4.61247641027027,
          4.420666289680366,
          4.433002791724139,
          4.563179103126551,
          4.352377259614261,
          4.379556066982368,
          4.214159226514286,
          3.9614277226801518,
          3.842355011248611,
          3.6300245865045597,
          3.8558896108300678,
          3.960912352293578,
          4.086305302228655,
          4.477644416423841,
          4.565978445982082,
          4.055577045773196,
          4.4680849714285715,
          4.252748724170616,
          4.473232728712872,
          5.185284693333334,
          7.684081152,
          6.284055035076924,
          4.758919380094987,
          4.257637375709422,
          4.371943657358491,
          4.4009664688789245,
          4.12647092528592,
          3.9978890503307665,
          3.8518464858100563,
          3.7129294611554866,
          3.5508515291690546,
          3.680392727390863,
          3.6520890725647064,
          3.476287678751626,
          3.4467439258630876,
          3.61642329179444,
          3.9420234867590027,
          4.531946543825314,
          4.37726273284055,
          4.040186088888889,
          4.026099767935657,
          4.257325568571429,
          5.648133792989691,
          5.6036288425377645,
          7.62536448,
          6.173455374065934,
          4.846423313481636,
          4.3634313837574075,
          4.286987804649154,
          4.241852282228117,
          4.005428443188167,
          3.9514023420547404,
          4.017321656748769,
          4.271395375311678,
          4.17329056954221,
          3.808587752968858,
          3.6575261708689166,
          3.624900219977143,
          3.5146546345697245,
          3.781123597718997,
          4.094373046317344,
          4.2965997888,
          4.3800109218090455,
          4.390401096474031,
          4.204535224660913,
          4.475912611597633,
          4.772340804359674,
          5.685415241142857,
          7.338650769424084,
          6.407541388940317,
          4.974973191424134,
          4.488522885914972,
          4.748856129916168,
          4.619687396672828,
          4.483863732937821,
          4.414003175861708,
          4.435514889810936,
          4.338900704366365,
          4.064353767639987,
          3.8238033120146744,
          3.774162143837012,
          3.680588417156129,
          3.70444592152381,
          3.9341577036613145,
          4.054684731428572,
          4.234057829841717,
          4.563936661171782,
          4.526767015223555,
          4.2033175354201,
          4.5338284139449545,
          5.045137542295083,
          5.792909428850175,
          6.9164867657142866,
          6.937816375251799,
          4.986725740302882,
          4.631260968346282,
          4.475171537342433,
          4.509392401679888,
          4.583199848992406,
          4.470353097442623,
          4.4826956258610275,
          4.450906669858472,
          4.117476502588236,
          4.026050528751545,
          3.831564942516146,
          3.728451304285715,
          3.8812367381833686,
          3.9448504538388627,
          4.149678178716201,
          4.343764362302364,
          4.520517120000001,
          4.550347921686183,
          4.434887253465839,
          4.775483083797562,
          5.082513865924148,
          5.402581819701493,
          6.283589245139665,
          6.358069074712951,
          6.104710335189874,
          4.887135808281938,
          4.701461924069177,
          4.428103044377566,
          4.660339599003865,
          4.421324855041686,
          4.525937422955327,
          4.530453842692962,
          4.266127973994053,
          4.400191449424658,
          4.254985502055249,
          4.390809272297593,
          4.240540899581438,
          4.300944585283812,
          4.446383311145039,
          4.834432972365693,
          4.912961167133143,
          5.0246819491725105,
          5.002424104561216,
          5.144262754182257,
          5.6321620718274685,
          5.3326616318743865,
          5.757691037342194,
          6.662995144347826,
          6.148848766278027,
          5.438061093303672,
          5.054013137303533,
          4.799523886666667,
          4.821652100571429,
          4.724978195474242,
          4.724574171428572,
          4.701312305104334,
          4.6444424025236595,
          4.426599449101796,
          4.707741514334278,
          4.5001925442717186,
          4.56601120772298,
          4.350425374326466,
          4.49281155443211,
          4.679431761544402,
          4.641174466078887,
          4.822644043063458,
          4.169536145840708,
          4.49218360938704,
          4.814199933302108,
          5.893831947341773,
          8.450922988399073,
          6.638806393043478,
          5.300745192255449,
          4.634449907473723,
          4.636745994960889,
          4.355183657647059,
          4.245158543242468,
          4.734662300689656,
          4.620128057918553,
          4.417375095466667,
          4.225450753119533,
          4.133087379805002,
          3.906580952340746,
          3.65499171147541,
          3.9049182294243074,
          4.056937434863259,
          4.262869553302837,
          4.287675376045326,
          4.555415040000001
         ],
         "yaxis": "y"
        }
       ],
       "layout": {
        "legend": {
         "tracegroupgap": 0
        },
        "template": {
         "data": {
          "bar": [
           {
            "error_x": {
             "color": "#2a3f5f"
            },
            "error_y": {
             "color": "#2a3f5f"
            },
            "marker": {
             "line": {
              "color": "#E5ECF6",
              "width": 0.5
             },
             "pattern": {
              "fillmode": "overlay",
              "size": 10,
              "solidity": 0.2
             }
            },
            "type": "bar"
           }
          ],
          "barpolar": [
           {
            "marker": {
             "line": {
              "color": "#E5ECF6",
              "width": 0.5
             },
             "pattern": {
              "fillmode": "overlay",
              "size": 10,
              "solidity": 0.2
             }
            },
            "type": "barpolar"
           }
          ],
          "carpet": [
           {
            "aaxis": {
             "endlinecolor": "#2a3f5f",
             "gridcolor": "white",
             "linecolor": "white",
             "minorgridcolor": "white",
             "startlinecolor": "#2a3f5f"
            },
            "baxis": {
             "endlinecolor": "#2a3f5f",
             "gridcolor": "white",
             "linecolor": "white",
             "minorgridcolor": "white",
             "startlinecolor": "#2a3f5f"
            },
            "type": "carpet"
           }
          ],
          "choropleth": [
           {
            "colorbar": {
             "outlinewidth": 0,
             "ticks": ""
            },
            "type": "choropleth"
           }
          ],
          "contour": [
           {
            "colorbar": {
             "outlinewidth": 0,
             "ticks": ""
            },
            "colorscale": [
             [
              0,
              "#0d0887"
             ],
             [
              0.1111111111111111,
              "#46039f"
             ],
             [
              0.2222222222222222,
              "#7201a8"
             ],
             [
              0.3333333333333333,
              "#9c179e"
             ],
             [
              0.4444444444444444,
              "#bd3786"
             ],
             [
              0.5555555555555556,
              "#d8576b"
             ],
             [
              0.6666666666666666,
              "#ed7953"
             ],
             [
              0.7777777777777778,
              "#fb9f3a"
             ],
             [
              0.8888888888888888,
              "#fdca26"
             ],
             [
              1,
              "#f0f921"
             ]
            ],
            "type": "contour"
           }
          ],
          "contourcarpet": [
           {
            "colorbar": {
             "outlinewidth": 0,
             "ticks": ""
            },
            "type": "contourcarpet"
           }
          ],
          "heatmap": [
           {
            "colorbar": {
             "outlinewidth": 0,
             "ticks": ""
            },
            "colorscale": [
             [
              0,
              "#0d0887"
             ],
             [
              0.1111111111111111,
              "#46039f"
             ],
             [
              0.2222222222222222,
              "#7201a8"
             ],
             [
              0.3333333333333333,
              "#9c179e"
             ],
             [
              0.4444444444444444,
              "#bd3786"
             ],
             [
              0.5555555555555556,
              "#d8576b"
             ],
             [
              0.6666666666666666,
              "#ed7953"
             ],
             [
              0.7777777777777778,
              "#fb9f3a"
             ],
             [
              0.8888888888888888,
              "#fdca26"
             ],
             [
              1,
              "#f0f921"
             ]
            ],
            "type": "heatmap"
           }
          ],
          "heatmapgl": [
           {
            "colorbar": {
             "outlinewidth": 0,
             "ticks": ""
            },
            "colorscale": [
             [
              0,
              "#0d0887"
             ],
             [
              0.1111111111111111,
              "#46039f"
             ],
             [
              0.2222222222222222,
              "#7201a8"
             ],
             [
              0.3333333333333333,
              "#9c179e"
             ],
             [
              0.4444444444444444,
              "#bd3786"
             ],
             [
              0.5555555555555556,
              "#d8576b"
             ],
             [
              0.6666666666666666,
              "#ed7953"
             ],
             [
              0.7777777777777778,
              "#fb9f3a"
             ],
             [
              0.8888888888888888,
              "#fdca26"
             ],
             [
              1,
              "#f0f921"
             ]
            ],
            "type": "heatmapgl"
           }
          ],
          "histogram": [
           {
            "marker": {
             "pattern": {
              "fillmode": "overlay",
              "size": 10,
              "solidity": 0.2
             }
            },
            "type": "histogram"
           }
          ],
          "histogram2d": [
           {
            "colorbar": {
             "outlinewidth": 0,
             "ticks": ""
            },
            "colorscale": [
             [
              0,
              "#0d0887"
             ],
             [
              0.1111111111111111,
              "#46039f"
             ],
             [
              0.2222222222222222,
              "#7201a8"
             ],
             [
              0.3333333333333333,
              "#9c179e"
             ],
             [
              0.4444444444444444,
              "#bd3786"
             ],
             [
              0.5555555555555556,
              "#d8576b"
             ],
             [
              0.6666666666666666,
              "#ed7953"
             ],
             [
              0.7777777777777778,
              "#fb9f3a"
             ],
             [
              0.8888888888888888,
              "#fdca26"
             ],
             [
              1,
              "#f0f921"
             ]
            ],
            "type": "histogram2d"
           }
          ],
          "histogram2dcontour": [
           {
            "colorbar": {
             "outlinewidth": 0,
             "ticks": ""
            },
            "colorscale": [
             [
              0,
              "#0d0887"
             ],
             [
              0.1111111111111111,
              "#46039f"
             ],
             [
              0.2222222222222222,
              "#7201a8"
             ],
             [
              0.3333333333333333,
              "#9c179e"
             ],
             [
              0.4444444444444444,
              "#bd3786"
             ],
             [
              0.5555555555555556,
              "#d8576b"
             ],
             [
              0.6666666666666666,
              "#ed7953"
             ],
             [
              0.7777777777777778,
              "#fb9f3a"
             ],
             [
              0.8888888888888888,
              "#fdca26"
             ],
             [
              1,
              "#f0f921"
             ]
            ],
            "type": "histogram2dcontour"
           }
          ],
          "mesh3d": [
           {
            "colorbar": {
             "outlinewidth": 0,
             "ticks": ""
            },
            "type": "mesh3d"
           }
          ],
          "parcoords": [
           {
            "line": {
             "colorbar": {
              "outlinewidth": 0,
              "ticks": ""
             }
            },
            "type": "parcoords"
           }
          ],
          "pie": [
           {
            "automargin": true,
            "type": "pie"
           }
          ],
          "scatter": [
           {
            "fillpattern": {
             "fillmode": "overlay",
             "size": 10,
             "solidity": 0.2
            },
            "type": "scatter"
           }
          ],
          "scatter3d": [
           {
            "line": {
             "colorbar": {
              "outlinewidth": 0,
              "ticks": ""
             }
            },
            "marker": {
             "colorbar": {
              "outlinewidth": 0,
              "ticks": ""
             }
            },
            "type": "scatter3d"
           }
          ],
          "scattercarpet": [
           {
            "marker": {
             "colorbar": {
              "outlinewidth": 0,
              "ticks": ""
             }
            },
            "type": "scattercarpet"
           }
          ],
          "scattergeo": [
           {
            "marker": {
             "colorbar": {
              "outlinewidth": 0,
              "ticks": ""
             }
            },
            "type": "scattergeo"
           }
          ],
          "scattergl": [
           {
            "marker": {
             "colorbar": {
              "outlinewidth": 0,
              "ticks": ""
             }
            },
            "type": "scattergl"
           }
          ],
          "scattermapbox": [
           {
            "marker": {
             "colorbar": {
              "outlinewidth": 0,
              "ticks": ""
             }
            },
            "type": "scattermapbox"
           }
          ],
          "scatterpolar": [
           {
            "marker": {
             "colorbar": {
              "outlinewidth": 0,
              "ticks": ""
             }
            },
            "type": "scatterpolar"
           }
          ],
          "scatterpolargl": [
           {
            "marker": {
             "colorbar": {
              "outlinewidth": 0,
              "ticks": ""
             }
            },
            "type": "scatterpolargl"
           }
          ],
          "scatterternary": [
           {
            "marker": {
             "colorbar": {
              "outlinewidth": 0,
              "ticks": ""
             }
            },
            "type": "scatterternary"
           }
          ],
          "surface": [
           {
            "colorbar": {
             "outlinewidth": 0,
             "ticks": ""
            },
            "colorscale": [
             [
              0,
              "#0d0887"
             ],
             [
              0.1111111111111111,
              "#46039f"
             ],
             [
              0.2222222222222222,
              "#7201a8"
             ],
             [
              0.3333333333333333,
              "#9c179e"
             ],
             [
              0.4444444444444444,
              "#bd3786"
             ],
             [
              0.5555555555555556,
              "#d8576b"
             ],
             [
              0.6666666666666666,
              "#ed7953"
             ],
             [
              0.7777777777777778,
              "#fb9f3a"
             ],
             [
              0.8888888888888888,
              "#fdca26"
             ],
             [
              1,
              "#f0f921"
             ]
            ],
            "type": "surface"
           }
          ],
          "table": [
           {
            "cells": {
             "fill": {
              "color": "#EBF0F8"
             },
             "line": {
              "color": "white"
             }
            },
            "header": {
             "fill": {
              "color": "#C8D4E3"
             },
             "line": {
              "color": "white"
             }
            },
            "type": "table"
           }
          ]
         },
         "layout": {
          "annotationdefaults": {
           "arrowcolor": "#2a3f5f",
           "arrowhead": 0,
           "arrowwidth": 1
          },
          "autotypenumbers": "strict",
          "coloraxis": {
           "colorbar": {
            "outlinewidth": 0,
            "ticks": ""
           }
          },
          "colorscale": {
           "diverging": [
            [
             0,
             "#8e0152"
            ],
            [
             0.1,
             "#c51b7d"
            ],
            [
             0.2,
             "#de77ae"
            ],
            [
             0.3,
             "#f1b6da"
            ],
            [
             0.4,
             "#fde0ef"
            ],
            [
             0.5,
             "#f7f7f7"
            ],
            [
             0.6,
             "#e6f5d0"
            ],
            [
             0.7,
             "#b8e186"
            ],
            [
             0.8,
             "#7fbc41"
            ],
            [
             0.9,
             "#4d9221"
            ],
            [
             1,
             "#276419"
            ]
           ],
           "sequential": [
            [
             0,
             "#0d0887"
            ],
            [
             0.1111111111111111,
             "#46039f"
            ],
            [
             0.2222222222222222,
             "#7201a8"
            ],
            [
             0.3333333333333333,
             "#9c179e"
            ],
            [
             0.4444444444444444,
             "#bd3786"
            ],
            [
             0.5555555555555556,
             "#d8576b"
            ],
            [
             0.6666666666666666,
             "#ed7953"
            ],
            [
             0.7777777777777778,
             "#fb9f3a"
            ],
            [
             0.8888888888888888,
             "#fdca26"
            ],
            [
             1,
             "#f0f921"
            ]
           ],
           "sequentialminus": [
            [
             0,
             "#0d0887"
            ],
            [
             0.1111111111111111,
             "#46039f"
            ],
            [
             0.2222222222222222,
             "#7201a8"
            ],
            [
             0.3333333333333333,
             "#9c179e"
            ],
            [
             0.4444444444444444,
             "#bd3786"
            ],
            [
             0.5555555555555556,
             "#d8576b"
            ],
            [
             0.6666666666666666,
             "#ed7953"
            ],
            [
             0.7777777777777778,
             "#fb9f3a"
            ],
            [
             0.8888888888888888,
             "#fdca26"
            ],
            [
             1,
             "#f0f921"
            ]
           ]
          },
          "colorway": [
           "#636efa",
           "#EF553B",
           "#00cc96",
           "#ab63fa",
           "#FFA15A",
           "#19d3f3",
           "#FF6692",
           "#B6E880",
           "#FF97FF",
           "#FECB52"
          ],
          "font": {
           "color": "#2a3f5f"
          },
          "geo": {
           "bgcolor": "white",
           "lakecolor": "white",
           "landcolor": "#E5ECF6",
           "showlakes": true,
           "showland": true,
           "subunitcolor": "white"
          },
          "hoverlabel": {
           "align": "left"
          },
          "hovermode": "closest",
          "mapbox": {
           "style": "light"
          },
          "paper_bgcolor": "white",
          "plot_bgcolor": "#E5ECF6",
          "polar": {
           "angularaxis": {
            "gridcolor": "white",
            "linecolor": "white",
            "ticks": ""
           },
           "bgcolor": "#E5ECF6",
           "radialaxis": {
            "gridcolor": "white",
            "linecolor": "white",
            "ticks": ""
           }
          },
          "scene": {
           "xaxis": {
            "backgroundcolor": "#E5ECF6",
            "gridcolor": "white",
            "gridwidth": 2,
            "linecolor": "white",
            "showbackground": true,
            "ticks": "",
            "zerolinecolor": "white"
           },
           "yaxis": {
            "backgroundcolor": "#E5ECF6",
            "gridcolor": "white",
            "gridwidth": 2,
            "linecolor": "white",
            "showbackground": true,
            "ticks": "",
            "zerolinecolor": "white"
           },
           "zaxis": {
            "backgroundcolor": "#E5ECF6",
            "gridcolor": "white",
            "gridwidth": 2,
            "linecolor": "white",
            "showbackground": true,
            "ticks": "",
            "zerolinecolor": "white"
           }
          },
          "shapedefaults": {
           "line": {
            "color": "#2a3f5f"
           }
          },
          "ternary": {
           "aaxis": {
            "gridcolor": "white",
            "linecolor": "white",
            "ticks": ""
           },
           "baxis": {
            "gridcolor": "white",
            "linecolor": "white",
            "ticks": ""
           },
           "bgcolor": "#E5ECF6",
           "caxis": {
            "gridcolor": "white",
            "linecolor": "white",
            "ticks": ""
           }
          },
          "title": {
           "x": 0.05
          },
          "xaxis": {
           "automargin": true,
           "gridcolor": "white",
           "linecolor": "white",
           "ticks": "",
           "title": {
            "standoff": 15
           },
           "zerolinecolor": "white",
           "zerolinewidth": 2
          },
          "yaxis": {
           "automargin": true,
           "gridcolor": "white",
           "linecolor": "white",
           "ticks": "",
           "title": {
            "standoff": 15
           },
           "zerolinecolor": "white",
           "zerolinewidth": 2
          }
         }
        },
        "title": {
         "text": "Average Hourly Trip Distance (KM) by Time of Day"
        },
        "xaxis": {
         "anchor": "y",
         "domain": [
          0,
          1
         ],
         "title": {
          "text": "Date and Time"
         }
        },
        "yaxis": {
         "anchor": "x",
         "domain": [
          0,
          1
         ],
         "title": {
          "text": "Trip Distance in Kilometers"
         }
        }
       }
      }
     },
     "metadata": {},
     "output_type": "display_data"
    },
    {
     "name": "stdout",
     "output_type": "stream",
     "text": [
      "Figure 3: Average Hourly Trip Distance (KM) by Time of Day Interactive Plot\n"
     ]
    }
   ],
   "source": [
    "datetime_line_plot(trip_data,\n",
    "                   'trip_distance_km',\n",
    "                   freq='h',    \n",
    "                   plot_title_name = 'Average Hourly Trip Distance (KM) by Time of Day', \n",
    "                   plot_xlabel_name= 'Date and Time', \n",
    "                   plot_ylabel_name= 'Trip Distance in Kilometers',\n",
    "                   make_interactive=True)\n",
    "print(\"Figure 3: Average Hourly Trip Distance (KM) by Time of Day Interactive Plot\")"
   ]
  },
  {
   "cell_type": "markdown",
   "metadata": {},
   "source": [
    "The peak of the chart occurs at 00:00 (midnight), indicating that longer trips tend to happen around midnight each day and the lowest peaks are in the afternoon. The following assumptions have been made:\n",
    "\n",
    "1. Many people may be taking taxis for longer late night trips, could indicate that many people are using taxis for weekend getaways or business trips during the week days to go to airport from their homes.\n",
    "2. There are shorter daytime trips, this suggests that taxis are often used for commuting to work, likely for people who live relatively close to their workplaces.\n",
    "3. Lower average distances per hour on weekends, this may reflect that people tend to stay closer to home, spending time with family rather than traveling long distances (or visit a friend)"
   ]
  },
  {
   "cell_type": "markdown",
   "metadata": {},
   "source": [
    "## 3. Popular pickup locations on weekdays vs weekends"
   ]
  },
  {
   "cell_type": "code",
   "execution_count": 13,
   "metadata": {},
   "outputs": [
    {
     "data": {
      "text/plain": [
       "day_of_week\n",
       "Saturday     274865\n",
       "Friday       266749\n",
       "Thursday     212494\n",
       "Monday       201409\n",
       "Wednesday    190380\n",
       "Sunday       186813\n",
       "Tuesday      178012\n",
       "Name: count, dtype: int64"
      ]
     },
     "execution_count": 13,
     "metadata": {},
     "output_type": "execute_result"
    }
   ],
   "source": [
    "# extract first the day of week first\n",
    "trip_data['day_of_week'] = trip_data.index.day_name()\n",
    "trip_data['day_of_week'].value_counts()"
   ]
  },
  {
   "cell_type": "code",
   "execution_count": 14,
   "metadata": {},
   "outputs": [],
   "source": [
    "WEEK_ENDS = ['Saturday', 'Sunday']"
   ]
  },
  {
   "cell_type": "code",
   "execution_count": 15,
   "metadata": {},
   "outputs": [
    {
     "data": {
      "text/plain": [
       "array(['Sunday', 'Saturday'], dtype=object)"
      ]
     },
     "execution_count": 15,
     "metadata": {},
     "output_type": "execute_result"
    },
    {
     "data": {
      "text/plain": [
       "array(['Monday', 'Tuesday', 'Wednesday', 'Thursday', 'Friday'],\n",
       "      dtype=object)"
      ]
     },
     "execution_count": 15,
     "metadata": {},
     "output_type": "execute_result"
    }
   ],
   "source": [
    "# filter the week days and the week ends\n",
    "week_ends_mask = trip_data['day_of_week'].isin(WEEK_ENDS)\n",
    "week_end_trips_data = trip_data[week_ends_mask].copy()\n",
    "week_day_trips_data = trip_data[~week_ends_mask].copy()\n",
    "\n",
    "# to check the filtered week end and week day\n",
    "week_end_trips_data['day_of_week'].unique()\n",
    "week_day_trips_data['day_of_week'].unique()"
   ]
  },
  {
   "cell_type": "code",
   "execution_count": 16,
   "metadata": {},
   "outputs": [
    {
     "data": {
      "application/vnd.plotly.v1+json": {
       "config": {
        "plotlyServerURL": "https://plot.ly"
       },
       "data": [
        {
         "alignmentgroup": "True",
         "customdata": [
          [
           75
          ],
          [
           41
          ],
          [
           74
          ],
          [
           7
          ],
          [
           166
          ],
          [
           255
          ],
          [
           82
          ],
          [
           42
          ],
          [
           181
          ],
          [
           97
          ]
         ],
         "hovertemplate": "day=Weekdays<br>Rank Number=%{x}<br>Trip Count=%{y}<br>PULocationID=%{customdata[0]}<extra></extra>",
         "legendgroup": "Weekdays",
         "marker": {
          "color": "#636efa",
          "pattern": {
           "shape": ""
          }
         },
         "name": "Weekdays",
         "offsetgroup": "Weekdays",
         "orientation": "v",
         "showlegend": true,
         "text": [
          75,
          41,
          74,
          7,
          166,
          255,
          82,
          42,
          181,
          97
         ],
         "textposition": "auto",
         "type": "bar",
         "x": [
          1,
          2,
          3,
          4,
          5,
          6,
          7,
          8,
          9,
          10
         ],
         "xaxis": "x",
         "y": [
          57203,
          54419,
          53616,
          46314,
          46106,
          40519,
          38296,
          37562,
          36317,
          32534
         ],
         "yaxis": "y"
        },
        {
         "alignmentgroup": "True",
         "customdata": [
          [
           41
          ],
          [
           255
          ],
          [
           7
          ],
          [
           74
          ],
          [
           82
          ],
          [
           181
          ],
          [
           42
          ],
          [
           75
          ],
          [
           129
          ],
          [
           97
          ]
         ],
         "hovertemplate": "day=Weekends<br>Rank Number=%{x}<br>Trip Count=%{y}<br>PULocationID=%{customdata[0]}<extra></extra>",
         "legendgroup": "Weekends",
         "marker": {
          "color": "#EF553B",
          "pattern": {
           "shape": ""
          }
         },
         "name": "Weekends",
         "offsetgroup": "Weekends",
         "orientation": "v",
         "showlegend": true,
         "text": [
          41,
          255,
          7,
          74,
          82,
          181,
          42,
          75,
          129,
          97
         ],
         "textposition": "auto",
         "type": "bar",
         "x": [
          1,
          2,
          3,
          4,
          5,
          6,
          7,
          8,
          9,
          10
         ],
         "xaxis": "x",
         "y": [
          24897,
          24599,
          23163,
          20346,
          19143,
          18438,
          15897,
          14925,
          14674,
          14141
         ],
         "yaxis": "y"
        }
       ],
       "layout": {
        "barmode": "group",
        "legend": {
         "title": {
          "text": "day"
         },
         "tracegroupgap": 0
        },
        "template": {
         "data": {
          "bar": [
           {
            "error_x": {
             "color": "#2a3f5f"
            },
            "error_y": {
             "color": "#2a3f5f"
            },
            "marker": {
             "line": {
              "color": "#E5ECF6",
              "width": 0.5
             },
             "pattern": {
              "fillmode": "overlay",
              "size": 10,
              "solidity": 0.2
             }
            },
            "type": "bar"
           }
          ],
          "barpolar": [
           {
            "marker": {
             "line": {
              "color": "#E5ECF6",
              "width": 0.5
             },
             "pattern": {
              "fillmode": "overlay",
              "size": 10,
              "solidity": 0.2
             }
            },
            "type": "barpolar"
           }
          ],
          "carpet": [
           {
            "aaxis": {
             "endlinecolor": "#2a3f5f",
             "gridcolor": "white",
             "linecolor": "white",
             "minorgridcolor": "white",
             "startlinecolor": "#2a3f5f"
            },
            "baxis": {
             "endlinecolor": "#2a3f5f",
             "gridcolor": "white",
             "linecolor": "white",
             "minorgridcolor": "white",
             "startlinecolor": "#2a3f5f"
            },
            "type": "carpet"
           }
          ],
          "choropleth": [
           {
            "colorbar": {
             "outlinewidth": 0,
             "ticks": ""
            },
            "type": "choropleth"
           }
          ],
          "contour": [
           {
            "colorbar": {
             "outlinewidth": 0,
             "ticks": ""
            },
            "colorscale": [
             [
              0,
              "#0d0887"
             ],
             [
              0.1111111111111111,
              "#46039f"
             ],
             [
              0.2222222222222222,
              "#7201a8"
             ],
             [
              0.3333333333333333,
              "#9c179e"
             ],
             [
              0.4444444444444444,
              "#bd3786"
             ],
             [
              0.5555555555555556,
              "#d8576b"
             ],
             [
              0.6666666666666666,
              "#ed7953"
             ],
             [
              0.7777777777777778,
              "#fb9f3a"
             ],
             [
              0.8888888888888888,
              "#fdca26"
             ],
             [
              1,
              "#f0f921"
             ]
            ],
            "type": "contour"
           }
          ],
          "contourcarpet": [
           {
            "colorbar": {
             "outlinewidth": 0,
             "ticks": ""
            },
            "type": "contourcarpet"
           }
          ],
          "heatmap": [
           {
            "colorbar": {
             "outlinewidth": 0,
             "ticks": ""
            },
            "colorscale": [
             [
              0,
              "#0d0887"
             ],
             [
              0.1111111111111111,
              "#46039f"
             ],
             [
              0.2222222222222222,
              "#7201a8"
             ],
             [
              0.3333333333333333,
              "#9c179e"
             ],
             [
              0.4444444444444444,
              "#bd3786"
             ],
             [
              0.5555555555555556,
              "#d8576b"
             ],
             [
              0.6666666666666666,
              "#ed7953"
             ],
             [
              0.7777777777777778,
              "#fb9f3a"
             ],
             [
              0.8888888888888888,
              "#fdca26"
             ],
             [
              1,
              "#f0f921"
             ]
            ],
            "type": "heatmap"
           }
          ],
          "heatmapgl": [
           {
            "colorbar": {
             "outlinewidth": 0,
             "ticks": ""
            },
            "colorscale": [
             [
              0,
              "#0d0887"
             ],
             [
              0.1111111111111111,
              "#46039f"
             ],
             [
              0.2222222222222222,
              "#7201a8"
             ],
             [
              0.3333333333333333,
              "#9c179e"
             ],
             [
              0.4444444444444444,
              "#bd3786"
             ],
             [
              0.5555555555555556,
              "#d8576b"
             ],
             [
              0.6666666666666666,
              "#ed7953"
             ],
             [
              0.7777777777777778,
              "#fb9f3a"
             ],
             [
              0.8888888888888888,
              "#fdca26"
             ],
             [
              1,
              "#f0f921"
             ]
            ],
            "type": "heatmapgl"
           }
          ],
          "histogram": [
           {
            "marker": {
             "pattern": {
              "fillmode": "overlay",
              "size": 10,
              "solidity": 0.2
             }
            },
            "type": "histogram"
           }
          ],
          "histogram2d": [
           {
            "colorbar": {
             "outlinewidth": 0,
             "ticks": ""
            },
            "colorscale": [
             [
              0,
              "#0d0887"
             ],
             [
              0.1111111111111111,
              "#46039f"
             ],
             [
              0.2222222222222222,
              "#7201a8"
             ],
             [
              0.3333333333333333,
              "#9c179e"
             ],
             [
              0.4444444444444444,
              "#bd3786"
             ],
             [
              0.5555555555555556,
              "#d8576b"
             ],
             [
              0.6666666666666666,
              "#ed7953"
             ],
             [
              0.7777777777777778,
              "#fb9f3a"
             ],
             [
              0.8888888888888888,
              "#fdca26"
             ],
             [
              1,
              "#f0f921"
             ]
            ],
            "type": "histogram2d"
           }
          ],
          "histogram2dcontour": [
           {
            "colorbar": {
             "outlinewidth": 0,
             "ticks": ""
            },
            "colorscale": [
             [
              0,
              "#0d0887"
             ],
             [
              0.1111111111111111,
              "#46039f"
             ],
             [
              0.2222222222222222,
              "#7201a8"
             ],
             [
              0.3333333333333333,
              "#9c179e"
             ],
             [
              0.4444444444444444,
              "#bd3786"
             ],
             [
              0.5555555555555556,
              "#d8576b"
             ],
             [
              0.6666666666666666,
              "#ed7953"
             ],
             [
              0.7777777777777778,
              "#fb9f3a"
             ],
             [
              0.8888888888888888,
              "#fdca26"
             ],
             [
              1,
              "#f0f921"
             ]
            ],
            "type": "histogram2dcontour"
           }
          ],
          "mesh3d": [
           {
            "colorbar": {
             "outlinewidth": 0,
             "ticks": ""
            },
            "type": "mesh3d"
           }
          ],
          "parcoords": [
           {
            "line": {
             "colorbar": {
              "outlinewidth": 0,
              "ticks": ""
             }
            },
            "type": "parcoords"
           }
          ],
          "pie": [
           {
            "automargin": true,
            "type": "pie"
           }
          ],
          "scatter": [
           {
            "fillpattern": {
             "fillmode": "overlay",
             "size": 10,
             "solidity": 0.2
            },
            "type": "scatter"
           }
          ],
          "scatter3d": [
           {
            "line": {
             "colorbar": {
              "outlinewidth": 0,
              "ticks": ""
             }
            },
            "marker": {
             "colorbar": {
              "outlinewidth": 0,
              "ticks": ""
             }
            },
            "type": "scatter3d"
           }
          ],
          "scattercarpet": [
           {
            "marker": {
             "colorbar": {
              "outlinewidth": 0,
              "ticks": ""
             }
            },
            "type": "scattercarpet"
           }
          ],
          "scattergeo": [
           {
            "marker": {
             "colorbar": {
              "outlinewidth": 0,
              "ticks": ""
             }
            },
            "type": "scattergeo"
           }
          ],
          "scattergl": [
           {
            "marker": {
             "colorbar": {
              "outlinewidth": 0,
              "ticks": ""
             }
            },
            "type": "scattergl"
           }
          ],
          "scattermapbox": [
           {
            "marker": {
             "colorbar": {
              "outlinewidth": 0,
              "ticks": ""
             }
            },
            "type": "scattermapbox"
           }
          ],
          "scatterpolar": [
           {
            "marker": {
             "colorbar": {
              "outlinewidth": 0,
              "ticks": ""
             }
            },
            "type": "scatterpolar"
           }
          ],
          "scatterpolargl": [
           {
            "marker": {
             "colorbar": {
              "outlinewidth": 0,
              "ticks": ""
             }
            },
            "type": "scatterpolargl"
           }
          ],
          "scatterternary": [
           {
            "marker": {
             "colorbar": {
              "outlinewidth": 0,
              "ticks": ""
             }
            },
            "type": "scatterternary"
           }
          ],
          "surface": [
           {
            "colorbar": {
             "outlinewidth": 0,
             "ticks": ""
            },
            "colorscale": [
             [
              0,
              "#0d0887"
             ],
             [
              0.1111111111111111,
              "#46039f"
             ],
             [
              0.2222222222222222,
              "#7201a8"
             ],
             [
              0.3333333333333333,
              "#9c179e"
             ],
             [
              0.4444444444444444,
              "#bd3786"
             ],
             [
              0.5555555555555556,
              "#d8576b"
             ],
             [
              0.6666666666666666,
              "#ed7953"
             ],
             [
              0.7777777777777778,
              "#fb9f3a"
             ],
             [
              0.8888888888888888,
              "#fdca26"
             ],
             [
              1,
              "#f0f921"
             ]
            ],
            "type": "surface"
           }
          ],
          "table": [
           {
            "cells": {
             "fill": {
              "color": "#EBF0F8"
             },
             "line": {
              "color": "white"
             }
            },
            "header": {
             "fill": {
              "color": "#C8D4E3"
             },
             "line": {
              "color": "white"
             }
            },
            "type": "table"
           }
          ]
         },
         "layout": {
          "annotationdefaults": {
           "arrowcolor": "#2a3f5f",
           "arrowhead": 0,
           "arrowwidth": 1
          },
          "autotypenumbers": "strict",
          "coloraxis": {
           "colorbar": {
            "outlinewidth": 0,
            "ticks": ""
           }
          },
          "colorscale": {
           "diverging": [
            [
             0,
             "#8e0152"
            ],
            [
             0.1,
             "#c51b7d"
            ],
            [
             0.2,
             "#de77ae"
            ],
            [
             0.3,
             "#f1b6da"
            ],
            [
             0.4,
             "#fde0ef"
            ],
            [
             0.5,
             "#f7f7f7"
            ],
            [
             0.6,
             "#e6f5d0"
            ],
            [
             0.7,
             "#b8e186"
            ],
            [
             0.8,
             "#7fbc41"
            ],
            [
             0.9,
             "#4d9221"
            ],
            [
             1,
             "#276419"
            ]
           ],
           "sequential": [
            [
             0,
             "#0d0887"
            ],
            [
             0.1111111111111111,
             "#46039f"
            ],
            [
             0.2222222222222222,
             "#7201a8"
            ],
            [
             0.3333333333333333,
             "#9c179e"
            ],
            [
             0.4444444444444444,
             "#bd3786"
            ],
            [
             0.5555555555555556,
             "#d8576b"
            ],
            [
             0.6666666666666666,
             "#ed7953"
            ],
            [
             0.7777777777777778,
             "#fb9f3a"
            ],
            [
             0.8888888888888888,
             "#fdca26"
            ],
            [
             1,
             "#f0f921"
            ]
           ],
           "sequentialminus": [
            [
             0,
             "#0d0887"
            ],
            [
             0.1111111111111111,
             "#46039f"
            ],
            [
             0.2222222222222222,
             "#7201a8"
            ],
            [
             0.3333333333333333,
             "#9c179e"
            ],
            [
             0.4444444444444444,
             "#bd3786"
            ],
            [
             0.5555555555555556,
             "#d8576b"
            ],
            [
             0.6666666666666666,
             "#ed7953"
            ],
            [
             0.7777777777777778,
             "#fb9f3a"
            ],
            [
             0.8888888888888888,
             "#fdca26"
            ],
            [
             1,
             "#f0f921"
            ]
           ]
          },
          "colorway": [
           "#636efa",
           "#EF553B",
           "#00cc96",
           "#ab63fa",
           "#FFA15A",
           "#19d3f3",
           "#FF6692",
           "#B6E880",
           "#FF97FF",
           "#FECB52"
          ],
          "font": {
           "color": "#2a3f5f"
          },
          "geo": {
           "bgcolor": "white",
           "lakecolor": "white",
           "landcolor": "#E5ECF6",
           "showlakes": true,
           "showland": true,
           "subunitcolor": "white"
          },
          "hoverlabel": {
           "align": "left"
          },
          "hovermode": "closest",
          "mapbox": {
           "style": "light"
          },
          "paper_bgcolor": "white",
          "plot_bgcolor": "#E5ECF6",
          "polar": {
           "angularaxis": {
            "gridcolor": "white",
            "linecolor": "white",
            "ticks": ""
           },
           "bgcolor": "#E5ECF6",
           "radialaxis": {
            "gridcolor": "white",
            "linecolor": "white",
            "ticks": ""
           }
          },
          "scene": {
           "xaxis": {
            "backgroundcolor": "#E5ECF6",
            "gridcolor": "white",
            "gridwidth": 2,
            "linecolor": "white",
            "showbackground": true,
            "ticks": "",
            "zerolinecolor": "white"
           },
           "yaxis": {
            "backgroundcolor": "#E5ECF6",
            "gridcolor": "white",
            "gridwidth": 2,
            "linecolor": "white",
            "showbackground": true,
            "ticks": "",
            "zerolinecolor": "white"
           },
           "zaxis": {
            "backgroundcolor": "#E5ECF6",
            "gridcolor": "white",
            "gridwidth": 2,
            "linecolor": "white",
            "showbackground": true,
            "ticks": "",
            "zerolinecolor": "white"
           }
          },
          "shapedefaults": {
           "line": {
            "color": "#2a3f5f"
           }
          },
          "ternary": {
           "aaxis": {
            "gridcolor": "white",
            "linecolor": "white",
            "ticks": ""
           },
           "baxis": {
            "gridcolor": "white",
            "linecolor": "white",
            "ticks": ""
           },
           "bgcolor": "#E5ECF6",
           "caxis": {
            "gridcolor": "white",
            "linecolor": "white",
            "ticks": ""
           }
          },
          "title": {
           "x": 0.05
          },
          "xaxis": {
           "automargin": true,
           "gridcolor": "white",
           "linecolor": "white",
           "ticks": "",
           "title": {
            "standoff": 15
           },
           "zerolinecolor": "white",
           "zerolinewidth": 2
          },
          "yaxis": {
           "automargin": true,
           "gridcolor": "white",
           "linecolor": "white",
           "ticks": "",
           "title": {
            "standoff": 15
           },
           "zerolinecolor": "white",
           "zerolinewidth": 2
          }
         }
        },
        "title": {
         "text": "Pickup Locations Count: Weekdays vs Weekends"
        },
        "xaxis": {
         "anchor": "y",
         "domain": [
          0,
          1
         ],
         "dtick": 1,
         "tick0": 1,
         "tickmode": "linear",
         "title": {
          "text": "Rank Number"
         }
        },
        "yaxis": {
         "anchor": "x",
         "domain": [
          0,
          1
         ],
         "title": {
          "text": "Trip Count"
         }
        }
       }
      }
     },
     "metadata": {},
     "output_type": "display_data"
    },
    {
     "name": "stdout",
     "output_type": "stream",
     "text": [
      "Figure 4: Pickup Locations Count: Weekdays vs Weekends\n"
     ]
    }
   ],
   "source": [
    "count_comparison_bar_plot(week_day_trips_data, week_end_trips_data,\n",
    "                          column_name='PULocationID', df1_name='Weekdays', df2_name='Weekends', \n",
    "                          plot_title_name = 'Pickup Locations Count: Weekdays vs Weekends',\n",
    "                          plot_xlabel_name = \"Rank Number\",\n",
    "                          plot_ylabel_name = 'Trip Count')\n",
    "print(\"Figure 4: Pickup Locations Count: Weekdays vs Weekends\")"
   ]
  },
  {
   "cell_type": "markdown",
   "metadata": {},
   "source": [
    "The above plot shows the top 10 most frequent pick up locations. The top 1 is the location ID 75 on weekdays, and location ID 41 for week ends. \n",
    "However, the difference between the number of counts of weekdays and weekends is large, this is because weekday has 5 days, and weekend has 2. \n",
    "To solve this, we can compute the ratio, then rank the location ID. I can achieve this by adding a parameter `make_ratio = True`"
   ]
  },
  {
   "cell_type": "code",
   "execution_count": 17,
   "metadata": {},
   "outputs": [
    {
     "data": {
      "application/vnd.plotly.v1+json": {
       "config": {
        "plotlyServerURL": "https://plot.ly"
       },
       "data": [
        {
         "alignmentgroup": "True",
         "customdata": [
          [
           75
          ],
          [
           41
          ],
          [
           74
          ],
          [
           7
          ],
          [
           166
          ],
          [
           255
          ],
          [
           82
          ],
          [
           42
          ],
          [
           181
          ],
          [
           97
          ]
         ],
         "hovertemplate": "day=Weekdays<br>Rank Number=%{x}<br>Trip Ratio=%{y}<br>PULocationID=%{customdata[0]}<extra></extra>",
         "legendgroup": "Weekdays",
         "marker": {
          "color": "#636efa",
          "pattern": {
           "shape": ""
          }
         },
         "name": "Weekdays",
         "offsetgroup": "Weekdays",
         "orientation": "v",
         "showlegend": true,
         "text": [
          75,
          41,
          74,
          7,
          166,
          255,
          82,
          42,
          181,
          97
         ],
         "textposition": "auto",
         "type": "bar",
         "x": [
          1,
          2,
          3,
          4,
          5,
          6,
          7,
          8,
          9,
          10
         ],
         "xaxis": "x",
         "y": [
          0.054528694697267226,
          0.051874849863304116,
          0.0511093910264965,
          0.04414876783051998,
          0.04395049206706297,
          0.03862469067074403,
          0.03650561844879719,
          0.035805933783520996,
          0.03461913894936723,
          0.031012998501492788
         ],
         "yaxis": "y"
        },
        {
         "alignmentgroup": "True",
         "customdata": [
          [
           41
          ],
          [
           255
          ],
          [
           7
          ],
          [
           74
          ],
          [
           82
          ],
          [
           181
          ],
          [
           42
          ],
          [
           75
          ],
          [
           129
          ],
          [
           97
          ]
         ],
         "hovertemplate": "day=Weekends<br>Rank Number=%{x}<br>Trip Ratio=%{y}<br>PULocationID=%{customdata[0]}<extra></extra>",
         "legendgroup": "Weekends",
         "marker": {
          "color": "#EF553B",
          "pattern": {
           "shape": ""
          }
         },
         "name": "Weekends",
         "offsetgroup": "Weekends",
         "orientation": "v",
         "showlegend": true,
         "text": [
          41,
          255,
          7,
          74,
          82,
          181,
          42,
          75,
          129,
          97
         ],
         "textposition": "auto",
         "type": "bar",
         "x": [
          1,
          2,
          3,
          4,
          5,
          6,
          7,
          8,
          9,
          10
         ],
         "xaxis": "x",
         "y": [
          0.05392719601107265,
          0.05328172449196193,
          0.05017133153409952,
          0.044069676267875016,
          0.04146396406153206,
          0.039936925736119115,
          0.0344330897292052,
          0.03232772625076352,
          0.03178405728668033,
          0.030629572992431953
         ],
         "yaxis": "y"
        }
       ],
       "layout": {
        "barmode": "group",
        "legend": {
         "title": {
          "text": "day"
         },
         "tracegroupgap": 0
        },
        "template": {
         "data": {
          "bar": [
           {
            "error_x": {
             "color": "#2a3f5f"
            },
            "error_y": {
             "color": "#2a3f5f"
            },
            "marker": {
             "line": {
              "color": "#E5ECF6",
              "width": 0.5
             },
             "pattern": {
              "fillmode": "overlay",
              "size": 10,
              "solidity": 0.2
             }
            },
            "type": "bar"
           }
          ],
          "barpolar": [
           {
            "marker": {
             "line": {
              "color": "#E5ECF6",
              "width": 0.5
             },
             "pattern": {
              "fillmode": "overlay",
              "size": 10,
              "solidity": 0.2
             }
            },
            "type": "barpolar"
           }
          ],
          "carpet": [
           {
            "aaxis": {
             "endlinecolor": "#2a3f5f",
             "gridcolor": "white",
             "linecolor": "white",
             "minorgridcolor": "white",
             "startlinecolor": "#2a3f5f"
            },
            "baxis": {
             "endlinecolor": "#2a3f5f",
             "gridcolor": "white",
             "linecolor": "white",
             "minorgridcolor": "white",
             "startlinecolor": "#2a3f5f"
            },
            "type": "carpet"
           }
          ],
          "choropleth": [
           {
            "colorbar": {
             "outlinewidth": 0,
             "ticks": ""
            },
            "type": "choropleth"
           }
          ],
          "contour": [
           {
            "colorbar": {
             "outlinewidth": 0,
             "ticks": ""
            },
            "colorscale": [
             [
              0,
              "#0d0887"
             ],
             [
              0.1111111111111111,
              "#46039f"
             ],
             [
              0.2222222222222222,
              "#7201a8"
             ],
             [
              0.3333333333333333,
              "#9c179e"
             ],
             [
              0.4444444444444444,
              "#bd3786"
             ],
             [
              0.5555555555555556,
              "#d8576b"
             ],
             [
              0.6666666666666666,
              "#ed7953"
             ],
             [
              0.7777777777777778,
              "#fb9f3a"
             ],
             [
              0.8888888888888888,
              "#fdca26"
             ],
             [
              1,
              "#f0f921"
             ]
            ],
            "type": "contour"
           }
          ],
          "contourcarpet": [
           {
            "colorbar": {
             "outlinewidth": 0,
             "ticks": ""
            },
            "type": "contourcarpet"
           }
          ],
          "heatmap": [
           {
            "colorbar": {
             "outlinewidth": 0,
             "ticks": ""
            },
            "colorscale": [
             [
              0,
              "#0d0887"
             ],
             [
              0.1111111111111111,
              "#46039f"
             ],
             [
              0.2222222222222222,
              "#7201a8"
             ],
             [
              0.3333333333333333,
              "#9c179e"
             ],
             [
              0.4444444444444444,
              "#bd3786"
             ],
             [
              0.5555555555555556,
              "#d8576b"
             ],
             [
              0.6666666666666666,
              "#ed7953"
             ],
             [
              0.7777777777777778,
              "#fb9f3a"
             ],
             [
              0.8888888888888888,
              "#fdca26"
             ],
             [
              1,
              "#f0f921"
             ]
            ],
            "type": "heatmap"
           }
          ],
          "heatmapgl": [
           {
            "colorbar": {
             "outlinewidth": 0,
             "ticks": ""
            },
            "colorscale": [
             [
              0,
              "#0d0887"
             ],
             [
              0.1111111111111111,
              "#46039f"
             ],
             [
              0.2222222222222222,
              "#7201a8"
             ],
             [
              0.3333333333333333,
              "#9c179e"
             ],
             [
              0.4444444444444444,
              "#bd3786"
             ],
             [
              0.5555555555555556,
              "#d8576b"
             ],
             [
              0.6666666666666666,
              "#ed7953"
             ],
             [
              0.7777777777777778,
              "#fb9f3a"
             ],
             [
              0.8888888888888888,
              "#fdca26"
             ],
             [
              1,
              "#f0f921"
             ]
            ],
            "type": "heatmapgl"
           }
          ],
          "histogram": [
           {
            "marker": {
             "pattern": {
              "fillmode": "overlay",
              "size": 10,
              "solidity": 0.2
             }
            },
            "type": "histogram"
           }
          ],
          "histogram2d": [
           {
            "colorbar": {
             "outlinewidth": 0,
             "ticks": ""
            },
            "colorscale": [
             [
              0,
              "#0d0887"
             ],
             [
              0.1111111111111111,
              "#46039f"
             ],
             [
              0.2222222222222222,
              "#7201a8"
             ],
             [
              0.3333333333333333,
              "#9c179e"
             ],
             [
              0.4444444444444444,
              "#bd3786"
             ],
             [
              0.5555555555555556,
              "#d8576b"
             ],
             [
              0.6666666666666666,
              "#ed7953"
             ],
             [
              0.7777777777777778,
              "#fb9f3a"
             ],
             [
              0.8888888888888888,
              "#fdca26"
             ],
             [
              1,
              "#f0f921"
             ]
            ],
            "type": "histogram2d"
           }
          ],
          "histogram2dcontour": [
           {
            "colorbar": {
             "outlinewidth": 0,
             "ticks": ""
            },
            "colorscale": [
             [
              0,
              "#0d0887"
             ],
             [
              0.1111111111111111,
              "#46039f"
             ],
             [
              0.2222222222222222,
              "#7201a8"
             ],
             [
              0.3333333333333333,
              "#9c179e"
             ],
             [
              0.4444444444444444,
              "#bd3786"
             ],
             [
              0.5555555555555556,
              "#d8576b"
             ],
             [
              0.6666666666666666,
              "#ed7953"
             ],
             [
              0.7777777777777778,
              "#fb9f3a"
             ],
             [
              0.8888888888888888,
              "#fdca26"
             ],
             [
              1,
              "#f0f921"
             ]
            ],
            "type": "histogram2dcontour"
           }
          ],
          "mesh3d": [
           {
            "colorbar": {
             "outlinewidth": 0,
             "ticks": ""
            },
            "type": "mesh3d"
           }
          ],
          "parcoords": [
           {
            "line": {
             "colorbar": {
              "outlinewidth": 0,
              "ticks": ""
             }
            },
            "type": "parcoords"
           }
          ],
          "pie": [
           {
            "automargin": true,
            "type": "pie"
           }
          ],
          "scatter": [
           {
            "fillpattern": {
             "fillmode": "overlay",
             "size": 10,
             "solidity": 0.2
            },
            "type": "scatter"
           }
          ],
          "scatter3d": [
           {
            "line": {
             "colorbar": {
              "outlinewidth": 0,
              "ticks": ""
             }
            },
            "marker": {
             "colorbar": {
              "outlinewidth": 0,
              "ticks": ""
             }
            },
            "type": "scatter3d"
           }
          ],
          "scattercarpet": [
           {
            "marker": {
             "colorbar": {
              "outlinewidth": 0,
              "ticks": ""
             }
            },
            "type": "scattercarpet"
           }
          ],
          "scattergeo": [
           {
            "marker": {
             "colorbar": {
              "outlinewidth": 0,
              "ticks": ""
             }
            },
            "type": "scattergeo"
           }
          ],
          "scattergl": [
           {
            "marker": {
             "colorbar": {
              "outlinewidth": 0,
              "ticks": ""
             }
            },
            "type": "scattergl"
           }
          ],
          "scattermapbox": [
           {
            "marker": {
             "colorbar": {
              "outlinewidth": 0,
              "ticks": ""
             }
            },
            "type": "scattermapbox"
           }
          ],
          "scatterpolar": [
           {
            "marker": {
             "colorbar": {
              "outlinewidth": 0,
              "ticks": ""
             }
            },
            "type": "scatterpolar"
           }
          ],
          "scatterpolargl": [
           {
            "marker": {
             "colorbar": {
              "outlinewidth": 0,
              "ticks": ""
             }
            },
            "type": "scatterpolargl"
           }
          ],
          "scatterternary": [
           {
            "marker": {
             "colorbar": {
              "outlinewidth": 0,
              "ticks": ""
             }
            },
            "type": "scatterternary"
           }
          ],
          "surface": [
           {
            "colorbar": {
             "outlinewidth": 0,
             "ticks": ""
            },
            "colorscale": [
             [
              0,
              "#0d0887"
             ],
             [
              0.1111111111111111,
              "#46039f"
             ],
             [
              0.2222222222222222,
              "#7201a8"
             ],
             [
              0.3333333333333333,
              "#9c179e"
             ],
             [
              0.4444444444444444,
              "#bd3786"
             ],
             [
              0.5555555555555556,
              "#d8576b"
             ],
             [
              0.6666666666666666,
              "#ed7953"
             ],
             [
              0.7777777777777778,
              "#fb9f3a"
             ],
             [
              0.8888888888888888,
              "#fdca26"
             ],
             [
              1,
              "#f0f921"
             ]
            ],
            "type": "surface"
           }
          ],
          "table": [
           {
            "cells": {
             "fill": {
              "color": "#EBF0F8"
             },
             "line": {
              "color": "white"
             }
            },
            "header": {
             "fill": {
              "color": "#C8D4E3"
             },
             "line": {
              "color": "white"
             }
            },
            "type": "table"
           }
          ]
         },
         "layout": {
          "annotationdefaults": {
           "arrowcolor": "#2a3f5f",
           "arrowhead": 0,
           "arrowwidth": 1
          },
          "autotypenumbers": "strict",
          "coloraxis": {
           "colorbar": {
            "outlinewidth": 0,
            "ticks": ""
           }
          },
          "colorscale": {
           "diverging": [
            [
             0,
             "#8e0152"
            ],
            [
             0.1,
             "#c51b7d"
            ],
            [
             0.2,
             "#de77ae"
            ],
            [
             0.3,
             "#f1b6da"
            ],
            [
             0.4,
             "#fde0ef"
            ],
            [
             0.5,
             "#f7f7f7"
            ],
            [
             0.6,
             "#e6f5d0"
            ],
            [
             0.7,
             "#b8e186"
            ],
            [
             0.8,
             "#7fbc41"
            ],
            [
             0.9,
             "#4d9221"
            ],
            [
             1,
             "#276419"
            ]
           ],
           "sequential": [
            [
             0,
             "#0d0887"
            ],
            [
             0.1111111111111111,
             "#46039f"
            ],
            [
             0.2222222222222222,
             "#7201a8"
            ],
            [
             0.3333333333333333,
             "#9c179e"
            ],
            [
             0.4444444444444444,
             "#bd3786"
            ],
            [
             0.5555555555555556,
             "#d8576b"
            ],
            [
             0.6666666666666666,
             "#ed7953"
            ],
            [
             0.7777777777777778,
             "#fb9f3a"
            ],
            [
             0.8888888888888888,
             "#fdca26"
            ],
            [
             1,
             "#f0f921"
            ]
           ],
           "sequentialminus": [
            [
             0,
             "#0d0887"
            ],
            [
             0.1111111111111111,
             "#46039f"
            ],
            [
             0.2222222222222222,
             "#7201a8"
            ],
            [
             0.3333333333333333,
             "#9c179e"
            ],
            [
             0.4444444444444444,
             "#bd3786"
            ],
            [
             0.5555555555555556,
             "#d8576b"
            ],
            [
             0.6666666666666666,
             "#ed7953"
            ],
            [
             0.7777777777777778,
             "#fb9f3a"
            ],
            [
             0.8888888888888888,
             "#fdca26"
            ],
            [
             1,
             "#f0f921"
            ]
           ]
          },
          "colorway": [
           "#636efa",
           "#EF553B",
           "#00cc96",
           "#ab63fa",
           "#FFA15A",
           "#19d3f3",
           "#FF6692",
           "#B6E880",
           "#FF97FF",
           "#FECB52"
          ],
          "font": {
           "color": "#2a3f5f"
          },
          "geo": {
           "bgcolor": "white",
           "lakecolor": "white",
           "landcolor": "#E5ECF6",
           "showlakes": true,
           "showland": true,
           "subunitcolor": "white"
          },
          "hoverlabel": {
           "align": "left"
          },
          "hovermode": "closest",
          "mapbox": {
           "style": "light"
          },
          "paper_bgcolor": "white",
          "plot_bgcolor": "#E5ECF6",
          "polar": {
           "angularaxis": {
            "gridcolor": "white",
            "linecolor": "white",
            "ticks": ""
           },
           "bgcolor": "#E5ECF6",
           "radialaxis": {
            "gridcolor": "white",
            "linecolor": "white",
            "ticks": ""
           }
          },
          "scene": {
           "xaxis": {
            "backgroundcolor": "#E5ECF6",
            "gridcolor": "white",
            "gridwidth": 2,
            "linecolor": "white",
            "showbackground": true,
            "ticks": "",
            "zerolinecolor": "white"
           },
           "yaxis": {
            "backgroundcolor": "#E5ECF6",
            "gridcolor": "white",
            "gridwidth": 2,
            "linecolor": "white",
            "showbackground": true,
            "ticks": "",
            "zerolinecolor": "white"
           },
           "zaxis": {
            "backgroundcolor": "#E5ECF6",
            "gridcolor": "white",
            "gridwidth": 2,
            "linecolor": "white",
            "showbackground": true,
            "ticks": "",
            "zerolinecolor": "white"
           }
          },
          "shapedefaults": {
           "line": {
            "color": "#2a3f5f"
           }
          },
          "ternary": {
           "aaxis": {
            "gridcolor": "white",
            "linecolor": "white",
            "ticks": ""
           },
           "baxis": {
            "gridcolor": "white",
            "linecolor": "white",
            "ticks": ""
           },
           "bgcolor": "#E5ECF6",
           "caxis": {
            "gridcolor": "white",
            "linecolor": "white",
            "ticks": ""
           }
          },
          "title": {
           "x": 0.05
          },
          "xaxis": {
           "automargin": true,
           "gridcolor": "white",
           "linecolor": "white",
           "ticks": "",
           "title": {
            "standoff": 15
           },
           "zerolinecolor": "white",
           "zerolinewidth": 2
          },
          "yaxis": {
           "automargin": true,
           "gridcolor": "white",
           "linecolor": "white",
           "ticks": "",
           "title": {
            "standoff": 15
           },
           "zerolinecolor": "white",
           "zerolinewidth": 2
          }
         }
        },
        "title": {
         "text": "Pickup Locations Proportion: Weekdays vs Weekends"
        },
        "xaxis": {
         "anchor": "y",
         "domain": [
          0,
          1
         ],
         "dtick": 1,
         "tick0": 1,
         "tickmode": "linear",
         "title": {
          "text": "Rank Number"
         }
        },
        "yaxis": {
         "anchor": "x",
         "domain": [
          0,
          1
         ],
         "title": {
          "text": "Trip Ratio"
         }
        }
       }
      }
     },
     "metadata": {},
     "output_type": "display_data"
    },
    {
     "name": "stdout",
     "output_type": "stream",
     "text": [
      "Figure 5: Pickup Locations Proportion: Weekdays vs Weekends\n"
     ]
    }
   ],
   "source": [
    "count_comparison_bar_plot(week_day_trips_data, week_end_trips_data,\n",
    "                          make_ratio=True,\n",
    "                          column_name='PULocationID', df1_name='Weekdays', df2_name='Weekends', \n",
    "                          plot_title_name = 'Pickup Locations Proportion: Weekdays vs Weekends',\n",
    "                          plot_xlabel_name = \"Rank Number\",\n",
    "                          plot_ylabel_name = 'Trip Ratio')\n",
    "print(\"Figure 5: Pickup Locations Proportion: Weekdays vs Weekends\")\n"
   ]
  },
  {
   "cell_type": "markdown",
   "metadata": {},
   "source": [
    "With this, we can say that the top 10 frequent location does not vary significantly and the ranking of the ratio is similar to the count.\n",
    "\n",
    "In conclusion, designating more taxis to location IDs 75, 41, 74, 7, 166, ..., and 97 on weekdays, and to location IDs 41, 255, 7, 74, 82, ..., and 97 on weekends, could optimize fleet utilization. The higher demand in these areas indicates that deploying more taxis there would likely capture a greater share of trips, leading to increased revenue. By aligning taxi ranking distribution with these demand patterns, the company can more effectively serve passengers and maximize earnings.\n",
    "\n",
    "The idea of fleet utilization comes from here:\n",
    "- https://www.way.com/blog/fleet-use-meaning/\n",
    "- https://www.tourmo.ai/resources/learn/how-to-improve-fleet-utilization-in-3-steps-tm/"
   ]
  },
  {
   "cell_type": "markdown",
   "metadata": {},
   "source": [
    "## 4. Build a model to forecast the number of trips per hour (ARIMA)\n"
   ]
  },
  {
   "cell_type": "markdown",
   "metadata": {},
   "source": [
    "In this modelling process, I will try to implement ARIMA model, and one requirement that we need to satisfy is the stationarity of the data.\n",
    "\n",
    "We have three ways to measure the stationarity of the data. These are the following:\n",
    "1. Visual inspection using time-series plot. If we see that we have constant mean and variance, and no seasonality, then we have stationary data. If the visual is hard to visualize, then we go to numbers 2 and 3 below.\n",
    "2. Using global average tests. In this case, we measure the mean and std of the whole data, then we compute the mean of only a portion of data (For example: Jan to Feb, and the global mean is from Jan to Dec). If we have approximately similar mean and standard deviation, with no seasonality, then we can say that our data is stationary.\n",
    "3. Using augmented dickey-fuller test. "
   ]
  },
  {
   "cell_type": "markdown",
   "metadata": {},
   "source": [
    "This notebook only shows 1 and 3:"
   ]
  },
  {
   "cell_type": "code",
   "execution_count": 18,
   "metadata": {},
   "outputs": [
    {
     "data": {
      "application/vnd.plotly.v1+json": {
       "config": {
        "plotlyServerURL": "https://plot.ly"
       },
       "data": [
        {
         "hovertemplate": "Date and Time=%{x}<br>Number of Trips=%{y}<extra></extra>",
         "legendgroup": "",
         "line": {
          "color": "#636efa",
          "dash": "solid"
         },
         "marker": {
          "symbol": "circle"
         },
         "mode": "lines",
         "name": "",
         "orientation": "v",
         "showlegend": false,
         "type": "scatter",
         "x": [
          "2016-01-31T19:00:00-05:00",
          "2016-01-31T20:00:00-05:00",
          "2016-01-31T21:00:00-05:00",
          "2016-01-31T22:00:00-05:00",
          "2016-01-31T23:00:00-05:00",
          "2016-02-01T00:00:00-05:00",
          "2016-02-01T01:00:00-05:00",
          "2016-02-01T02:00:00-05:00",
          "2016-02-01T03:00:00-05:00",
          "2016-02-01T04:00:00-05:00",
          "2016-02-01T05:00:00-05:00",
          "2016-02-01T06:00:00-05:00",
          "2016-02-01T07:00:00-05:00",
          "2016-02-01T08:00:00-05:00",
          "2016-02-01T09:00:00-05:00",
          "2016-02-01T10:00:00-05:00",
          "2016-02-01T11:00:00-05:00",
          "2016-02-01T12:00:00-05:00",
          "2016-02-01T13:00:00-05:00",
          "2016-02-01T14:00:00-05:00",
          "2016-02-01T15:00:00-05:00",
          "2016-02-01T16:00:00-05:00",
          "2016-02-01T17:00:00-05:00",
          "2016-02-01T18:00:00-05:00",
          "2016-02-01T19:00:00-05:00",
          "2016-02-01T20:00:00-05:00",
          "2016-02-01T21:00:00-05:00",
          "2016-02-01T22:00:00-05:00",
          "2016-02-01T23:00:00-05:00",
          "2016-02-02T00:00:00-05:00",
          "2016-02-02T01:00:00-05:00",
          "2016-02-02T02:00:00-05:00",
          "2016-02-02T03:00:00-05:00",
          "2016-02-02T04:00:00-05:00",
          "2016-02-02T05:00:00-05:00",
          "2016-02-02T06:00:00-05:00",
          "2016-02-02T07:00:00-05:00",
          "2016-02-02T08:00:00-05:00",
          "2016-02-02T09:00:00-05:00",
          "2016-02-02T10:00:00-05:00",
          "2016-02-02T11:00:00-05:00",
          "2016-02-02T12:00:00-05:00",
          "2016-02-02T13:00:00-05:00",
          "2016-02-02T14:00:00-05:00",
          "2016-02-02T15:00:00-05:00",
          "2016-02-02T16:00:00-05:00",
          "2016-02-02T17:00:00-05:00",
          "2016-02-02T18:00:00-05:00",
          "2016-02-02T19:00:00-05:00",
          "2016-02-02T20:00:00-05:00",
          "2016-02-02T21:00:00-05:00",
          "2016-02-02T22:00:00-05:00",
          "2016-02-02T23:00:00-05:00",
          "2016-02-03T00:00:00-05:00",
          "2016-02-03T01:00:00-05:00",
          "2016-02-03T02:00:00-05:00",
          "2016-02-03T03:00:00-05:00",
          "2016-02-03T04:00:00-05:00",
          "2016-02-03T05:00:00-05:00",
          "2016-02-03T06:00:00-05:00",
          "2016-02-03T07:00:00-05:00",
          "2016-02-03T08:00:00-05:00",
          "2016-02-03T09:00:00-05:00",
          "2016-02-03T10:00:00-05:00",
          "2016-02-03T11:00:00-05:00",
          "2016-02-03T12:00:00-05:00",
          "2016-02-03T13:00:00-05:00",
          "2016-02-03T14:00:00-05:00",
          "2016-02-03T15:00:00-05:00",
          "2016-02-03T16:00:00-05:00",
          "2016-02-03T17:00:00-05:00",
          "2016-02-03T18:00:00-05:00",
          "2016-02-03T19:00:00-05:00",
          "2016-02-03T20:00:00-05:00",
          "2016-02-03T21:00:00-05:00",
          "2016-02-03T22:00:00-05:00",
          "2016-02-03T23:00:00-05:00",
          "2016-02-04T00:00:00-05:00",
          "2016-02-04T01:00:00-05:00",
          "2016-02-04T02:00:00-05:00",
          "2016-02-04T03:00:00-05:00",
          "2016-02-04T04:00:00-05:00",
          "2016-02-04T05:00:00-05:00",
          "2016-02-04T06:00:00-05:00",
          "2016-02-04T07:00:00-05:00",
          "2016-02-04T08:00:00-05:00",
          "2016-02-04T09:00:00-05:00",
          "2016-02-04T10:00:00-05:00",
          "2016-02-04T11:00:00-05:00",
          "2016-02-04T12:00:00-05:00",
          "2016-02-04T13:00:00-05:00",
          "2016-02-04T14:00:00-05:00",
          "2016-02-04T15:00:00-05:00",
          "2016-02-04T16:00:00-05:00",
          "2016-02-04T17:00:00-05:00",
          "2016-02-04T18:00:00-05:00",
          "2016-02-04T19:00:00-05:00",
          "2016-02-04T20:00:00-05:00",
          "2016-02-04T21:00:00-05:00",
          "2016-02-04T22:00:00-05:00",
          "2016-02-04T23:00:00-05:00",
          "2016-02-05T00:00:00-05:00",
          "2016-02-05T01:00:00-05:00",
          "2016-02-05T02:00:00-05:00",
          "2016-02-05T03:00:00-05:00",
          "2016-02-05T04:00:00-05:00",
          "2016-02-05T05:00:00-05:00",
          "2016-02-05T06:00:00-05:00",
          "2016-02-05T07:00:00-05:00",
          "2016-02-05T08:00:00-05:00",
          "2016-02-05T09:00:00-05:00",
          "2016-02-05T10:00:00-05:00",
          "2016-02-05T11:00:00-05:00",
          "2016-02-05T12:00:00-05:00",
          "2016-02-05T13:00:00-05:00",
          "2016-02-05T14:00:00-05:00",
          "2016-02-05T15:00:00-05:00",
          "2016-02-05T16:00:00-05:00",
          "2016-02-05T17:00:00-05:00",
          "2016-02-05T18:00:00-05:00",
          "2016-02-05T19:00:00-05:00",
          "2016-02-05T20:00:00-05:00",
          "2016-02-05T21:00:00-05:00",
          "2016-02-05T22:00:00-05:00",
          "2016-02-05T23:00:00-05:00",
          "2016-02-06T00:00:00-05:00",
          "2016-02-06T01:00:00-05:00",
          "2016-02-06T02:00:00-05:00",
          "2016-02-06T03:00:00-05:00",
          "2016-02-06T04:00:00-05:00",
          "2016-02-06T05:00:00-05:00",
          "2016-02-06T06:00:00-05:00",
          "2016-02-06T07:00:00-05:00",
          "2016-02-06T08:00:00-05:00",
          "2016-02-06T09:00:00-05:00",
          "2016-02-06T10:00:00-05:00",
          "2016-02-06T11:00:00-05:00",
          "2016-02-06T12:00:00-05:00",
          "2016-02-06T13:00:00-05:00",
          "2016-02-06T14:00:00-05:00",
          "2016-02-06T15:00:00-05:00",
          "2016-02-06T16:00:00-05:00",
          "2016-02-06T17:00:00-05:00",
          "2016-02-06T18:00:00-05:00",
          "2016-02-06T19:00:00-05:00",
          "2016-02-06T20:00:00-05:00",
          "2016-02-06T21:00:00-05:00",
          "2016-02-06T22:00:00-05:00",
          "2016-02-06T23:00:00-05:00",
          "2016-02-07T00:00:00-05:00",
          "2016-02-07T01:00:00-05:00",
          "2016-02-07T02:00:00-05:00",
          "2016-02-07T03:00:00-05:00",
          "2016-02-07T04:00:00-05:00",
          "2016-02-07T05:00:00-05:00",
          "2016-02-07T06:00:00-05:00",
          "2016-02-07T07:00:00-05:00",
          "2016-02-07T08:00:00-05:00",
          "2016-02-07T09:00:00-05:00",
          "2016-02-07T10:00:00-05:00",
          "2016-02-07T11:00:00-05:00",
          "2016-02-07T12:00:00-05:00",
          "2016-02-07T13:00:00-05:00",
          "2016-02-07T14:00:00-05:00",
          "2016-02-07T15:00:00-05:00",
          "2016-02-07T16:00:00-05:00",
          "2016-02-07T17:00:00-05:00",
          "2016-02-07T18:00:00-05:00",
          "2016-02-07T19:00:00-05:00",
          "2016-02-07T20:00:00-05:00",
          "2016-02-07T21:00:00-05:00",
          "2016-02-07T22:00:00-05:00",
          "2016-02-07T23:00:00-05:00",
          "2016-02-08T00:00:00-05:00",
          "2016-02-08T01:00:00-05:00",
          "2016-02-08T02:00:00-05:00",
          "2016-02-08T03:00:00-05:00",
          "2016-02-08T04:00:00-05:00",
          "2016-02-08T05:00:00-05:00",
          "2016-02-08T06:00:00-05:00",
          "2016-02-08T07:00:00-05:00",
          "2016-02-08T08:00:00-05:00",
          "2016-02-08T09:00:00-05:00",
          "2016-02-08T10:00:00-05:00",
          "2016-02-08T11:00:00-05:00",
          "2016-02-08T12:00:00-05:00",
          "2016-02-08T13:00:00-05:00",
          "2016-02-08T14:00:00-05:00",
          "2016-02-08T15:00:00-05:00",
          "2016-02-08T16:00:00-05:00",
          "2016-02-08T17:00:00-05:00",
          "2016-02-08T18:00:00-05:00",
          "2016-02-08T19:00:00-05:00",
          "2016-02-08T20:00:00-05:00",
          "2016-02-08T21:00:00-05:00",
          "2016-02-08T22:00:00-05:00",
          "2016-02-08T23:00:00-05:00",
          "2016-02-09T00:00:00-05:00",
          "2016-02-09T01:00:00-05:00",
          "2016-02-09T02:00:00-05:00",
          "2016-02-09T03:00:00-05:00",
          "2016-02-09T04:00:00-05:00",
          "2016-02-09T05:00:00-05:00",
          "2016-02-09T06:00:00-05:00",
          "2016-02-09T07:00:00-05:00",
          "2016-02-09T08:00:00-05:00",
          "2016-02-09T09:00:00-05:00",
          "2016-02-09T10:00:00-05:00",
          "2016-02-09T11:00:00-05:00",
          "2016-02-09T12:00:00-05:00",
          "2016-02-09T13:00:00-05:00",
          "2016-02-09T14:00:00-05:00",
          "2016-02-09T15:00:00-05:00",
          "2016-02-09T16:00:00-05:00",
          "2016-02-09T17:00:00-05:00",
          "2016-02-09T18:00:00-05:00",
          "2016-02-09T19:00:00-05:00",
          "2016-02-09T20:00:00-05:00",
          "2016-02-09T21:00:00-05:00",
          "2016-02-09T22:00:00-05:00",
          "2016-02-09T23:00:00-05:00",
          "2016-02-10T00:00:00-05:00",
          "2016-02-10T01:00:00-05:00",
          "2016-02-10T02:00:00-05:00",
          "2016-02-10T03:00:00-05:00",
          "2016-02-10T04:00:00-05:00",
          "2016-02-10T05:00:00-05:00",
          "2016-02-10T06:00:00-05:00",
          "2016-02-10T07:00:00-05:00",
          "2016-02-10T08:00:00-05:00",
          "2016-02-10T09:00:00-05:00",
          "2016-02-10T10:00:00-05:00",
          "2016-02-10T11:00:00-05:00",
          "2016-02-10T12:00:00-05:00",
          "2016-02-10T13:00:00-05:00",
          "2016-02-10T14:00:00-05:00",
          "2016-02-10T15:00:00-05:00",
          "2016-02-10T16:00:00-05:00",
          "2016-02-10T17:00:00-05:00",
          "2016-02-10T18:00:00-05:00",
          "2016-02-10T19:00:00-05:00",
          "2016-02-10T20:00:00-05:00",
          "2016-02-10T21:00:00-05:00",
          "2016-02-10T22:00:00-05:00",
          "2016-02-10T23:00:00-05:00",
          "2016-02-11T00:00:00-05:00",
          "2016-02-11T01:00:00-05:00",
          "2016-02-11T02:00:00-05:00",
          "2016-02-11T03:00:00-05:00",
          "2016-02-11T04:00:00-05:00",
          "2016-02-11T05:00:00-05:00",
          "2016-02-11T06:00:00-05:00",
          "2016-02-11T07:00:00-05:00",
          "2016-02-11T08:00:00-05:00",
          "2016-02-11T09:00:00-05:00",
          "2016-02-11T10:00:00-05:00",
          "2016-02-11T11:00:00-05:00",
          "2016-02-11T12:00:00-05:00",
          "2016-02-11T13:00:00-05:00",
          "2016-02-11T14:00:00-05:00",
          "2016-02-11T15:00:00-05:00",
          "2016-02-11T16:00:00-05:00",
          "2016-02-11T17:00:00-05:00",
          "2016-02-11T18:00:00-05:00",
          "2016-02-11T19:00:00-05:00",
          "2016-02-11T20:00:00-05:00",
          "2016-02-11T21:00:00-05:00",
          "2016-02-11T22:00:00-05:00",
          "2016-02-11T23:00:00-05:00",
          "2016-02-12T00:00:00-05:00",
          "2016-02-12T01:00:00-05:00",
          "2016-02-12T02:00:00-05:00",
          "2016-02-12T03:00:00-05:00",
          "2016-02-12T04:00:00-05:00",
          "2016-02-12T05:00:00-05:00",
          "2016-02-12T06:00:00-05:00",
          "2016-02-12T07:00:00-05:00",
          "2016-02-12T08:00:00-05:00",
          "2016-02-12T09:00:00-05:00",
          "2016-02-12T10:00:00-05:00",
          "2016-02-12T11:00:00-05:00",
          "2016-02-12T12:00:00-05:00",
          "2016-02-12T13:00:00-05:00",
          "2016-02-12T14:00:00-05:00",
          "2016-02-12T15:00:00-05:00",
          "2016-02-12T16:00:00-05:00",
          "2016-02-12T17:00:00-05:00",
          "2016-02-12T18:00:00-05:00",
          "2016-02-12T19:00:00-05:00",
          "2016-02-12T20:00:00-05:00",
          "2016-02-12T21:00:00-05:00",
          "2016-02-12T22:00:00-05:00",
          "2016-02-12T23:00:00-05:00",
          "2016-02-13T00:00:00-05:00",
          "2016-02-13T01:00:00-05:00",
          "2016-02-13T02:00:00-05:00",
          "2016-02-13T03:00:00-05:00",
          "2016-02-13T04:00:00-05:00",
          "2016-02-13T05:00:00-05:00",
          "2016-02-13T06:00:00-05:00",
          "2016-02-13T07:00:00-05:00",
          "2016-02-13T08:00:00-05:00",
          "2016-02-13T09:00:00-05:00",
          "2016-02-13T10:00:00-05:00",
          "2016-02-13T11:00:00-05:00",
          "2016-02-13T12:00:00-05:00",
          "2016-02-13T13:00:00-05:00",
          "2016-02-13T14:00:00-05:00",
          "2016-02-13T15:00:00-05:00",
          "2016-02-13T16:00:00-05:00",
          "2016-02-13T17:00:00-05:00",
          "2016-02-13T18:00:00-05:00",
          "2016-02-13T19:00:00-05:00",
          "2016-02-13T20:00:00-05:00",
          "2016-02-13T21:00:00-05:00",
          "2016-02-13T22:00:00-05:00",
          "2016-02-13T23:00:00-05:00",
          "2016-02-14T00:00:00-05:00",
          "2016-02-14T01:00:00-05:00",
          "2016-02-14T02:00:00-05:00",
          "2016-02-14T03:00:00-05:00",
          "2016-02-14T04:00:00-05:00",
          "2016-02-14T05:00:00-05:00",
          "2016-02-14T06:00:00-05:00",
          "2016-02-14T07:00:00-05:00",
          "2016-02-14T08:00:00-05:00",
          "2016-02-14T09:00:00-05:00",
          "2016-02-14T10:00:00-05:00",
          "2016-02-14T11:00:00-05:00",
          "2016-02-14T12:00:00-05:00",
          "2016-02-14T13:00:00-05:00",
          "2016-02-14T14:00:00-05:00",
          "2016-02-14T15:00:00-05:00",
          "2016-02-14T16:00:00-05:00",
          "2016-02-14T17:00:00-05:00",
          "2016-02-14T18:00:00-05:00",
          "2016-02-14T19:00:00-05:00",
          "2016-02-14T20:00:00-05:00",
          "2016-02-14T21:00:00-05:00",
          "2016-02-14T22:00:00-05:00",
          "2016-02-14T23:00:00-05:00",
          "2016-02-15T00:00:00-05:00",
          "2016-02-15T01:00:00-05:00",
          "2016-02-15T02:00:00-05:00",
          "2016-02-15T03:00:00-05:00",
          "2016-02-15T04:00:00-05:00",
          "2016-02-15T05:00:00-05:00",
          "2016-02-15T06:00:00-05:00",
          "2016-02-15T07:00:00-05:00",
          "2016-02-15T08:00:00-05:00",
          "2016-02-15T09:00:00-05:00",
          "2016-02-15T10:00:00-05:00",
          "2016-02-15T11:00:00-05:00",
          "2016-02-15T12:00:00-05:00",
          "2016-02-15T13:00:00-05:00",
          "2016-02-15T14:00:00-05:00",
          "2016-02-15T15:00:00-05:00",
          "2016-02-15T16:00:00-05:00",
          "2016-02-15T17:00:00-05:00",
          "2016-02-15T18:00:00-05:00",
          "2016-02-15T19:00:00-05:00",
          "2016-02-15T20:00:00-05:00",
          "2016-02-15T21:00:00-05:00",
          "2016-02-15T22:00:00-05:00",
          "2016-02-15T23:00:00-05:00",
          "2016-02-16T00:00:00-05:00",
          "2016-02-16T01:00:00-05:00",
          "2016-02-16T02:00:00-05:00",
          "2016-02-16T03:00:00-05:00",
          "2016-02-16T04:00:00-05:00",
          "2016-02-16T05:00:00-05:00",
          "2016-02-16T06:00:00-05:00",
          "2016-02-16T07:00:00-05:00",
          "2016-02-16T08:00:00-05:00",
          "2016-02-16T09:00:00-05:00",
          "2016-02-16T10:00:00-05:00",
          "2016-02-16T11:00:00-05:00",
          "2016-02-16T12:00:00-05:00",
          "2016-02-16T13:00:00-05:00",
          "2016-02-16T14:00:00-05:00",
          "2016-02-16T15:00:00-05:00",
          "2016-02-16T16:00:00-05:00",
          "2016-02-16T17:00:00-05:00",
          "2016-02-16T18:00:00-05:00",
          "2016-02-16T19:00:00-05:00",
          "2016-02-16T20:00:00-05:00",
          "2016-02-16T21:00:00-05:00",
          "2016-02-16T22:00:00-05:00",
          "2016-02-16T23:00:00-05:00",
          "2016-02-17T00:00:00-05:00",
          "2016-02-17T01:00:00-05:00",
          "2016-02-17T02:00:00-05:00",
          "2016-02-17T03:00:00-05:00",
          "2016-02-17T04:00:00-05:00",
          "2016-02-17T05:00:00-05:00",
          "2016-02-17T06:00:00-05:00",
          "2016-02-17T07:00:00-05:00",
          "2016-02-17T08:00:00-05:00",
          "2016-02-17T09:00:00-05:00",
          "2016-02-17T10:00:00-05:00",
          "2016-02-17T11:00:00-05:00",
          "2016-02-17T12:00:00-05:00",
          "2016-02-17T13:00:00-05:00",
          "2016-02-17T14:00:00-05:00",
          "2016-02-17T15:00:00-05:00",
          "2016-02-17T16:00:00-05:00",
          "2016-02-17T17:00:00-05:00",
          "2016-02-17T18:00:00-05:00",
          "2016-02-17T19:00:00-05:00",
          "2016-02-17T20:00:00-05:00",
          "2016-02-17T21:00:00-05:00",
          "2016-02-17T22:00:00-05:00",
          "2016-02-17T23:00:00-05:00",
          "2016-02-18T00:00:00-05:00",
          "2016-02-18T01:00:00-05:00",
          "2016-02-18T02:00:00-05:00",
          "2016-02-18T03:00:00-05:00",
          "2016-02-18T04:00:00-05:00",
          "2016-02-18T05:00:00-05:00",
          "2016-02-18T06:00:00-05:00",
          "2016-02-18T07:00:00-05:00",
          "2016-02-18T08:00:00-05:00",
          "2016-02-18T09:00:00-05:00",
          "2016-02-18T10:00:00-05:00",
          "2016-02-18T11:00:00-05:00",
          "2016-02-18T12:00:00-05:00",
          "2016-02-18T13:00:00-05:00",
          "2016-02-18T14:00:00-05:00",
          "2016-02-18T15:00:00-05:00",
          "2016-02-18T16:00:00-05:00",
          "2016-02-18T17:00:00-05:00",
          "2016-02-18T18:00:00-05:00",
          "2016-02-18T19:00:00-05:00",
          "2016-02-18T20:00:00-05:00",
          "2016-02-18T21:00:00-05:00",
          "2016-02-18T22:00:00-05:00",
          "2016-02-18T23:00:00-05:00",
          "2016-02-19T00:00:00-05:00",
          "2016-02-19T01:00:00-05:00",
          "2016-02-19T02:00:00-05:00",
          "2016-02-19T03:00:00-05:00",
          "2016-02-19T04:00:00-05:00",
          "2016-02-19T05:00:00-05:00",
          "2016-02-19T06:00:00-05:00",
          "2016-02-19T07:00:00-05:00",
          "2016-02-19T08:00:00-05:00",
          "2016-02-19T09:00:00-05:00",
          "2016-02-19T10:00:00-05:00",
          "2016-02-19T11:00:00-05:00",
          "2016-02-19T12:00:00-05:00",
          "2016-02-19T13:00:00-05:00",
          "2016-02-19T14:00:00-05:00",
          "2016-02-19T15:00:00-05:00",
          "2016-02-19T16:00:00-05:00",
          "2016-02-19T17:00:00-05:00",
          "2016-02-19T18:00:00-05:00",
          "2016-02-19T19:00:00-05:00",
          "2016-02-19T20:00:00-05:00",
          "2016-02-19T21:00:00-05:00",
          "2016-02-19T22:00:00-05:00",
          "2016-02-19T23:00:00-05:00",
          "2016-02-20T00:00:00-05:00",
          "2016-02-20T01:00:00-05:00",
          "2016-02-20T02:00:00-05:00",
          "2016-02-20T03:00:00-05:00",
          "2016-02-20T04:00:00-05:00",
          "2016-02-20T05:00:00-05:00",
          "2016-02-20T06:00:00-05:00",
          "2016-02-20T07:00:00-05:00",
          "2016-02-20T08:00:00-05:00",
          "2016-02-20T09:00:00-05:00",
          "2016-02-20T10:00:00-05:00",
          "2016-02-20T11:00:00-05:00",
          "2016-02-20T12:00:00-05:00",
          "2016-02-20T13:00:00-05:00",
          "2016-02-20T14:00:00-05:00",
          "2016-02-20T15:00:00-05:00",
          "2016-02-20T16:00:00-05:00",
          "2016-02-20T17:00:00-05:00",
          "2016-02-20T18:00:00-05:00",
          "2016-02-20T19:00:00-05:00",
          "2016-02-20T20:00:00-05:00",
          "2016-02-20T21:00:00-05:00",
          "2016-02-20T22:00:00-05:00",
          "2016-02-20T23:00:00-05:00",
          "2016-02-21T00:00:00-05:00",
          "2016-02-21T01:00:00-05:00",
          "2016-02-21T02:00:00-05:00",
          "2016-02-21T03:00:00-05:00",
          "2016-02-21T04:00:00-05:00",
          "2016-02-21T05:00:00-05:00",
          "2016-02-21T06:00:00-05:00",
          "2016-02-21T07:00:00-05:00",
          "2016-02-21T08:00:00-05:00",
          "2016-02-21T09:00:00-05:00",
          "2016-02-21T10:00:00-05:00",
          "2016-02-21T11:00:00-05:00",
          "2016-02-21T12:00:00-05:00",
          "2016-02-21T13:00:00-05:00",
          "2016-02-21T14:00:00-05:00",
          "2016-02-21T15:00:00-05:00",
          "2016-02-21T16:00:00-05:00",
          "2016-02-21T17:00:00-05:00",
          "2016-02-21T18:00:00-05:00",
          "2016-02-21T19:00:00-05:00",
          "2016-02-21T20:00:00-05:00",
          "2016-02-21T21:00:00-05:00",
          "2016-02-21T22:00:00-05:00",
          "2016-02-21T23:00:00-05:00",
          "2016-02-22T00:00:00-05:00",
          "2016-02-22T01:00:00-05:00",
          "2016-02-22T02:00:00-05:00",
          "2016-02-22T03:00:00-05:00",
          "2016-02-22T04:00:00-05:00",
          "2016-02-22T05:00:00-05:00",
          "2016-02-22T06:00:00-05:00",
          "2016-02-22T07:00:00-05:00",
          "2016-02-22T08:00:00-05:00",
          "2016-02-22T09:00:00-05:00",
          "2016-02-22T10:00:00-05:00",
          "2016-02-22T11:00:00-05:00",
          "2016-02-22T12:00:00-05:00",
          "2016-02-22T13:00:00-05:00",
          "2016-02-22T14:00:00-05:00",
          "2016-02-22T15:00:00-05:00",
          "2016-02-22T16:00:00-05:00",
          "2016-02-22T17:00:00-05:00",
          "2016-02-22T18:00:00-05:00",
          "2016-02-22T19:00:00-05:00",
          "2016-02-22T20:00:00-05:00",
          "2016-02-22T21:00:00-05:00",
          "2016-02-22T22:00:00-05:00",
          "2016-02-22T23:00:00-05:00",
          "2016-02-23T00:00:00-05:00",
          "2016-02-23T01:00:00-05:00",
          "2016-02-23T02:00:00-05:00",
          "2016-02-23T03:00:00-05:00",
          "2016-02-23T04:00:00-05:00",
          "2016-02-23T05:00:00-05:00",
          "2016-02-23T06:00:00-05:00",
          "2016-02-23T07:00:00-05:00",
          "2016-02-23T08:00:00-05:00",
          "2016-02-23T09:00:00-05:00",
          "2016-02-23T10:00:00-05:00",
          "2016-02-23T11:00:00-05:00",
          "2016-02-23T12:00:00-05:00",
          "2016-02-23T13:00:00-05:00",
          "2016-02-23T14:00:00-05:00",
          "2016-02-23T15:00:00-05:00",
          "2016-02-23T16:00:00-05:00",
          "2016-02-23T17:00:00-05:00",
          "2016-02-23T18:00:00-05:00",
          "2016-02-23T19:00:00-05:00",
          "2016-02-23T20:00:00-05:00",
          "2016-02-23T21:00:00-05:00",
          "2016-02-23T22:00:00-05:00",
          "2016-02-23T23:00:00-05:00",
          "2016-02-24T00:00:00-05:00",
          "2016-02-24T01:00:00-05:00",
          "2016-02-24T02:00:00-05:00",
          "2016-02-24T03:00:00-05:00",
          "2016-02-24T04:00:00-05:00",
          "2016-02-24T05:00:00-05:00",
          "2016-02-24T06:00:00-05:00",
          "2016-02-24T07:00:00-05:00",
          "2016-02-24T08:00:00-05:00",
          "2016-02-24T09:00:00-05:00",
          "2016-02-24T10:00:00-05:00",
          "2016-02-24T11:00:00-05:00",
          "2016-02-24T12:00:00-05:00",
          "2016-02-24T13:00:00-05:00",
          "2016-02-24T14:00:00-05:00",
          "2016-02-24T15:00:00-05:00",
          "2016-02-24T16:00:00-05:00",
          "2016-02-24T17:00:00-05:00",
          "2016-02-24T18:00:00-05:00",
          "2016-02-24T19:00:00-05:00",
          "2016-02-24T20:00:00-05:00",
          "2016-02-24T21:00:00-05:00",
          "2016-02-24T22:00:00-05:00",
          "2016-02-24T23:00:00-05:00",
          "2016-02-25T00:00:00-05:00",
          "2016-02-25T01:00:00-05:00",
          "2016-02-25T02:00:00-05:00",
          "2016-02-25T03:00:00-05:00",
          "2016-02-25T04:00:00-05:00",
          "2016-02-25T05:00:00-05:00",
          "2016-02-25T06:00:00-05:00",
          "2016-02-25T07:00:00-05:00",
          "2016-02-25T08:00:00-05:00",
          "2016-02-25T09:00:00-05:00",
          "2016-02-25T10:00:00-05:00",
          "2016-02-25T11:00:00-05:00",
          "2016-02-25T12:00:00-05:00",
          "2016-02-25T13:00:00-05:00",
          "2016-02-25T14:00:00-05:00",
          "2016-02-25T15:00:00-05:00",
          "2016-02-25T16:00:00-05:00",
          "2016-02-25T17:00:00-05:00",
          "2016-02-25T18:00:00-05:00",
          "2016-02-25T19:00:00-05:00",
          "2016-02-25T20:00:00-05:00",
          "2016-02-25T21:00:00-05:00",
          "2016-02-25T22:00:00-05:00",
          "2016-02-25T23:00:00-05:00",
          "2016-02-26T00:00:00-05:00",
          "2016-02-26T01:00:00-05:00",
          "2016-02-26T02:00:00-05:00",
          "2016-02-26T03:00:00-05:00",
          "2016-02-26T04:00:00-05:00",
          "2016-02-26T05:00:00-05:00",
          "2016-02-26T06:00:00-05:00",
          "2016-02-26T07:00:00-05:00",
          "2016-02-26T08:00:00-05:00",
          "2016-02-26T09:00:00-05:00",
          "2016-02-26T10:00:00-05:00",
          "2016-02-26T11:00:00-05:00",
          "2016-02-26T12:00:00-05:00",
          "2016-02-26T13:00:00-05:00",
          "2016-02-26T14:00:00-05:00",
          "2016-02-26T15:00:00-05:00",
          "2016-02-26T16:00:00-05:00",
          "2016-02-26T17:00:00-05:00",
          "2016-02-26T18:00:00-05:00",
          "2016-02-26T19:00:00-05:00",
          "2016-02-26T20:00:00-05:00",
          "2016-02-26T21:00:00-05:00",
          "2016-02-26T22:00:00-05:00",
          "2016-02-26T23:00:00-05:00",
          "2016-02-27T00:00:00-05:00",
          "2016-02-27T01:00:00-05:00",
          "2016-02-27T02:00:00-05:00",
          "2016-02-27T03:00:00-05:00",
          "2016-02-27T04:00:00-05:00",
          "2016-02-27T05:00:00-05:00",
          "2016-02-27T06:00:00-05:00",
          "2016-02-27T07:00:00-05:00",
          "2016-02-27T08:00:00-05:00",
          "2016-02-27T09:00:00-05:00",
          "2016-02-27T10:00:00-05:00",
          "2016-02-27T11:00:00-05:00",
          "2016-02-27T12:00:00-05:00",
          "2016-02-27T13:00:00-05:00",
          "2016-02-27T14:00:00-05:00",
          "2016-02-27T15:00:00-05:00",
          "2016-02-27T16:00:00-05:00",
          "2016-02-27T17:00:00-05:00",
          "2016-02-27T18:00:00-05:00",
          "2016-02-27T19:00:00-05:00",
          "2016-02-27T20:00:00-05:00",
          "2016-02-27T21:00:00-05:00",
          "2016-02-27T22:00:00-05:00",
          "2016-02-27T23:00:00-05:00",
          "2016-02-28T00:00:00-05:00",
          "2016-02-28T01:00:00-05:00",
          "2016-02-28T02:00:00-05:00",
          "2016-02-28T03:00:00-05:00",
          "2016-02-28T04:00:00-05:00",
          "2016-02-28T05:00:00-05:00",
          "2016-02-28T06:00:00-05:00",
          "2016-02-28T07:00:00-05:00",
          "2016-02-28T08:00:00-05:00",
          "2016-02-28T09:00:00-05:00",
          "2016-02-28T10:00:00-05:00",
          "2016-02-28T11:00:00-05:00",
          "2016-02-28T12:00:00-05:00",
          "2016-02-28T13:00:00-05:00",
          "2016-02-28T14:00:00-05:00",
          "2016-02-28T15:00:00-05:00",
          "2016-02-28T16:00:00-05:00",
          "2016-02-28T17:00:00-05:00",
          "2016-02-28T18:00:00-05:00",
          "2016-02-28T19:00:00-05:00",
          "2016-02-28T20:00:00-05:00",
          "2016-02-28T21:00:00-05:00",
          "2016-02-28T22:00:00-05:00",
          "2016-02-28T23:00:00-05:00",
          "2016-02-29T00:00:00-05:00",
          "2016-02-29T01:00:00-05:00",
          "2016-02-29T02:00:00-05:00",
          "2016-02-29T03:00:00-05:00",
          "2016-02-29T04:00:00-05:00",
          "2016-02-29T05:00:00-05:00",
          "2016-02-29T06:00:00-05:00",
          "2016-02-29T07:00:00-05:00",
          "2016-02-29T08:00:00-05:00",
          "2016-02-29T09:00:00-05:00",
          "2016-02-29T10:00:00-05:00",
          "2016-02-29T11:00:00-05:00",
          "2016-02-29T12:00:00-05:00",
          "2016-02-29T13:00:00-05:00",
          "2016-02-29T14:00:00-05:00",
          "2016-02-29T15:00:00-05:00",
          "2016-02-29T16:00:00-05:00",
          "2016-02-29T17:00:00-05:00",
          "2016-02-29T18:00:00-05:00"
         ],
         "xaxis": "x",
         "y": [
          1290,
          819,
          583,
          431,
          463,
          460,
          776,
          1883,
          2648,
          2454,
          1898,
          1773,
          1726,
          1918,
          2215,
          2377,
          2685,
          2780,
          2976,
          2790,
          2358,
          2012,
          1730,
          1411,
          1116,
          738,
          463,
          334,
          341,
          353,
          685,
          1673,
          2501,
          2270,
          1904,
          1823,
          1704,
          1769,
          2014,
          2178,
          2424,
          2812,
          3127,
          3033,
          2690,
          2467,
          2170,
          1856,
          1320,
          871,
          497,
          325,
          328,
          354,
          694,
          1917,
          2718,
          2478,
          1998,
          1878,
          2034,
          2298,
          2687,
          2908,
          3070,
          3064,
          3242,
          3064,
          2581,
          2210,
          1919,
          1660,
          1210,
          837,
          496,
          346,
          352,
          338,
          700,
          1900,
          2617,
          2647,
          2081,
          1950,
          1911,
          1983,
          2249,
          2470,
          2673,
          3114,
          3409,
          3388,
          3220,
          2863,
          2897,
          2412,
          1941,
          1329,
          853,
          590,
          536,
          424,
          810,
          1746,
          2635,
          2477,
          2105,
          1943,
          1750,
          1693,
          2186,
          2505,
          2970,
          3492,
          4115,
          4225,
          3761,
          3783,
          3825,
          3827,
          3611,
          3183,
          2598,
          2133,
          1490,
          684,
          612,
          806,
          1296,
          1745,
          2001,
          2311,
          2509,
          2740,
          2676,
          2831,
          3253,
          3422,
          3909,
          4257,
          4017,
          4015,
          4099,
          4442,
          4036,
          3558,
          3231,
          2600,
          1859,
          824,
          593,
          639,
          881,
          1326,
          1724,
          1960,
          1985,
          2278,
          2395,
          2529,
          3015,
          3548,
          3771,
          2589,
          2246,
          2461,
          3283,
          2938,
          1893,
          1142,
          745,
          494,
          556,
          424,
          729,
          1457,
          2370,
          2486,
          2044,
          1865,
          1700,
          1752,
          1894,
          2138,
          2272,
          2638,
          3029,
          2813,
          2326,
          1964,
          1741,
          1503,
          974,
          584,
          413,
          267,
          283,
          336,
          717,
          1750,
          2651,
          2378,
          1947,
          1788,
          1683,
          1722,
          1997,
          2172,
          2381,
          2848,
          3188,
          3038,
          2589,
          2358,
          1907,
          1658,
          1153,
          706,
          468,
          303,
          315,
          337,
          684,
          1850,
          2701,
          2467,
          2004,
          1891,
          1896,
          2094,
          2327,
          2395,
          2801,
          3247,
          3660,
          3508,
          3258,
          2827,
          2438,
          1985,
          1465,
          1054,
          606,
          380,
          355,
          372,
          755,
          1919,
          2806,
          2695,
          2289,
          2104,
          2116,
          2346,
          2686,
          2962,
          3324,
          3837,
          4473,
          4377,
          3970,
          3551,
          2997,
          2661,
          1894,
          1247,
          771,
          555,
          488,
          422,
          879,
          2053,
          3016,
          2673,
          2311,
          2175,
          2024,
          2106,
          2716,
          3009,
          3517,
          4040,
          4564,
          4725,
          4432,
          4048,
          3870,
          3828,
          3736,
          3164,
          2686,
          2076,
          1517,
          774,
          619,
          813,
          1269,
          1958,
          2139,
          2502,
          2714,
          2926,
          3155,
          3384,
          3957,
          4199,
          4824,
          5124,
          4721,
          4295,
          3947,
          4153,
          3511,
          2738,
          2216,
          1752,
          1348,
          646,
          601,
          675,
          954,
          1365,
          1837,
          2267,
          2447,
          2694,
          2793,
          2946,
          3273,
          3480,
          3861,
          3934,
          3562,
          3140,
          3015,
          2847,
          2294,
          1667,
          1181,
          927,
          791,
          601,
          713,
          1038,
          1598,
          1949,
          1864,
          1876,
          1961,
          2169,
          2368,
          2646,
          2706,
          2522,
          2695,
          2554,
          2437,
          2115,
          1989,
          1608,
          1047,
          633,
          444,
          264,
          303,
          391,
          700,
          1426,
          2338,
          2648,
          2037,
          1941,
          2094,
          2515,
          2855,
          2340,
          2246,
          2540,
          2923,
          2810,
          2473,
          2200,
          1911,
          1600,
          1242,
          854,
          534,
          329,
          344,
          352,
          708,
          1446,
          2313,
          2336,
          2111,
          2016,
          1987,
          2046,
          2214,
          2460,
          2689,
          2912,
          3323,
          3360,
          2858,
          2663,
          2313,
          2056,
          1514,
          973,
          645,
          446,
          401,
          358,
          703,
          1543,
          2436,
          2537,
          2200,
          2064,
          1975,
          2145,
          2169,
          2421,
          2926,
          3291,
          3858,
          3762,
          3416,
          3264,
          2936,
          2629,
          1871,
          1329,
          953,
          685,
          536,
          422,
          762,
          1597,
          2514,
          2541,
          2163,
          1974,
          1892,
          1895,
          2298,
          2618,
          3269,
          3639,
          4294,
          4314,
          3938,
          3854,
          3776,
          3870,
          3781,
          3298,
          2694,
          2277,
          1646,
          824,
          687,
          964,
          1350,
          1788,
          2079,
          2301,
          2465,
          2663,
          2752,
          2885,
          3297,
          3502,
          4045,
          4264,
          4131,
          4108,
          4242,
          4470,
          4212,
          3872,
          3265,
          2762,
          2018,
          951,
          684,
          702,
          954,
          1390,
          1741,
          1990,
          2113,
          2359,
          2424,
          2592,
          2781,
          2972,
          3292,
          2873,
          2812,
          2510,
          2186,
          1687,
          1216,
          822,
          494,
          301,
          448,
          428,
          870,
          1957,
          2582,
          2368,
          1971,
          1740,
          1612,
          1711,
          1985,
          2100,
          2373,
          2699,
          2961,
          2807,
          2398,
          2073,
          1812,
          1451,
          1067,
          672,
          422,
          303,
          297,
          345,
          780,
          1895,
          2643,
          2544,
          2007,
          2081,
          2207,
          2148,
          2579,
          2792,
          2955,
          3400,
          3845,
          3725,
          3561,
          2888,
          2473,
          1894,
          1296,
          746,
          448,
          291,
          331,
          374,
          819,
          1933,
          2869,
          2779,
          2262,
          2434,
          2521,
          2436,
          2278,
          2381,
          2890,
          3349,
          3500,
          3521,
          2911,
          2710,
          2400,
          2189,
          1367,
          811,
          507,
          367,
          385,
          382,
          821,
          1931,
          2705,
          2505,
          2164,
          1753,
          1909,
          1957,
          2533,
          2911,
          3271,
          3534,
          3875,
          3780,
          3425,
          3248,
          2843,
          2509,
          1834,
          1214,
          872,
          671,
          574,
          462,
          834,
          2047,
          2703,
          2491,
          2143,
          1975,
          1830,
          1986,
          2473,
          2805,
          3236,
          3871,
          4480,
          4690,
          4431,
          4253,
          4187,
          4191,
          3843,
          3220,
          2707,
          2083,
          1608,
          716,
          749,
          948,
          1362,
          1966,
          2193,
          2329,
          2279,
          2619,
          2941,
          3027,
          3285,
          3620,
          4113,
          4396,
          4281,
          4323,
          4244,
          4559,
          4278,
          3749,
          3314,
          2643,
          2038,
          903,
          621,
          669,
          899,
          1387,
          1728,
          1960,
          2077,
          2366,
          2492,
          2536,
          2672,
          2824,
          3062,
          2859,
          2524,
          2342,
          2072,
          1724,
          1828,
          904,
          571,
          427,
          474,
          431,
          920,
          1973,
          2759,
          2429,
          2176,
          2091,
          1740,
          1768,
          2025,
          2058,
          2359,
          2653,
          2928,
          2814,
          2523,
          2186,
          1765,
          1524
         ],
         "yaxis": "y"
        }
       ],
       "layout": {
        "legend": {
         "tracegroupgap": 0
        },
        "template": {
         "data": {
          "bar": [
           {
            "error_x": {
             "color": "#2a3f5f"
            },
            "error_y": {
             "color": "#2a3f5f"
            },
            "marker": {
             "line": {
              "color": "#E5ECF6",
              "width": 0.5
             },
             "pattern": {
              "fillmode": "overlay",
              "size": 10,
              "solidity": 0.2
             }
            },
            "type": "bar"
           }
          ],
          "barpolar": [
           {
            "marker": {
             "line": {
              "color": "#E5ECF6",
              "width": 0.5
             },
             "pattern": {
              "fillmode": "overlay",
              "size": 10,
              "solidity": 0.2
             }
            },
            "type": "barpolar"
           }
          ],
          "carpet": [
           {
            "aaxis": {
             "endlinecolor": "#2a3f5f",
             "gridcolor": "white",
             "linecolor": "white",
             "minorgridcolor": "white",
             "startlinecolor": "#2a3f5f"
            },
            "baxis": {
             "endlinecolor": "#2a3f5f",
             "gridcolor": "white",
             "linecolor": "white",
             "minorgridcolor": "white",
             "startlinecolor": "#2a3f5f"
            },
            "type": "carpet"
           }
          ],
          "choropleth": [
           {
            "colorbar": {
             "outlinewidth": 0,
             "ticks": ""
            },
            "type": "choropleth"
           }
          ],
          "contour": [
           {
            "colorbar": {
             "outlinewidth": 0,
             "ticks": ""
            },
            "colorscale": [
             [
              0,
              "#0d0887"
             ],
             [
              0.1111111111111111,
              "#46039f"
             ],
             [
              0.2222222222222222,
              "#7201a8"
             ],
             [
              0.3333333333333333,
              "#9c179e"
             ],
             [
              0.4444444444444444,
              "#bd3786"
             ],
             [
              0.5555555555555556,
              "#d8576b"
             ],
             [
              0.6666666666666666,
              "#ed7953"
             ],
             [
              0.7777777777777778,
              "#fb9f3a"
             ],
             [
              0.8888888888888888,
              "#fdca26"
             ],
             [
              1,
              "#f0f921"
             ]
            ],
            "type": "contour"
           }
          ],
          "contourcarpet": [
           {
            "colorbar": {
             "outlinewidth": 0,
             "ticks": ""
            },
            "type": "contourcarpet"
           }
          ],
          "heatmap": [
           {
            "colorbar": {
             "outlinewidth": 0,
             "ticks": ""
            },
            "colorscale": [
             [
              0,
              "#0d0887"
             ],
             [
              0.1111111111111111,
              "#46039f"
             ],
             [
              0.2222222222222222,
              "#7201a8"
             ],
             [
              0.3333333333333333,
              "#9c179e"
             ],
             [
              0.4444444444444444,
              "#bd3786"
             ],
             [
              0.5555555555555556,
              "#d8576b"
             ],
             [
              0.6666666666666666,
              "#ed7953"
             ],
             [
              0.7777777777777778,
              "#fb9f3a"
             ],
             [
              0.8888888888888888,
              "#fdca26"
             ],
             [
              1,
              "#f0f921"
             ]
            ],
            "type": "heatmap"
           }
          ],
          "heatmapgl": [
           {
            "colorbar": {
             "outlinewidth": 0,
             "ticks": ""
            },
            "colorscale": [
             [
              0,
              "#0d0887"
             ],
             [
              0.1111111111111111,
              "#46039f"
             ],
             [
              0.2222222222222222,
              "#7201a8"
             ],
             [
              0.3333333333333333,
              "#9c179e"
             ],
             [
              0.4444444444444444,
              "#bd3786"
             ],
             [
              0.5555555555555556,
              "#d8576b"
             ],
             [
              0.6666666666666666,
              "#ed7953"
             ],
             [
              0.7777777777777778,
              "#fb9f3a"
             ],
             [
              0.8888888888888888,
              "#fdca26"
             ],
             [
              1,
              "#f0f921"
             ]
            ],
            "type": "heatmapgl"
           }
          ],
          "histogram": [
           {
            "marker": {
             "pattern": {
              "fillmode": "overlay",
              "size": 10,
              "solidity": 0.2
             }
            },
            "type": "histogram"
           }
          ],
          "histogram2d": [
           {
            "colorbar": {
             "outlinewidth": 0,
             "ticks": ""
            },
            "colorscale": [
             [
              0,
              "#0d0887"
             ],
             [
              0.1111111111111111,
              "#46039f"
             ],
             [
              0.2222222222222222,
              "#7201a8"
             ],
             [
              0.3333333333333333,
              "#9c179e"
             ],
             [
              0.4444444444444444,
              "#bd3786"
             ],
             [
              0.5555555555555556,
              "#d8576b"
             ],
             [
              0.6666666666666666,
              "#ed7953"
             ],
             [
              0.7777777777777778,
              "#fb9f3a"
             ],
             [
              0.8888888888888888,
              "#fdca26"
             ],
             [
              1,
              "#f0f921"
             ]
            ],
            "type": "histogram2d"
           }
          ],
          "histogram2dcontour": [
           {
            "colorbar": {
             "outlinewidth": 0,
             "ticks": ""
            },
            "colorscale": [
             [
              0,
              "#0d0887"
             ],
             [
              0.1111111111111111,
              "#46039f"
             ],
             [
              0.2222222222222222,
              "#7201a8"
             ],
             [
              0.3333333333333333,
              "#9c179e"
             ],
             [
              0.4444444444444444,
              "#bd3786"
             ],
             [
              0.5555555555555556,
              "#d8576b"
             ],
             [
              0.6666666666666666,
              "#ed7953"
             ],
             [
              0.7777777777777778,
              "#fb9f3a"
             ],
             [
              0.8888888888888888,
              "#fdca26"
             ],
             [
              1,
              "#f0f921"
             ]
            ],
            "type": "histogram2dcontour"
           }
          ],
          "mesh3d": [
           {
            "colorbar": {
             "outlinewidth": 0,
             "ticks": ""
            },
            "type": "mesh3d"
           }
          ],
          "parcoords": [
           {
            "line": {
             "colorbar": {
              "outlinewidth": 0,
              "ticks": ""
             }
            },
            "type": "parcoords"
           }
          ],
          "pie": [
           {
            "automargin": true,
            "type": "pie"
           }
          ],
          "scatter": [
           {
            "fillpattern": {
             "fillmode": "overlay",
             "size": 10,
             "solidity": 0.2
            },
            "type": "scatter"
           }
          ],
          "scatter3d": [
           {
            "line": {
             "colorbar": {
              "outlinewidth": 0,
              "ticks": ""
             }
            },
            "marker": {
             "colorbar": {
              "outlinewidth": 0,
              "ticks": ""
             }
            },
            "type": "scatter3d"
           }
          ],
          "scattercarpet": [
           {
            "marker": {
             "colorbar": {
              "outlinewidth": 0,
              "ticks": ""
             }
            },
            "type": "scattercarpet"
           }
          ],
          "scattergeo": [
           {
            "marker": {
             "colorbar": {
              "outlinewidth": 0,
              "ticks": ""
             }
            },
            "type": "scattergeo"
           }
          ],
          "scattergl": [
           {
            "marker": {
             "colorbar": {
              "outlinewidth": 0,
              "ticks": ""
             }
            },
            "type": "scattergl"
           }
          ],
          "scattermapbox": [
           {
            "marker": {
             "colorbar": {
              "outlinewidth": 0,
              "ticks": ""
             }
            },
            "type": "scattermapbox"
           }
          ],
          "scatterpolar": [
           {
            "marker": {
             "colorbar": {
              "outlinewidth": 0,
              "ticks": ""
             }
            },
            "type": "scatterpolar"
           }
          ],
          "scatterpolargl": [
           {
            "marker": {
             "colorbar": {
              "outlinewidth": 0,
              "ticks": ""
             }
            },
            "type": "scatterpolargl"
           }
          ],
          "scatterternary": [
           {
            "marker": {
             "colorbar": {
              "outlinewidth": 0,
              "ticks": ""
             }
            },
            "type": "scatterternary"
           }
          ],
          "surface": [
           {
            "colorbar": {
             "outlinewidth": 0,
             "ticks": ""
            },
            "colorscale": [
             [
              0,
              "#0d0887"
             ],
             [
              0.1111111111111111,
              "#46039f"
             ],
             [
              0.2222222222222222,
              "#7201a8"
             ],
             [
              0.3333333333333333,
              "#9c179e"
             ],
             [
              0.4444444444444444,
              "#bd3786"
             ],
             [
              0.5555555555555556,
              "#d8576b"
             ],
             [
              0.6666666666666666,
              "#ed7953"
             ],
             [
              0.7777777777777778,
              "#fb9f3a"
             ],
             [
              0.8888888888888888,
              "#fdca26"
             ],
             [
              1,
              "#f0f921"
             ]
            ],
            "type": "surface"
           }
          ],
          "table": [
           {
            "cells": {
             "fill": {
              "color": "#EBF0F8"
             },
             "line": {
              "color": "white"
             }
            },
            "header": {
             "fill": {
              "color": "#C8D4E3"
             },
             "line": {
              "color": "white"
             }
            },
            "type": "table"
           }
          ]
         },
         "layout": {
          "annotationdefaults": {
           "arrowcolor": "#2a3f5f",
           "arrowhead": 0,
           "arrowwidth": 1
          },
          "autotypenumbers": "strict",
          "coloraxis": {
           "colorbar": {
            "outlinewidth": 0,
            "ticks": ""
           }
          },
          "colorscale": {
           "diverging": [
            [
             0,
             "#8e0152"
            ],
            [
             0.1,
             "#c51b7d"
            ],
            [
             0.2,
             "#de77ae"
            ],
            [
             0.3,
             "#f1b6da"
            ],
            [
             0.4,
             "#fde0ef"
            ],
            [
             0.5,
             "#f7f7f7"
            ],
            [
             0.6,
             "#e6f5d0"
            ],
            [
             0.7,
             "#b8e186"
            ],
            [
             0.8,
             "#7fbc41"
            ],
            [
             0.9,
             "#4d9221"
            ],
            [
             1,
             "#276419"
            ]
           ],
           "sequential": [
            [
             0,
             "#0d0887"
            ],
            [
             0.1111111111111111,
             "#46039f"
            ],
            [
             0.2222222222222222,
             "#7201a8"
            ],
            [
             0.3333333333333333,
             "#9c179e"
            ],
            [
             0.4444444444444444,
             "#bd3786"
            ],
            [
             0.5555555555555556,
             "#d8576b"
            ],
            [
             0.6666666666666666,
             "#ed7953"
            ],
            [
             0.7777777777777778,
             "#fb9f3a"
            ],
            [
             0.8888888888888888,
             "#fdca26"
            ],
            [
             1,
             "#f0f921"
            ]
           ],
           "sequentialminus": [
            [
             0,
             "#0d0887"
            ],
            [
             0.1111111111111111,
             "#46039f"
            ],
            [
             0.2222222222222222,
             "#7201a8"
            ],
            [
             0.3333333333333333,
             "#9c179e"
            ],
            [
             0.4444444444444444,
             "#bd3786"
            ],
            [
             0.5555555555555556,
             "#d8576b"
            ],
            [
             0.6666666666666666,
             "#ed7953"
            ],
            [
             0.7777777777777778,
             "#fb9f3a"
            ],
            [
             0.8888888888888888,
             "#fdca26"
            ],
            [
             1,
             "#f0f921"
            ]
           ]
          },
          "colorway": [
           "#636efa",
           "#EF553B",
           "#00cc96",
           "#ab63fa",
           "#FFA15A",
           "#19d3f3",
           "#FF6692",
           "#B6E880",
           "#FF97FF",
           "#FECB52"
          ],
          "font": {
           "color": "#2a3f5f"
          },
          "geo": {
           "bgcolor": "white",
           "lakecolor": "white",
           "landcolor": "#E5ECF6",
           "showlakes": true,
           "showland": true,
           "subunitcolor": "white"
          },
          "hoverlabel": {
           "align": "left"
          },
          "hovermode": "closest",
          "mapbox": {
           "style": "light"
          },
          "paper_bgcolor": "white",
          "plot_bgcolor": "#E5ECF6",
          "polar": {
           "angularaxis": {
            "gridcolor": "white",
            "linecolor": "white",
            "ticks": ""
           },
           "bgcolor": "#E5ECF6",
           "radialaxis": {
            "gridcolor": "white",
            "linecolor": "white",
            "ticks": ""
           }
          },
          "scene": {
           "xaxis": {
            "backgroundcolor": "#E5ECF6",
            "gridcolor": "white",
            "gridwidth": 2,
            "linecolor": "white",
            "showbackground": true,
            "ticks": "",
            "zerolinecolor": "white"
           },
           "yaxis": {
            "backgroundcolor": "#E5ECF6",
            "gridcolor": "white",
            "gridwidth": 2,
            "linecolor": "white",
            "showbackground": true,
            "ticks": "",
            "zerolinecolor": "white"
           },
           "zaxis": {
            "backgroundcolor": "#E5ECF6",
            "gridcolor": "white",
            "gridwidth": 2,
            "linecolor": "white",
            "showbackground": true,
            "ticks": "",
            "zerolinecolor": "white"
           }
          },
          "shapedefaults": {
           "line": {
            "color": "#2a3f5f"
           }
          },
          "ternary": {
           "aaxis": {
            "gridcolor": "white",
            "linecolor": "white",
            "ticks": ""
           },
           "baxis": {
            "gridcolor": "white",
            "linecolor": "white",
            "ticks": ""
           },
           "bgcolor": "#E5ECF6",
           "caxis": {
            "gridcolor": "white",
            "linecolor": "white",
            "ticks": ""
           }
          },
          "title": {
           "x": 0.05
          },
          "xaxis": {
           "automargin": true,
           "gridcolor": "white",
           "linecolor": "white",
           "ticks": "",
           "title": {
            "standoff": 15
           },
           "zerolinecolor": "white",
           "zerolinewidth": 2
          },
          "yaxis": {
           "automargin": true,
           "gridcolor": "white",
           "linecolor": "white",
           "ticks": "",
           "title": {
            "standoff": 15
           },
           "zerolinecolor": "white",
           "zerolinewidth": 2
          }
         }
        },
        "title": {
         "text": "Average Hourly Trip Count by Time of Day"
        },
        "xaxis": {
         "anchor": "y",
         "domain": [
          0,
          1
         ],
         "title": {
          "text": "Date and Time"
         }
        },
        "yaxis": {
         "anchor": "x",
         "domain": [
          0,
          1
         ],
         "title": {
          "text": "Number of Trips"
         }
        }
       }
      }
     },
     "metadata": {},
     "output_type": "display_data"
    },
    {
     "name": "stdout",
     "output_type": "stream",
     "text": [
      "Figure 6: Average Hourly Trip Count by Time of Day\n"
     ]
    }
   ],
   "source": [
    "datetime_line_plot(trip_data,\n",
    "                   'trip_distance',\n",
    "                   freq='h',\n",
    "                   agg_operation='count',\n",
    "                   plot_title_name = 'Average Hourly Trip Count by Time of Day', \n",
    "                   plot_xlabel_name= 'Date and Time',\n",
    "                   plot_ylabel_name= 'Number of Trips',\n",
    "                   make_interactive=True)\n",
    "print(\"Figure 6: Average Hourly Trip Count by Time of Day\")"
   ]
  },
  {
   "cell_type": "markdown",
   "metadata": {},
   "source": [
    "Figure 6 shows that the number of trips per hour peaks in the early evening / late afternoon, particularly between 16:00 and 17:00, which aligns with the end of typical working hours. In contrast, the lowest trip counts occur between 20:00 and 01:00, with fewer than a thousand trips during these hours. Based on Figure 3, which displays the average hourly trip distance by time of day, it appears that trips during these low-count hours tend to be longer. This may be due to business-related travel on weekdays or vacation trips on weekends, possibly including trips to the airport. \n",
    "\n",
    "Also, since there are peaks that are significantly larger than the other, I think this is non-stationary. To confirm this hypothesis, the augmented dickey-fuller test has been provided:"
   ]
  },
  {
   "cell_type": "code",
   "execution_count": 19,
   "metadata": {},
   "outputs": [
    {
     "data": {
      "text/plain": [
       "lpep_pickup_datetime\n",
       "2016-01-31 19:00:00-05:00    1290\n",
       "2016-01-31 20:00:00-05:00     819\n",
       "2016-01-31 21:00:00-05:00     583\n",
       "2016-01-31 22:00:00-05:00     431\n",
       "2016-01-31 23:00:00-05:00     463\n",
       "                             ... \n",
       "2016-02-29 14:00:00-05:00    2814\n",
       "2016-02-29 15:00:00-05:00    2523\n",
       "2016-02-29 16:00:00-05:00    2186\n",
       "2016-02-29 17:00:00-05:00    1765\n",
       "2016-02-29 18:00:00-05:00    1524\n",
       "Freq: h, Length: 696, dtype: int64"
      ]
     },
     "execution_count": 19,
     "metadata": {},
     "output_type": "execute_result"
    }
   ],
   "source": [
    "# get the hourly count\n",
    "hourly_count_trip_data = trip_data.resample('h').size()\n",
    "hourly_count_trip_data"
   ]
  },
  {
   "cell_type": "markdown",
   "metadata": {},
   "source": [
    "Confirming the initial assumption of non-stationarity, I calculate the augmented dickey-fuller"
   ]
  },
  {
   "cell_type": "code",
   "execution_count": 20,
   "metadata": {},
   "outputs": [
    {
     "name": "stdout",
     "output_type": "stream",
     "text": [
      "Test Statistics = -2.511167931620074\n",
      "P-value = 0.11278063881074313\n"
     ]
    }
   ],
   "source": [
    "adf_result = adfuller(hourly_count_trip_data)\n",
    "print(f\"Test Statistics = {adf_result[0]}\\nP-value = {adf_result[1]}\")"
   ]
  },
  {
   "cell_type": "markdown",
   "metadata": {},
   "source": [
    "The augmented dickey-fuller test above shows that our data is non-stationary, since we have a higher p-value (In this case, I will use a 0.05 p-value to reject the null hypothesis). To make the data stationary, we can use differencing:"
   ]
  },
  {
   "cell_type": "code",
   "execution_count": 21,
   "metadata": {},
   "outputs": [],
   "source": [
    "def get_differencing(data, order=1):\n",
    "    \"\"\"\n",
    "        I think this can be done using recursion\n",
    "    \"\"\"\n",
    "    data = np.array(data)\n",
    "    differenced_data = [current_point - data[index-1] for index, current_point in enumerate(data) if index != 0]\n",
    "    \n",
    "    if order == 1:\n",
    "        return differenced_data\n",
    "    elif order > 1:\n",
    "        order=-1\n",
    "        return get_differencing(differenced_data, order=order)\n",
    "    else:\n",
    "        raise ValueError(\"Order is invalid\")\n"
   ]
  },
  {
   "cell_type": "markdown",
   "metadata": {},
   "source": [
    "I coded the above differencing, however, this can be easily achieved in pandas using `diff()` method. (adding two `diff()` methods would result to two levels  of differencing `diff().diff()`.)"
   ]
  },
  {
   "cell_type": "code",
   "execution_count": 22,
   "metadata": {},
   "outputs": [
    {
     "data": {
      "text/plain": [
       "lpep_pickup_datetime\n",
       "2016-01-31 19:00:00-05:00      NaN\n",
       "2016-01-31 20:00:00-05:00   -471.0\n",
       "2016-01-31 21:00:00-05:00   -236.0\n",
       "2016-01-31 22:00:00-05:00   -152.0\n",
       "2016-01-31 23:00:00-05:00     32.0\n",
       "Freq: h, dtype: float64"
      ]
     },
     "execution_count": 22,
     "metadata": {},
     "output_type": "execute_result"
    }
   ],
   "source": [
    "diffed_hourly_count_trip_data = hourly_count_trip_data.diff()\n",
    "diffed_hourly_count_trip_data.head()"
   ]
  },
  {
   "cell_type": "markdown",
   "metadata": {},
   "source": [
    "Computing the ADF again:"
   ]
  },
  {
   "cell_type": "code",
   "execution_count": 23,
   "metadata": {},
   "outputs": [
    {
     "name": "stdout",
     "output_type": "stream",
     "text": [
      "Test Statistics = -18.567254636314146\n",
      "P-value = 2.084370026343093e-30\n"
     ]
    }
   ],
   "source": [
    "adf_result = adfuller(diffed_hourly_count_trip_data.fillna(method='bfill')) # I can dropna as well, it doesn't impact the result since it's only one observation\n",
    "print(f\"Test Statistics = {adf_result[0]}\\nP-value = {adf_result[1]}\")"
   ]
  },
  {
   "cell_type": "markdown",
   "metadata": {},
   "source": [
    "The result now shows stationarity."
   ]
  },
  {
   "cell_type": "code",
   "execution_count": 24,
   "metadata": {},
   "outputs": [
    {
     "data": {
      "application/vnd.plotly.v1+json": {
       "config": {
        "plotlyServerURL": "https://plot.ly"
       },
       "data": [
        {
         "hovertemplate": "Differenced Number of Trips=%{x}<br>Date and Time=%{y}<extra></extra>",
         "legendgroup": "",
         "line": {
          "color": "#636efa",
          "dash": "solid"
         },
         "marker": {
          "symbol": "circle"
         },
         "mode": "lines",
         "name": "",
         "orientation": "v",
         "showlegend": false,
         "type": "scatter",
         "x": [
          "2016-01-31T19:00:00-05:00",
          "2016-01-31T20:00:00-05:00",
          "2016-01-31T21:00:00-05:00",
          "2016-01-31T22:00:00-05:00",
          "2016-01-31T23:00:00-05:00",
          "2016-02-01T00:00:00-05:00",
          "2016-02-01T01:00:00-05:00",
          "2016-02-01T02:00:00-05:00",
          "2016-02-01T03:00:00-05:00",
          "2016-02-01T04:00:00-05:00",
          "2016-02-01T05:00:00-05:00",
          "2016-02-01T06:00:00-05:00",
          "2016-02-01T07:00:00-05:00",
          "2016-02-01T08:00:00-05:00",
          "2016-02-01T09:00:00-05:00",
          "2016-02-01T10:00:00-05:00",
          "2016-02-01T11:00:00-05:00",
          "2016-02-01T12:00:00-05:00",
          "2016-02-01T13:00:00-05:00",
          "2016-02-01T14:00:00-05:00",
          "2016-02-01T15:00:00-05:00",
          "2016-02-01T16:00:00-05:00",
          "2016-02-01T17:00:00-05:00",
          "2016-02-01T18:00:00-05:00",
          "2016-02-01T19:00:00-05:00",
          "2016-02-01T20:00:00-05:00",
          "2016-02-01T21:00:00-05:00",
          "2016-02-01T22:00:00-05:00",
          "2016-02-01T23:00:00-05:00",
          "2016-02-02T00:00:00-05:00",
          "2016-02-02T01:00:00-05:00",
          "2016-02-02T02:00:00-05:00",
          "2016-02-02T03:00:00-05:00",
          "2016-02-02T04:00:00-05:00",
          "2016-02-02T05:00:00-05:00",
          "2016-02-02T06:00:00-05:00",
          "2016-02-02T07:00:00-05:00",
          "2016-02-02T08:00:00-05:00",
          "2016-02-02T09:00:00-05:00",
          "2016-02-02T10:00:00-05:00",
          "2016-02-02T11:00:00-05:00",
          "2016-02-02T12:00:00-05:00",
          "2016-02-02T13:00:00-05:00",
          "2016-02-02T14:00:00-05:00",
          "2016-02-02T15:00:00-05:00",
          "2016-02-02T16:00:00-05:00",
          "2016-02-02T17:00:00-05:00",
          "2016-02-02T18:00:00-05:00",
          "2016-02-02T19:00:00-05:00",
          "2016-02-02T20:00:00-05:00",
          "2016-02-02T21:00:00-05:00",
          "2016-02-02T22:00:00-05:00",
          "2016-02-02T23:00:00-05:00",
          "2016-02-03T00:00:00-05:00",
          "2016-02-03T01:00:00-05:00",
          "2016-02-03T02:00:00-05:00",
          "2016-02-03T03:00:00-05:00",
          "2016-02-03T04:00:00-05:00",
          "2016-02-03T05:00:00-05:00",
          "2016-02-03T06:00:00-05:00",
          "2016-02-03T07:00:00-05:00",
          "2016-02-03T08:00:00-05:00",
          "2016-02-03T09:00:00-05:00",
          "2016-02-03T10:00:00-05:00",
          "2016-02-03T11:00:00-05:00",
          "2016-02-03T12:00:00-05:00",
          "2016-02-03T13:00:00-05:00",
          "2016-02-03T14:00:00-05:00",
          "2016-02-03T15:00:00-05:00",
          "2016-02-03T16:00:00-05:00",
          "2016-02-03T17:00:00-05:00",
          "2016-02-03T18:00:00-05:00",
          "2016-02-03T19:00:00-05:00",
          "2016-02-03T20:00:00-05:00",
          "2016-02-03T21:00:00-05:00",
          "2016-02-03T22:00:00-05:00",
          "2016-02-03T23:00:00-05:00",
          "2016-02-04T00:00:00-05:00",
          "2016-02-04T01:00:00-05:00",
          "2016-02-04T02:00:00-05:00",
          "2016-02-04T03:00:00-05:00",
          "2016-02-04T04:00:00-05:00",
          "2016-02-04T05:00:00-05:00",
          "2016-02-04T06:00:00-05:00",
          "2016-02-04T07:00:00-05:00",
          "2016-02-04T08:00:00-05:00",
          "2016-02-04T09:00:00-05:00",
          "2016-02-04T10:00:00-05:00",
          "2016-02-04T11:00:00-05:00",
          "2016-02-04T12:00:00-05:00",
          "2016-02-04T13:00:00-05:00",
          "2016-02-04T14:00:00-05:00",
          "2016-02-04T15:00:00-05:00",
          "2016-02-04T16:00:00-05:00",
          "2016-02-04T17:00:00-05:00",
          "2016-02-04T18:00:00-05:00",
          "2016-02-04T19:00:00-05:00",
          "2016-02-04T20:00:00-05:00",
          "2016-02-04T21:00:00-05:00",
          "2016-02-04T22:00:00-05:00",
          "2016-02-04T23:00:00-05:00",
          "2016-02-05T00:00:00-05:00",
          "2016-02-05T01:00:00-05:00",
          "2016-02-05T02:00:00-05:00",
          "2016-02-05T03:00:00-05:00",
          "2016-02-05T04:00:00-05:00",
          "2016-02-05T05:00:00-05:00",
          "2016-02-05T06:00:00-05:00",
          "2016-02-05T07:00:00-05:00",
          "2016-02-05T08:00:00-05:00",
          "2016-02-05T09:00:00-05:00",
          "2016-02-05T10:00:00-05:00",
          "2016-02-05T11:00:00-05:00",
          "2016-02-05T12:00:00-05:00",
          "2016-02-05T13:00:00-05:00",
          "2016-02-05T14:00:00-05:00",
          "2016-02-05T15:00:00-05:00",
          "2016-02-05T16:00:00-05:00",
          "2016-02-05T17:00:00-05:00",
          "2016-02-05T18:00:00-05:00",
          "2016-02-05T19:00:00-05:00",
          "2016-02-05T20:00:00-05:00",
          "2016-02-05T21:00:00-05:00",
          "2016-02-05T22:00:00-05:00",
          "2016-02-05T23:00:00-05:00",
          "2016-02-06T00:00:00-05:00",
          "2016-02-06T01:00:00-05:00",
          "2016-02-06T02:00:00-05:00",
          "2016-02-06T03:00:00-05:00",
          "2016-02-06T04:00:00-05:00",
          "2016-02-06T05:00:00-05:00",
          "2016-02-06T06:00:00-05:00",
          "2016-02-06T07:00:00-05:00",
          "2016-02-06T08:00:00-05:00",
          "2016-02-06T09:00:00-05:00",
          "2016-02-06T10:00:00-05:00",
          "2016-02-06T11:00:00-05:00",
          "2016-02-06T12:00:00-05:00",
          "2016-02-06T13:00:00-05:00",
          "2016-02-06T14:00:00-05:00",
          "2016-02-06T15:00:00-05:00",
          "2016-02-06T16:00:00-05:00",
          "2016-02-06T17:00:00-05:00",
          "2016-02-06T18:00:00-05:00",
          "2016-02-06T19:00:00-05:00",
          "2016-02-06T20:00:00-05:00",
          "2016-02-06T21:00:00-05:00",
          "2016-02-06T22:00:00-05:00",
          "2016-02-06T23:00:00-05:00",
          "2016-02-07T00:00:00-05:00",
          "2016-02-07T01:00:00-05:00",
          "2016-02-07T02:00:00-05:00",
          "2016-02-07T03:00:00-05:00",
          "2016-02-07T04:00:00-05:00",
          "2016-02-07T05:00:00-05:00",
          "2016-02-07T06:00:00-05:00",
          "2016-02-07T07:00:00-05:00",
          "2016-02-07T08:00:00-05:00",
          "2016-02-07T09:00:00-05:00",
          "2016-02-07T10:00:00-05:00",
          "2016-02-07T11:00:00-05:00",
          "2016-02-07T12:00:00-05:00",
          "2016-02-07T13:00:00-05:00",
          "2016-02-07T14:00:00-05:00",
          "2016-02-07T15:00:00-05:00",
          "2016-02-07T16:00:00-05:00",
          "2016-02-07T17:00:00-05:00",
          "2016-02-07T18:00:00-05:00",
          "2016-02-07T19:00:00-05:00",
          "2016-02-07T20:00:00-05:00",
          "2016-02-07T21:00:00-05:00",
          "2016-02-07T22:00:00-05:00",
          "2016-02-07T23:00:00-05:00",
          "2016-02-08T00:00:00-05:00",
          "2016-02-08T01:00:00-05:00",
          "2016-02-08T02:00:00-05:00",
          "2016-02-08T03:00:00-05:00",
          "2016-02-08T04:00:00-05:00",
          "2016-02-08T05:00:00-05:00",
          "2016-02-08T06:00:00-05:00",
          "2016-02-08T07:00:00-05:00",
          "2016-02-08T08:00:00-05:00",
          "2016-02-08T09:00:00-05:00",
          "2016-02-08T10:00:00-05:00",
          "2016-02-08T11:00:00-05:00",
          "2016-02-08T12:00:00-05:00",
          "2016-02-08T13:00:00-05:00",
          "2016-02-08T14:00:00-05:00",
          "2016-02-08T15:00:00-05:00",
          "2016-02-08T16:00:00-05:00",
          "2016-02-08T17:00:00-05:00",
          "2016-02-08T18:00:00-05:00",
          "2016-02-08T19:00:00-05:00",
          "2016-02-08T20:00:00-05:00",
          "2016-02-08T21:00:00-05:00",
          "2016-02-08T22:00:00-05:00",
          "2016-02-08T23:00:00-05:00",
          "2016-02-09T00:00:00-05:00",
          "2016-02-09T01:00:00-05:00",
          "2016-02-09T02:00:00-05:00",
          "2016-02-09T03:00:00-05:00",
          "2016-02-09T04:00:00-05:00",
          "2016-02-09T05:00:00-05:00",
          "2016-02-09T06:00:00-05:00",
          "2016-02-09T07:00:00-05:00",
          "2016-02-09T08:00:00-05:00",
          "2016-02-09T09:00:00-05:00",
          "2016-02-09T10:00:00-05:00",
          "2016-02-09T11:00:00-05:00",
          "2016-02-09T12:00:00-05:00",
          "2016-02-09T13:00:00-05:00",
          "2016-02-09T14:00:00-05:00",
          "2016-02-09T15:00:00-05:00",
          "2016-02-09T16:00:00-05:00",
          "2016-02-09T17:00:00-05:00",
          "2016-02-09T18:00:00-05:00",
          "2016-02-09T19:00:00-05:00",
          "2016-02-09T20:00:00-05:00",
          "2016-02-09T21:00:00-05:00",
          "2016-02-09T22:00:00-05:00",
          "2016-02-09T23:00:00-05:00",
          "2016-02-10T00:00:00-05:00",
          "2016-02-10T01:00:00-05:00",
          "2016-02-10T02:00:00-05:00",
          "2016-02-10T03:00:00-05:00",
          "2016-02-10T04:00:00-05:00",
          "2016-02-10T05:00:00-05:00",
          "2016-02-10T06:00:00-05:00",
          "2016-02-10T07:00:00-05:00",
          "2016-02-10T08:00:00-05:00",
          "2016-02-10T09:00:00-05:00",
          "2016-02-10T10:00:00-05:00",
          "2016-02-10T11:00:00-05:00",
          "2016-02-10T12:00:00-05:00",
          "2016-02-10T13:00:00-05:00",
          "2016-02-10T14:00:00-05:00",
          "2016-02-10T15:00:00-05:00",
          "2016-02-10T16:00:00-05:00",
          "2016-02-10T17:00:00-05:00",
          "2016-02-10T18:00:00-05:00",
          "2016-02-10T19:00:00-05:00",
          "2016-02-10T20:00:00-05:00",
          "2016-02-10T21:00:00-05:00",
          "2016-02-10T22:00:00-05:00",
          "2016-02-10T23:00:00-05:00",
          "2016-02-11T00:00:00-05:00",
          "2016-02-11T01:00:00-05:00",
          "2016-02-11T02:00:00-05:00",
          "2016-02-11T03:00:00-05:00",
          "2016-02-11T04:00:00-05:00",
          "2016-02-11T05:00:00-05:00",
          "2016-02-11T06:00:00-05:00",
          "2016-02-11T07:00:00-05:00",
          "2016-02-11T08:00:00-05:00",
          "2016-02-11T09:00:00-05:00",
          "2016-02-11T10:00:00-05:00",
          "2016-02-11T11:00:00-05:00",
          "2016-02-11T12:00:00-05:00",
          "2016-02-11T13:00:00-05:00",
          "2016-02-11T14:00:00-05:00",
          "2016-02-11T15:00:00-05:00",
          "2016-02-11T16:00:00-05:00",
          "2016-02-11T17:00:00-05:00",
          "2016-02-11T18:00:00-05:00",
          "2016-02-11T19:00:00-05:00",
          "2016-02-11T20:00:00-05:00",
          "2016-02-11T21:00:00-05:00",
          "2016-02-11T22:00:00-05:00",
          "2016-02-11T23:00:00-05:00",
          "2016-02-12T00:00:00-05:00",
          "2016-02-12T01:00:00-05:00",
          "2016-02-12T02:00:00-05:00",
          "2016-02-12T03:00:00-05:00",
          "2016-02-12T04:00:00-05:00",
          "2016-02-12T05:00:00-05:00",
          "2016-02-12T06:00:00-05:00",
          "2016-02-12T07:00:00-05:00",
          "2016-02-12T08:00:00-05:00",
          "2016-02-12T09:00:00-05:00",
          "2016-02-12T10:00:00-05:00",
          "2016-02-12T11:00:00-05:00",
          "2016-02-12T12:00:00-05:00",
          "2016-02-12T13:00:00-05:00",
          "2016-02-12T14:00:00-05:00",
          "2016-02-12T15:00:00-05:00",
          "2016-02-12T16:00:00-05:00",
          "2016-02-12T17:00:00-05:00",
          "2016-02-12T18:00:00-05:00",
          "2016-02-12T19:00:00-05:00",
          "2016-02-12T20:00:00-05:00",
          "2016-02-12T21:00:00-05:00",
          "2016-02-12T22:00:00-05:00",
          "2016-02-12T23:00:00-05:00",
          "2016-02-13T00:00:00-05:00",
          "2016-02-13T01:00:00-05:00",
          "2016-02-13T02:00:00-05:00",
          "2016-02-13T03:00:00-05:00",
          "2016-02-13T04:00:00-05:00",
          "2016-02-13T05:00:00-05:00",
          "2016-02-13T06:00:00-05:00",
          "2016-02-13T07:00:00-05:00",
          "2016-02-13T08:00:00-05:00",
          "2016-02-13T09:00:00-05:00",
          "2016-02-13T10:00:00-05:00",
          "2016-02-13T11:00:00-05:00",
          "2016-02-13T12:00:00-05:00",
          "2016-02-13T13:00:00-05:00",
          "2016-02-13T14:00:00-05:00",
          "2016-02-13T15:00:00-05:00",
          "2016-02-13T16:00:00-05:00",
          "2016-02-13T17:00:00-05:00",
          "2016-02-13T18:00:00-05:00",
          "2016-02-13T19:00:00-05:00",
          "2016-02-13T20:00:00-05:00",
          "2016-02-13T21:00:00-05:00",
          "2016-02-13T22:00:00-05:00",
          "2016-02-13T23:00:00-05:00",
          "2016-02-14T00:00:00-05:00",
          "2016-02-14T01:00:00-05:00",
          "2016-02-14T02:00:00-05:00",
          "2016-02-14T03:00:00-05:00",
          "2016-02-14T04:00:00-05:00",
          "2016-02-14T05:00:00-05:00",
          "2016-02-14T06:00:00-05:00",
          "2016-02-14T07:00:00-05:00",
          "2016-02-14T08:00:00-05:00",
          "2016-02-14T09:00:00-05:00",
          "2016-02-14T10:00:00-05:00",
          "2016-02-14T11:00:00-05:00",
          "2016-02-14T12:00:00-05:00",
          "2016-02-14T13:00:00-05:00",
          "2016-02-14T14:00:00-05:00",
          "2016-02-14T15:00:00-05:00",
          "2016-02-14T16:00:00-05:00",
          "2016-02-14T17:00:00-05:00",
          "2016-02-14T18:00:00-05:00",
          "2016-02-14T19:00:00-05:00",
          "2016-02-14T20:00:00-05:00",
          "2016-02-14T21:00:00-05:00",
          "2016-02-14T22:00:00-05:00",
          "2016-02-14T23:00:00-05:00",
          "2016-02-15T00:00:00-05:00",
          "2016-02-15T01:00:00-05:00",
          "2016-02-15T02:00:00-05:00",
          "2016-02-15T03:00:00-05:00",
          "2016-02-15T04:00:00-05:00",
          "2016-02-15T05:00:00-05:00",
          "2016-02-15T06:00:00-05:00",
          "2016-02-15T07:00:00-05:00",
          "2016-02-15T08:00:00-05:00",
          "2016-02-15T09:00:00-05:00",
          "2016-02-15T10:00:00-05:00",
          "2016-02-15T11:00:00-05:00",
          "2016-02-15T12:00:00-05:00",
          "2016-02-15T13:00:00-05:00",
          "2016-02-15T14:00:00-05:00",
          "2016-02-15T15:00:00-05:00",
          "2016-02-15T16:00:00-05:00",
          "2016-02-15T17:00:00-05:00",
          "2016-02-15T18:00:00-05:00",
          "2016-02-15T19:00:00-05:00",
          "2016-02-15T20:00:00-05:00",
          "2016-02-15T21:00:00-05:00",
          "2016-02-15T22:00:00-05:00",
          "2016-02-15T23:00:00-05:00",
          "2016-02-16T00:00:00-05:00",
          "2016-02-16T01:00:00-05:00",
          "2016-02-16T02:00:00-05:00",
          "2016-02-16T03:00:00-05:00",
          "2016-02-16T04:00:00-05:00",
          "2016-02-16T05:00:00-05:00",
          "2016-02-16T06:00:00-05:00",
          "2016-02-16T07:00:00-05:00",
          "2016-02-16T08:00:00-05:00",
          "2016-02-16T09:00:00-05:00",
          "2016-02-16T10:00:00-05:00",
          "2016-02-16T11:00:00-05:00",
          "2016-02-16T12:00:00-05:00",
          "2016-02-16T13:00:00-05:00",
          "2016-02-16T14:00:00-05:00",
          "2016-02-16T15:00:00-05:00",
          "2016-02-16T16:00:00-05:00",
          "2016-02-16T17:00:00-05:00",
          "2016-02-16T18:00:00-05:00",
          "2016-02-16T19:00:00-05:00",
          "2016-02-16T20:00:00-05:00",
          "2016-02-16T21:00:00-05:00",
          "2016-02-16T22:00:00-05:00",
          "2016-02-16T23:00:00-05:00",
          "2016-02-17T00:00:00-05:00",
          "2016-02-17T01:00:00-05:00",
          "2016-02-17T02:00:00-05:00",
          "2016-02-17T03:00:00-05:00",
          "2016-02-17T04:00:00-05:00",
          "2016-02-17T05:00:00-05:00",
          "2016-02-17T06:00:00-05:00",
          "2016-02-17T07:00:00-05:00",
          "2016-02-17T08:00:00-05:00",
          "2016-02-17T09:00:00-05:00",
          "2016-02-17T10:00:00-05:00",
          "2016-02-17T11:00:00-05:00",
          "2016-02-17T12:00:00-05:00",
          "2016-02-17T13:00:00-05:00",
          "2016-02-17T14:00:00-05:00",
          "2016-02-17T15:00:00-05:00",
          "2016-02-17T16:00:00-05:00",
          "2016-02-17T17:00:00-05:00",
          "2016-02-17T18:00:00-05:00",
          "2016-02-17T19:00:00-05:00",
          "2016-02-17T20:00:00-05:00",
          "2016-02-17T21:00:00-05:00",
          "2016-02-17T22:00:00-05:00",
          "2016-02-17T23:00:00-05:00",
          "2016-02-18T00:00:00-05:00",
          "2016-02-18T01:00:00-05:00",
          "2016-02-18T02:00:00-05:00",
          "2016-02-18T03:00:00-05:00",
          "2016-02-18T04:00:00-05:00",
          "2016-02-18T05:00:00-05:00",
          "2016-02-18T06:00:00-05:00",
          "2016-02-18T07:00:00-05:00",
          "2016-02-18T08:00:00-05:00",
          "2016-02-18T09:00:00-05:00",
          "2016-02-18T10:00:00-05:00",
          "2016-02-18T11:00:00-05:00",
          "2016-02-18T12:00:00-05:00",
          "2016-02-18T13:00:00-05:00",
          "2016-02-18T14:00:00-05:00",
          "2016-02-18T15:00:00-05:00",
          "2016-02-18T16:00:00-05:00",
          "2016-02-18T17:00:00-05:00",
          "2016-02-18T18:00:00-05:00",
          "2016-02-18T19:00:00-05:00",
          "2016-02-18T20:00:00-05:00",
          "2016-02-18T21:00:00-05:00",
          "2016-02-18T22:00:00-05:00",
          "2016-02-18T23:00:00-05:00",
          "2016-02-19T00:00:00-05:00",
          "2016-02-19T01:00:00-05:00",
          "2016-02-19T02:00:00-05:00",
          "2016-02-19T03:00:00-05:00",
          "2016-02-19T04:00:00-05:00",
          "2016-02-19T05:00:00-05:00",
          "2016-02-19T06:00:00-05:00",
          "2016-02-19T07:00:00-05:00",
          "2016-02-19T08:00:00-05:00",
          "2016-02-19T09:00:00-05:00",
          "2016-02-19T10:00:00-05:00",
          "2016-02-19T11:00:00-05:00",
          "2016-02-19T12:00:00-05:00",
          "2016-02-19T13:00:00-05:00",
          "2016-02-19T14:00:00-05:00",
          "2016-02-19T15:00:00-05:00",
          "2016-02-19T16:00:00-05:00",
          "2016-02-19T17:00:00-05:00",
          "2016-02-19T18:00:00-05:00",
          "2016-02-19T19:00:00-05:00",
          "2016-02-19T20:00:00-05:00",
          "2016-02-19T21:00:00-05:00",
          "2016-02-19T22:00:00-05:00",
          "2016-02-19T23:00:00-05:00",
          "2016-02-20T00:00:00-05:00",
          "2016-02-20T01:00:00-05:00",
          "2016-02-20T02:00:00-05:00",
          "2016-02-20T03:00:00-05:00",
          "2016-02-20T04:00:00-05:00",
          "2016-02-20T05:00:00-05:00",
          "2016-02-20T06:00:00-05:00",
          "2016-02-20T07:00:00-05:00",
          "2016-02-20T08:00:00-05:00",
          "2016-02-20T09:00:00-05:00",
          "2016-02-20T10:00:00-05:00",
          "2016-02-20T11:00:00-05:00",
          "2016-02-20T12:00:00-05:00",
          "2016-02-20T13:00:00-05:00",
          "2016-02-20T14:00:00-05:00",
          "2016-02-20T15:00:00-05:00",
          "2016-02-20T16:00:00-05:00",
          "2016-02-20T17:00:00-05:00",
          "2016-02-20T18:00:00-05:00",
          "2016-02-20T19:00:00-05:00",
          "2016-02-20T20:00:00-05:00",
          "2016-02-20T21:00:00-05:00",
          "2016-02-20T22:00:00-05:00",
          "2016-02-20T23:00:00-05:00",
          "2016-02-21T00:00:00-05:00",
          "2016-02-21T01:00:00-05:00",
          "2016-02-21T02:00:00-05:00",
          "2016-02-21T03:00:00-05:00",
          "2016-02-21T04:00:00-05:00",
          "2016-02-21T05:00:00-05:00",
          "2016-02-21T06:00:00-05:00",
          "2016-02-21T07:00:00-05:00",
          "2016-02-21T08:00:00-05:00",
          "2016-02-21T09:00:00-05:00",
          "2016-02-21T10:00:00-05:00",
          "2016-02-21T11:00:00-05:00",
          "2016-02-21T12:00:00-05:00",
          "2016-02-21T13:00:00-05:00",
          "2016-02-21T14:00:00-05:00",
          "2016-02-21T15:00:00-05:00",
          "2016-02-21T16:00:00-05:00",
          "2016-02-21T17:00:00-05:00",
          "2016-02-21T18:00:00-05:00",
          "2016-02-21T19:00:00-05:00",
          "2016-02-21T20:00:00-05:00",
          "2016-02-21T21:00:00-05:00",
          "2016-02-21T22:00:00-05:00",
          "2016-02-21T23:00:00-05:00",
          "2016-02-22T00:00:00-05:00",
          "2016-02-22T01:00:00-05:00",
          "2016-02-22T02:00:00-05:00",
          "2016-02-22T03:00:00-05:00",
          "2016-02-22T04:00:00-05:00",
          "2016-02-22T05:00:00-05:00",
          "2016-02-22T06:00:00-05:00",
          "2016-02-22T07:00:00-05:00",
          "2016-02-22T08:00:00-05:00",
          "2016-02-22T09:00:00-05:00",
          "2016-02-22T10:00:00-05:00",
          "2016-02-22T11:00:00-05:00",
          "2016-02-22T12:00:00-05:00",
          "2016-02-22T13:00:00-05:00",
          "2016-02-22T14:00:00-05:00",
          "2016-02-22T15:00:00-05:00",
          "2016-02-22T16:00:00-05:00",
          "2016-02-22T17:00:00-05:00",
          "2016-02-22T18:00:00-05:00",
          "2016-02-22T19:00:00-05:00",
          "2016-02-22T20:00:00-05:00",
          "2016-02-22T21:00:00-05:00",
          "2016-02-22T22:00:00-05:00",
          "2016-02-22T23:00:00-05:00",
          "2016-02-23T00:00:00-05:00",
          "2016-02-23T01:00:00-05:00",
          "2016-02-23T02:00:00-05:00",
          "2016-02-23T03:00:00-05:00",
          "2016-02-23T04:00:00-05:00",
          "2016-02-23T05:00:00-05:00",
          "2016-02-23T06:00:00-05:00",
          "2016-02-23T07:00:00-05:00",
          "2016-02-23T08:00:00-05:00",
          "2016-02-23T09:00:00-05:00",
          "2016-02-23T10:00:00-05:00",
          "2016-02-23T11:00:00-05:00",
          "2016-02-23T12:00:00-05:00",
          "2016-02-23T13:00:00-05:00",
          "2016-02-23T14:00:00-05:00",
          "2016-02-23T15:00:00-05:00",
          "2016-02-23T16:00:00-05:00",
          "2016-02-23T17:00:00-05:00",
          "2016-02-23T18:00:00-05:00",
          "2016-02-23T19:00:00-05:00",
          "2016-02-23T20:00:00-05:00",
          "2016-02-23T21:00:00-05:00",
          "2016-02-23T22:00:00-05:00",
          "2016-02-23T23:00:00-05:00",
          "2016-02-24T00:00:00-05:00",
          "2016-02-24T01:00:00-05:00",
          "2016-02-24T02:00:00-05:00",
          "2016-02-24T03:00:00-05:00",
          "2016-02-24T04:00:00-05:00",
          "2016-02-24T05:00:00-05:00",
          "2016-02-24T06:00:00-05:00",
          "2016-02-24T07:00:00-05:00",
          "2016-02-24T08:00:00-05:00",
          "2016-02-24T09:00:00-05:00",
          "2016-02-24T10:00:00-05:00",
          "2016-02-24T11:00:00-05:00",
          "2016-02-24T12:00:00-05:00",
          "2016-02-24T13:00:00-05:00",
          "2016-02-24T14:00:00-05:00",
          "2016-02-24T15:00:00-05:00",
          "2016-02-24T16:00:00-05:00",
          "2016-02-24T17:00:00-05:00",
          "2016-02-24T18:00:00-05:00",
          "2016-02-24T19:00:00-05:00",
          "2016-02-24T20:00:00-05:00",
          "2016-02-24T21:00:00-05:00",
          "2016-02-24T22:00:00-05:00",
          "2016-02-24T23:00:00-05:00",
          "2016-02-25T00:00:00-05:00",
          "2016-02-25T01:00:00-05:00",
          "2016-02-25T02:00:00-05:00",
          "2016-02-25T03:00:00-05:00",
          "2016-02-25T04:00:00-05:00",
          "2016-02-25T05:00:00-05:00",
          "2016-02-25T06:00:00-05:00",
          "2016-02-25T07:00:00-05:00",
          "2016-02-25T08:00:00-05:00",
          "2016-02-25T09:00:00-05:00",
          "2016-02-25T10:00:00-05:00",
          "2016-02-25T11:00:00-05:00",
          "2016-02-25T12:00:00-05:00",
          "2016-02-25T13:00:00-05:00",
          "2016-02-25T14:00:00-05:00",
          "2016-02-25T15:00:00-05:00",
          "2016-02-25T16:00:00-05:00",
          "2016-02-25T17:00:00-05:00",
          "2016-02-25T18:00:00-05:00",
          "2016-02-25T19:00:00-05:00",
          "2016-02-25T20:00:00-05:00",
          "2016-02-25T21:00:00-05:00",
          "2016-02-25T22:00:00-05:00",
          "2016-02-25T23:00:00-05:00",
          "2016-02-26T00:00:00-05:00",
          "2016-02-26T01:00:00-05:00",
          "2016-02-26T02:00:00-05:00",
          "2016-02-26T03:00:00-05:00",
          "2016-02-26T04:00:00-05:00",
          "2016-02-26T05:00:00-05:00",
          "2016-02-26T06:00:00-05:00",
          "2016-02-26T07:00:00-05:00",
          "2016-02-26T08:00:00-05:00",
          "2016-02-26T09:00:00-05:00",
          "2016-02-26T10:00:00-05:00",
          "2016-02-26T11:00:00-05:00",
          "2016-02-26T12:00:00-05:00",
          "2016-02-26T13:00:00-05:00",
          "2016-02-26T14:00:00-05:00",
          "2016-02-26T15:00:00-05:00",
          "2016-02-26T16:00:00-05:00",
          "2016-02-26T17:00:00-05:00",
          "2016-02-26T18:00:00-05:00",
          "2016-02-26T19:00:00-05:00",
          "2016-02-26T20:00:00-05:00",
          "2016-02-26T21:00:00-05:00",
          "2016-02-26T22:00:00-05:00",
          "2016-02-26T23:00:00-05:00",
          "2016-02-27T00:00:00-05:00",
          "2016-02-27T01:00:00-05:00",
          "2016-02-27T02:00:00-05:00",
          "2016-02-27T03:00:00-05:00",
          "2016-02-27T04:00:00-05:00",
          "2016-02-27T05:00:00-05:00",
          "2016-02-27T06:00:00-05:00",
          "2016-02-27T07:00:00-05:00",
          "2016-02-27T08:00:00-05:00",
          "2016-02-27T09:00:00-05:00",
          "2016-02-27T10:00:00-05:00",
          "2016-02-27T11:00:00-05:00",
          "2016-02-27T12:00:00-05:00",
          "2016-02-27T13:00:00-05:00",
          "2016-02-27T14:00:00-05:00",
          "2016-02-27T15:00:00-05:00",
          "2016-02-27T16:00:00-05:00",
          "2016-02-27T17:00:00-05:00",
          "2016-02-27T18:00:00-05:00",
          "2016-02-27T19:00:00-05:00",
          "2016-02-27T20:00:00-05:00",
          "2016-02-27T21:00:00-05:00",
          "2016-02-27T22:00:00-05:00",
          "2016-02-27T23:00:00-05:00",
          "2016-02-28T00:00:00-05:00",
          "2016-02-28T01:00:00-05:00",
          "2016-02-28T02:00:00-05:00",
          "2016-02-28T03:00:00-05:00",
          "2016-02-28T04:00:00-05:00",
          "2016-02-28T05:00:00-05:00",
          "2016-02-28T06:00:00-05:00",
          "2016-02-28T07:00:00-05:00",
          "2016-02-28T08:00:00-05:00",
          "2016-02-28T09:00:00-05:00",
          "2016-02-28T10:00:00-05:00",
          "2016-02-28T11:00:00-05:00",
          "2016-02-28T12:00:00-05:00",
          "2016-02-28T13:00:00-05:00",
          "2016-02-28T14:00:00-05:00",
          "2016-02-28T15:00:00-05:00",
          "2016-02-28T16:00:00-05:00",
          "2016-02-28T17:00:00-05:00",
          "2016-02-28T18:00:00-05:00",
          "2016-02-28T19:00:00-05:00",
          "2016-02-28T20:00:00-05:00",
          "2016-02-28T21:00:00-05:00",
          "2016-02-28T22:00:00-05:00",
          "2016-02-28T23:00:00-05:00",
          "2016-02-29T00:00:00-05:00",
          "2016-02-29T01:00:00-05:00",
          "2016-02-29T02:00:00-05:00",
          "2016-02-29T03:00:00-05:00",
          "2016-02-29T04:00:00-05:00",
          "2016-02-29T05:00:00-05:00",
          "2016-02-29T06:00:00-05:00",
          "2016-02-29T07:00:00-05:00",
          "2016-02-29T08:00:00-05:00",
          "2016-02-29T09:00:00-05:00",
          "2016-02-29T10:00:00-05:00",
          "2016-02-29T11:00:00-05:00",
          "2016-02-29T12:00:00-05:00",
          "2016-02-29T13:00:00-05:00",
          "2016-02-29T14:00:00-05:00",
          "2016-02-29T15:00:00-05:00",
          "2016-02-29T16:00:00-05:00",
          "2016-02-29T17:00:00-05:00",
          "2016-02-29T18:00:00-05:00"
         ],
         "xaxis": "x",
         "y": [
          null,
          -471,
          -236,
          -152,
          32,
          -3,
          316,
          1107,
          765,
          -194,
          -556,
          -125,
          -47,
          192,
          297,
          162,
          308,
          95,
          196,
          -186,
          -432,
          -346,
          -282,
          -319,
          -295,
          -378,
          -275,
          -129,
          7,
          12,
          332,
          988,
          828,
          -231,
          -366,
          -81,
          -119,
          65,
          245,
          164,
          246,
          388,
          315,
          -94,
          -343,
          -223,
          -297,
          -314,
          -536,
          -449,
          -374,
          -172,
          3,
          26,
          340,
          1223,
          801,
          -240,
          -480,
          -120,
          156,
          264,
          389,
          221,
          162,
          -6,
          178,
          -178,
          -483,
          -371,
          -291,
          -259,
          -450,
          -373,
          -341,
          -150,
          6,
          -14,
          362,
          1200,
          717,
          30,
          -566,
          -131,
          -39,
          72,
          266,
          221,
          203,
          441,
          295,
          -21,
          -168,
          -357,
          34,
          -485,
          -471,
          -612,
          -476,
          -263,
          -54,
          -112,
          386,
          936,
          889,
          -158,
          -372,
          -162,
          -193,
          -57,
          493,
          319,
          465,
          522,
          623,
          110,
          -464,
          22,
          42,
          2,
          -216,
          -428,
          -585,
          -465,
          -643,
          -806,
          -72,
          194,
          490,
          449,
          256,
          310,
          198,
          231,
          -64,
          155,
          422,
          169,
          487,
          348,
          -240,
          -2,
          84,
          343,
          -406,
          -478,
          -327,
          -631,
          -741,
          -1035,
          -231,
          46,
          242,
          445,
          398,
          236,
          25,
          293,
          117,
          134,
          486,
          533,
          223,
          -1182,
          -343,
          215,
          822,
          -345,
          -1045,
          -751,
          -397,
          -251,
          62,
          -132,
          305,
          728,
          913,
          116,
          -442,
          -179,
          -165,
          52,
          142,
          244,
          134,
          366,
          391,
          -216,
          -487,
          -362,
          -223,
          -238,
          -529,
          -390,
          -171,
          -146,
          16,
          53,
          381,
          1033,
          901,
          -273,
          -431,
          -159,
          -105,
          39,
          275,
          175,
          209,
          467,
          340,
          -150,
          -449,
          -231,
          -451,
          -249,
          -505,
          -447,
          -238,
          -165,
          12,
          22,
          347,
          1166,
          851,
          -234,
          -463,
          -113,
          5,
          198,
          233,
          68,
          406,
          446,
          413,
          -152,
          -250,
          -431,
          -389,
          -453,
          -520,
          -411,
          -448,
          -226,
          -25,
          17,
          383,
          1164,
          887,
          -111,
          -406,
          -185,
          12,
          230,
          340,
          276,
          362,
          513,
          636,
          -96,
          -407,
          -419,
          -554,
          -336,
          -767,
          -647,
          -476,
          -216,
          -67,
          -66,
          457,
          1174,
          963,
          -343,
          -362,
          -136,
          -151,
          82,
          610,
          293,
          508,
          523,
          524,
          161,
          -293,
          -384,
          -178,
          -42,
          -92,
          -572,
          -478,
          -610,
          -559,
          -743,
          -155,
          194,
          456,
          689,
          181,
          363,
          212,
          212,
          229,
          229,
          573,
          242,
          625,
          300,
          -403,
          -426,
          -348,
          206,
          -642,
          -773,
          -522,
          -464,
          -404,
          -702,
          -45,
          74,
          279,
          411,
          472,
          430,
          180,
          247,
          99,
          153,
          327,
          207,
          381,
          73,
          -372,
          -422,
          -125,
          -168,
          -553,
          -627,
          -486,
          -254,
          -136,
          -190,
          112,
          325,
          560,
          351,
          -85,
          12,
          85,
          208,
          199,
          278,
          60,
          -184,
          173,
          -141,
          -117,
          -322,
          -126,
          -381,
          -561,
          -414,
          -189,
          -180,
          39,
          88,
          309,
          726,
          912,
          310,
          -611,
          -96,
          153,
          421,
          340,
          -515,
          -94,
          294,
          383,
          -113,
          -337,
          -273,
          -289,
          -311,
          -358,
          -388,
          -320,
          -205,
          15,
          8,
          356,
          738,
          867,
          23,
          -225,
          -95,
          -29,
          59,
          168,
          246,
          229,
          223,
          411,
          37,
          -502,
          -195,
          -350,
          -257,
          -542,
          -541,
          -328,
          -199,
          -45,
          -43,
          345,
          840,
          893,
          101,
          -337,
          -136,
          -89,
          170,
          24,
          252,
          505,
          365,
          567,
          -96,
          -346,
          -152,
          -328,
          -307,
          -758,
          -542,
          -376,
          -268,
          -149,
          -114,
          340,
          835,
          917,
          27,
          -378,
          -189,
          -82,
          3,
          403,
          320,
          651,
          370,
          655,
          20,
          -376,
          -84,
          -78,
          94,
          -89,
          -483,
          -604,
          -417,
          -631,
          -822,
          -137,
          277,
          386,
          438,
          291,
          222,
          164,
          198,
          89,
          133,
          412,
          205,
          543,
          219,
          -133,
          -23,
          134,
          228,
          -258,
          -340,
          -607,
          -503,
          -744,
          -1067,
          -267,
          18,
          252,
          436,
          351,
          249,
          123,
          246,
          65,
          168,
          189,
          191,
          320,
          -419,
          -61,
          -302,
          -324,
          -499,
          -471,
          -394,
          -328,
          -193,
          147,
          -20,
          442,
          1087,
          625,
          -214,
          -397,
          -231,
          -128,
          99,
          274,
          115,
          273,
          326,
          262,
          -154,
          -409,
          -325,
          -261,
          -361,
          -384,
          -395,
          -250,
          -119,
          -6,
          48,
          435,
          1115,
          748,
          -99,
          -537,
          74,
          126,
          -59,
          431,
          213,
          163,
          445,
          445,
          -120,
          -164,
          -673,
          -415,
          -579,
          -598,
          -550,
          -298,
          -157,
          40,
          43,
          445,
          1114,
          936,
          -90,
          -517,
          172,
          87,
          -85,
          -158,
          103,
          509,
          459,
          151,
          21,
          -610,
          -201,
          -310,
          -211,
          -822,
          -556,
          -304,
          -140,
          18,
          -3,
          439,
          1110,
          774,
          -200,
          -341,
          -411,
          156,
          48,
          576,
          378,
          360,
          263,
          341,
          -95,
          -355,
          -177,
          -405,
          -334,
          -675,
          -620,
          -342,
          -201,
          -97,
          -112,
          372,
          1213,
          656,
          -212,
          -348,
          -168,
          -145,
          156,
          487,
          332,
          431,
          635,
          609,
          210,
          -259,
          -178,
          -66,
          4,
          -348,
          -623,
          -513,
          -624,
          -475,
          -892,
          33,
          199,
          414,
          604,
          227,
          136,
          -50,
          340,
          322,
          86,
          258,
          335,
          493,
          283,
          -115,
          42,
          -79,
          315,
          -281,
          -529,
          -435,
          -671,
          -605,
          -1135,
          -282,
          48,
          230,
          488,
          341,
          232,
          117,
          289,
          126,
          44,
          136,
          152,
          238,
          -203,
          -335,
          -182,
          -270,
          -348,
          104,
          -924,
          -333,
          -144,
          47,
          -43,
          489,
          1053,
          786,
          -330,
          -253,
          -85,
          -351,
          28,
          257,
          33,
          301,
          294,
          275,
          -114,
          -291,
          -337,
          -421,
          -241
         ],
         "yaxis": "y"
        }
       ],
       "layout": {
        "legend": {
         "tracegroupgap": 0
        },
        "template": {
         "data": {
          "bar": [
           {
            "error_x": {
             "color": "#2a3f5f"
            },
            "error_y": {
             "color": "#2a3f5f"
            },
            "marker": {
             "line": {
              "color": "#E5ECF6",
              "width": 0.5
             },
             "pattern": {
              "fillmode": "overlay",
              "size": 10,
              "solidity": 0.2
             }
            },
            "type": "bar"
           }
          ],
          "barpolar": [
           {
            "marker": {
             "line": {
              "color": "#E5ECF6",
              "width": 0.5
             },
             "pattern": {
              "fillmode": "overlay",
              "size": 10,
              "solidity": 0.2
             }
            },
            "type": "barpolar"
           }
          ],
          "carpet": [
           {
            "aaxis": {
             "endlinecolor": "#2a3f5f",
             "gridcolor": "white",
             "linecolor": "white",
             "minorgridcolor": "white",
             "startlinecolor": "#2a3f5f"
            },
            "baxis": {
             "endlinecolor": "#2a3f5f",
             "gridcolor": "white",
             "linecolor": "white",
             "minorgridcolor": "white",
             "startlinecolor": "#2a3f5f"
            },
            "type": "carpet"
           }
          ],
          "choropleth": [
           {
            "colorbar": {
             "outlinewidth": 0,
             "ticks": ""
            },
            "type": "choropleth"
           }
          ],
          "contour": [
           {
            "colorbar": {
             "outlinewidth": 0,
             "ticks": ""
            },
            "colorscale": [
             [
              0,
              "#0d0887"
             ],
             [
              0.1111111111111111,
              "#46039f"
             ],
             [
              0.2222222222222222,
              "#7201a8"
             ],
             [
              0.3333333333333333,
              "#9c179e"
             ],
             [
              0.4444444444444444,
              "#bd3786"
             ],
             [
              0.5555555555555556,
              "#d8576b"
             ],
             [
              0.6666666666666666,
              "#ed7953"
             ],
             [
              0.7777777777777778,
              "#fb9f3a"
             ],
             [
              0.8888888888888888,
              "#fdca26"
             ],
             [
              1,
              "#f0f921"
             ]
            ],
            "type": "contour"
           }
          ],
          "contourcarpet": [
           {
            "colorbar": {
             "outlinewidth": 0,
             "ticks": ""
            },
            "type": "contourcarpet"
           }
          ],
          "heatmap": [
           {
            "colorbar": {
             "outlinewidth": 0,
             "ticks": ""
            },
            "colorscale": [
             [
              0,
              "#0d0887"
             ],
             [
              0.1111111111111111,
              "#46039f"
             ],
             [
              0.2222222222222222,
              "#7201a8"
             ],
             [
              0.3333333333333333,
              "#9c179e"
             ],
             [
              0.4444444444444444,
              "#bd3786"
             ],
             [
              0.5555555555555556,
              "#d8576b"
             ],
             [
              0.6666666666666666,
              "#ed7953"
             ],
             [
              0.7777777777777778,
              "#fb9f3a"
             ],
             [
              0.8888888888888888,
              "#fdca26"
             ],
             [
              1,
              "#f0f921"
             ]
            ],
            "type": "heatmap"
           }
          ],
          "heatmapgl": [
           {
            "colorbar": {
             "outlinewidth": 0,
             "ticks": ""
            },
            "colorscale": [
             [
              0,
              "#0d0887"
             ],
             [
              0.1111111111111111,
              "#46039f"
             ],
             [
              0.2222222222222222,
              "#7201a8"
             ],
             [
              0.3333333333333333,
              "#9c179e"
             ],
             [
              0.4444444444444444,
              "#bd3786"
             ],
             [
              0.5555555555555556,
              "#d8576b"
             ],
             [
              0.6666666666666666,
              "#ed7953"
             ],
             [
              0.7777777777777778,
              "#fb9f3a"
             ],
             [
              0.8888888888888888,
              "#fdca26"
             ],
             [
              1,
              "#f0f921"
             ]
            ],
            "type": "heatmapgl"
           }
          ],
          "histogram": [
           {
            "marker": {
             "pattern": {
              "fillmode": "overlay",
              "size": 10,
              "solidity": 0.2
             }
            },
            "type": "histogram"
           }
          ],
          "histogram2d": [
           {
            "colorbar": {
             "outlinewidth": 0,
             "ticks": ""
            },
            "colorscale": [
             [
              0,
              "#0d0887"
             ],
             [
              0.1111111111111111,
              "#46039f"
             ],
             [
              0.2222222222222222,
              "#7201a8"
             ],
             [
              0.3333333333333333,
              "#9c179e"
             ],
             [
              0.4444444444444444,
              "#bd3786"
             ],
             [
              0.5555555555555556,
              "#d8576b"
             ],
             [
              0.6666666666666666,
              "#ed7953"
             ],
             [
              0.7777777777777778,
              "#fb9f3a"
             ],
             [
              0.8888888888888888,
              "#fdca26"
             ],
             [
              1,
              "#f0f921"
             ]
            ],
            "type": "histogram2d"
           }
          ],
          "histogram2dcontour": [
           {
            "colorbar": {
             "outlinewidth": 0,
             "ticks": ""
            },
            "colorscale": [
             [
              0,
              "#0d0887"
             ],
             [
              0.1111111111111111,
              "#46039f"
             ],
             [
              0.2222222222222222,
              "#7201a8"
             ],
             [
              0.3333333333333333,
              "#9c179e"
             ],
             [
              0.4444444444444444,
              "#bd3786"
             ],
             [
              0.5555555555555556,
              "#d8576b"
             ],
             [
              0.6666666666666666,
              "#ed7953"
             ],
             [
              0.7777777777777778,
              "#fb9f3a"
             ],
             [
              0.8888888888888888,
              "#fdca26"
             ],
             [
              1,
              "#f0f921"
             ]
            ],
            "type": "histogram2dcontour"
           }
          ],
          "mesh3d": [
           {
            "colorbar": {
             "outlinewidth": 0,
             "ticks": ""
            },
            "type": "mesh3d"
           }
          ],
          "parcoords": [
           {
            "line": {
             "colorbar": {
              "outlinewidth": 0,
              "ticks": ""
             }
            },
            "type": "parcoords"
           }
          ],
          "pie": [
           {
            "automargin": true,
            "type": "pie"
           }
          ],
          "scatter": [
           {
            "fillpattern": {
             "fillmode": "overlay",
             "size": 10,
             "solidity": 0.2
            },
            "type": "scatter"
           }
          ],
          "scatter3d": [
           {
            "line": {
             "colorbar": {
              "outlinewidth": 0,
              "ticks": ""
             }
            },
            "marker": {
             "colorbar": {
              "outlinewidth": 0,
              "ticks": ""
             }
            },
            "type": "scatter3d"
           }
          ],
          "scattercarpet": [
           {
            "marker": {
             "colorbar": {
              "outlinewidth": 0,
              "ticks": ""
             }
            },
            "type": "scattercarpet"
           }
          ],
          "scattergeo": [
           {
            "marker": {
             "colorbar": {
              "outlinewidth": 0,
              "ticks": ""
             }
            },
            "type": "scattergeo"
           }
          ],
          "scattergl": [
           {
            "marker": {
             "colorbar": {
              "outlinewidth": 0,
              "ticks": ""
             }
            },
            "type": "scattergl"
           }
          ],
          "scattermapbox": [
           {
            "marker": {
             "colorbar": {
              "outlinewidth": 0,
              "ticks": ""
             }
            },
            "type": "scattermapbox"
           }
          ],
          "scatterpolar": [
           {
            "marker": {
             "colorbar": {
              "outlinewidth": 0,
              "ticks": ""
             }
            },
            "type": "scatterpolar"
           }
          ],
          "scatterpolargl": [
           {
            "marker": {
             "colorbar": {
              "outlinewidth": 0,
              "ticks": ""
             }
            },
            "type": "scatterpolargl"
           }
          ],
          "scatterternary": [
           {
            "marker": {
             "colorbar": {
              "outlinewidth": 0,
              "ticks": ""
             }
            },
            "type": "scatterternary"
           }
          ],
          "surface": [
           {
            "colorbar": {
             "outlinewidth": 0,
             "ticks": ""
            },
            "colorscale": [
             [
              0,
              "#0d0887"
             ],
             [
              0.1111111111111111,
              "#46039f"
             ],
             [
              0.2222222222222222,
              "#7201a8"
             ],
             [
              0.3333333333333333,
              "#9c179e"
             ],
             [
              0.4444444444444444,
              "#bd3786"
             ],
             [
              0.5555555555555556,
              "#d8576b"
             ],
             [
              0.6666666666666666,
              "#ed7953"
             ],
             [
              0.7777777777777778,
              "#fb9f3a"
             ],
             [
              0.8888888888888888,
              "#fdca26"
             ],
             [
              1,
              "#f0f921"
             ]
            ],
            "type": "surface"
           }
          ],
          "table": [
           {
            "cells": {
             "fill": {
              "color": "#EBF0F8"
             },
             "line": {
              "color": "white"
             }
            },
            "header": {
             "fill": {
              "color": "#C8D4E3"
             },
             "line": {
              "color": "white"
             }
            },
            "type": "table"
           }
          ]
         },
         "layout": {
          "annotationdefaults": {
           "arrowcolor": "#2a3f5f",
           "arrowhead": 0,
           "arrowwidth": 1
          },
          "autotypenumbers": "strict",
          "coloraxis": {
           "colorbar": {
            "outlinewidth": 0,
            "ticks": ""
           }
          },
          "colorscale": {
           "diverging": [
            [
             0,
             "#8e0152"
            ],
            [
             0.1,
             "#c51b7d"
            ],
            [
             0.2,
             "#de77ae"
            ],
            [
             0.3,
             "#f1b6da"
            ],
            [
             0.4,
             "#fde0ef"
            ],
            [
             0.5,
             "#f7f7f7"
            ],
            [
             0.6,
             "#e6f5d0"
            ],
            [
             0.7,
             "#b8e186"
            ],
            [
             0.8,
             "#7fbc41"
            ],
            [
             0.9,
             "#4d9221"
            ],
            [
             1,
             "#276419"
            ]
           ],
           "sequential": [
            [
             0,
             "#0d0887"
            ],
            [
             0.1111111111111111,
             "#46039f"
            ],
            [
             0.2222222222222222,
             "#7201a8"
            ],
            [
             0.3333333333333333,
             "#9c179e"
            ],
            [
             0.4444444444444444,
             "#bd3786"
            ],
            [
             0.5555555555555556,
             "#d8576b"
            ],
            [
             0.6666666666666666,
             "#ed7953"
            ],
            [
             0.7777777777777778,
             "#fb9f3a"
            ],
            [
             0.8888888888888888,
             "#fdca26"
            ],
            [
             1,
             "#f0f921"
            ]
           ],
           "sequentialminus": [
            [
             0,
             "#0d0887"
            ],
            [
             0.1111111111111111,
             "#46039f"
            ],
            [
             0.2222222222222222,
             "#7201a8"
            ],
            [
             0.3333333333333333,
             "#9c179e"
            ],
            [
             0.4444444444444444,
             "#bd3786"
            ],
            [
             0.5555555555555556,
             "#d8576b"
            ],
            [
             0.6666666666666666,
             "#ed7953"
            ],
            [
             0.7777777777777778,
             "#fb9f3a"
            ],
            [
             0.8888888888888888,
             "#fdca26"
            ],
            [
             1,
             "#f0f921"
            ]
           ]
          },
          "colorway": [
           "#636efa",
           "#EF553B",
           "#00cc96",
           "#ab63fa",
           "#FFA15A",
           "#19d3f3",
           "#FF6692",
           "#B6E880",
           "#FF97FF",
           "#FECB52"
          ],
          "font": {
           "color": "#2a3f5f"
          },
          "geo": {
           "bgcolor": "white",
           "lakecolor": "white",
           "landcolor": "#E5ECF6",
           "showlakes": true,
           "showland": true,
           "subunitcolor": "white"
          },
          "hoverlabel": {
           "align": "left"
          },
          "hovermode": "closest",
          "mapbox": {
           "style": "light"
          },
          "paper_bgcolor": "white",
          "plot_bgcolor": "#E5ECF6",
          "polar": {
           "angularaxis": {
            "gridcolor": "white",
            "linecolor": "white",
            "ticks": ""
           },
           "bgcolor": "#E5ECF6",
           "radialaxis": {
            "gridcolor": "white",
            "linecolor": "white",
            "ticks": ""
           }
          },
          "scene": {
           "xaxis": {
            "backgroundcolor": "#E5ECF6",
            "gridcolor": "white",
            "gridwidth": 2,
            "linecolor": "white",
            "showbackground": true,
            "ticks": "",
            "zerolinecolor": "white"
           },
           "yaxis": {
            "backgroundcolor": "#E5ECF6",
            "gridcolor": "white",
            "gridwidth": 2,
            "linecolor": "white",
            "showbackground": true,
            "ticks": "",
            "zerolinecolor": "white"
           },
           "zaxis": {
            "backgroundcolor": "#E5ECF6",
            "gridcolor": "white",
            "gridwidth": 2,
            "linecolor": "white",
            "showbackground": true,
            "ticks": "",
            "zerolinecolor": "white"
           }
          },
          "shapedefaults": {
           "line": {
            "color": "#2a3f5f"
           }
          },
          "ternary": {
           "aaxis": {
            "gridcolor": "white",
            "linecolor": "white",
            "ticks": ""
           },
           "baxis": {
            "gridcolor": "white",
            "linecolor": "white",
            "ticks": ""
           },
           "bgcolor": "#E5ECF6",
           "caxis": {
            "gridcolor": "white",
            "linecolor": "white",
            "ticks": ""
           }
          },
          "title": {
           "x": 0.05
          },
          "xaxis": {
           "automargin": true,
           "gridcolor": "white",
           "linecolor": "white",
           "ticks": "",
           "title": {
            "standoff": 15
           },
           "zerolinecolor": "white",
           "zerolinewidth": 2
          },
          "yaxis": {
           "automargin": true,
           "gridcolor": "white",
           "linecolor": "white",
           "ticks": "",
           "title": {
            "standoff": 15
           },
           "zerolinecolor": "white",
           "zerolinewidth": 2
          }
         }
        },
        "title": {
         "text": "Differenced Average Hourly Trip Count by Time of Day"
        },
        "xaxis": {
         "anchor": "y",
         "domain": [
          0,
          1
         ],
         "title": {
          "text": "Differenced Number of Trips"
         }
        },
        "yaxis": {
         "anchor": "x",
         "domain": [
          0,
          1
         ],
         "title": {
          "text": "Date and Time"
         }
        }
       }
      }
     },
     "metadata": {},
     "output_type": "display_data"
    },
    {
     "name": "stdout",
     "output_type": "stream",
     "text": [
      "Figure 7. Differenced Average Hourly Trip Count by Time of Day\n"
     ]
    }
   ],
   "source": [
    "datetime_line_plot(diffed_hourly_count_trip_data.to_frame().rename(columns={0: \"count\"}),\n",
    "                   \"count\",\n",
    "                   plot_title_name = 'Differenced Average Hourly Trip Count by Time of Day', \n",
    "                   plot_xlabel_name= 'Date and Time',\n",
    "                   plot_ylabel_name= 'Differenced Number of Trips',\n",
    "                   make_interactive=True)\n",
    "print(\"Figure 7. Differenced Average Hourly Trip Count by Time of Day\")"
   ]
  },
  {
   "cell_type": "markdown",
   "metadata": {},
   "source": [
    "The above process shows how we convert the data to stationary, this is important since I can now specify that I only need one differencing to convert the data to stationary, which is useful in parameterizing the ARIMA model. Since I have now the first parameter, I can now look at the ACF and PACF plot for the Moving Average part and the Autoregressive part of the ARIMA model."
   ]
  },
  {
   "cell_type": "markdown",
   "metadata": {},
   "source": [
    "**ACF AND PACF Plot**"
   ]
  },
  {
   "cell_type": "code",
   "execution_count": 25,
   "metadata": {},
   "outputs": [
    {
     "data": {
      "image/png": "[encoded data removed]",
      "text/plain": [
       "<Figure size 640x480 with 1 Axes>"
      ]
     },
     "metadata": {},
     "output_type": "display_data"
    }
   ],
   "source": [
    "# from statsmodels.api import graphics\n",
    "sm.graphics.tsa.plot_acf(diffed_hourly_count_trip_data.dropna());"
   ]
  },
  {
   "cell_type": "markdown",
   "metadata": {},
   "source": [
    "Looking at the ACF plot, we can estimate the order for the moving average part. In this case, since the lag two does show a significant positive correlation and the next lag (lag 3) is not, we can set the moving average part order to 2."
   ]
  },
  {
   "cell_type": "code",
   "execution_count": 26,
   "metadata": {},
   "outputs": [
    {
     "data": {
      "image/png": "[encoded data removed]",
      "text/plain": [
       "<Figure size 640x480 with 1 Axes>"
      ]
     },
     "metadata": {},
     "output_type": "display_data"
    }
   ],
   "source": [
    "sm.graphics.tsa.plot_pacf(diffed_hourly_count_trip_data.dropna());"
   ]
  },
  {
   "cell_type": "markdown",
   "metadata": {},
   "source": [
    "For the autoregressive part, I looked at the PACF, similar with the moving average part of the ARIMA model, I can set the order to 2.\n",
    "\n",
    "Finally, I can set the ARIMA order of (2, 1, 2)."
   ]
  },
  {
   "cell_type": "markdown",
   "metadata": {},
   "source": [
    "**Looking at the trend, seasonality, and residual.**"
   ]
  },
  {
   "cell_type": "code",
   "execution_count": 27,
   "metadata": {},
   "outputs": [
    {
     "data": {
      "image/png": "[encoded data removed]",
      "text/plain": [
       "<Figure size 640x480 with 4 Axes>"
      ]
     },
     "metadata": {},
     "output_type": "display_data"
    },
    {
     "name": "stdout",
     "output_type": "stream",
     "text": [
      "Figure 8. Observed, Trend, Seasonal, and Residual Plot of the Number of Hourly Trip\n"
     ]
    }
   ],
   "source": [
    "decomposition = sm.tsa.seasonal_decompose(hourly_count_trip_data, model='additive')\n",
    "fig = decomposition.plot()\n",
    "plt.show()\n",
    "print(\"Figure 8. Observed, Trend, Seasonal, and Residual Plot of the Number of Hourly Trip\")"
   ]
  },
  {
   "cell_type": "markdown",
   "metadata": {},
   "source": [
    "Since we have observed that there's a seasonality, I think the model that we can use here is a Seasonal ARIMA. However, due to the time constraints, I cannot observe the seasonal order of the Seasonal ARIMA. However, since we only have February data, I think I can safely avoid using seasonality in this modelling."
   ]
  },
  {
   "cell_type": "markdown",
   "metadata": {},
   "source": [
    "Now, for the actual modelling."
   ]
  },
  {
   "cell_type": "code",
   "execution_count": 28,
   "metadata": {},
   "outputs": [],
   "source": [
    "model = sm.tsa.arima.ARIMA(hourly_count_trip_data, order=(2,1,2))\n",
    "fitted_model = model.fit()"
   ]
  },
  {
   "cell_type": "code",
   "execution_count": 29,
   "metadata": {},
   "outputs": [
    {
     "name": "stdout",
     "output_type": "stream",
     "text": [
      "Forecast from 2016-02-12 05:00:00-05:00 to 2016-02-24 05:00:00-05:00\n"
     ]
    }
   ],
   "source": [
    "num_days = 12\n",
    "\n",
    "start_index = pd.to_datetime('2016-02-12 10:00:00', utc=True).tz_convert('US/Eastern')\n",
    "end_index = start_index + pd.DateOffset(days=num_days)\n",
    "print(f\"Forecast from {str(start_index)} to {end_index}\")"
   ]
  },
  {
   "cell_type": "code",
   "execution_count": 30,
   "metadata": {},
   "outputs": [],
   "source": [
    "pred = fitted_model.get_prediction(start=start_index, end=end_index, dynamic=False)\n",
    "pred_ci = pred.conf_int()"
   ]
  },
  {
   "cell_type": "code",
   "execution_count": 31,
   "metadata": {},
   "outputs": [
    {
     "data": {
      "application/vnd.plotly.v1+json": {
       "config": {
        "plotlyServerURL": "https://plot.ly"
       },
       "data": [
        {
         "hovertemplate": "indicator=True Values<br>lpep_pickup_datetime=%{x}<br>Forecast=%{y}<extra></extra>",
         "legendgroup": "True Values",
         "line": {
          "color": "#636efa",
          "dash": "solid"
         },
         "marker": {
          "symbol": "circle"
         },
         "mode": "lines",
         "name": "True Values",
         "orientation": "v",
         "showlegend": true,
         "type": "scatter",
         "x": [
          "2016-02-12T05:00:00-05:00",
          "2016-02-12T06:00:00-05:00",
          "2016-02-12T07:00:00-05:00",
          "2016-02-12T08:00:00-05:00",
          "2016-02-12T09:00:00-05:00",
          "2016-02-12T10:00:00-05:00",
          "2016-02-12T11:00:00-05:00",
          "2016-02-12T12:00:00-05:00",
          "2016-02-12T13:00:00-05:00",
          "2016-02-12T14:00:00-05:00",
          "2016-02-12T15:00:00-05:00",
          "2016-02-12T16:00:00-05:00",
          "2016-02-12T17:00:00-05:00",
          "2016-02-12T18:00:00-05:00",
          "2016-02-12T19:00:00-05:00",
          "2016-02-12T20:00:00-05:00",
          "2016-02-12T21:00:00-05:00",
          "2016-02-12T22:00:00-05:00",
          "2016-02-12T23:00:00-05:00",
          "2016-02-13T00:00:00-05:00",
          "2016-02-13T01:00:00-05:00",
          "2016-02-13T02:00:00-05:00",
          "2016-02-13T03:00:00-05:00",
          "2016-02-13T04:00:00-05:00",
          "2016-02-13T05:00:00-05:00",
          "2016-02-13T06:00:00-05:00",
          "2016-02-13T07:00:00-05:00",
          "2016-02-13T08:00:00-05:00",
          "2016-02-13T09:00:00-05:00",
          "2016-02-13T10:00:00-05:00",
          "2016-02-13T11:00:00-05:00",
          "2016-02-13T12:00:00-05:00",
          "2016-02-13T13:00:00-05:00",
          "2016-02-13T14:00:00-05:00",
          "2016-02-13T15:00:00-05:00",
          "2016-02-13T16:00:00-05:00",
          "2016-02-13T17:00:00-05:00",
          "2016-02-13T18:00:00-05:00",
          "2016-02-13T19:00:00-05:00",
          "2016-02-13T20:00:00-05:00",
          "2016-02-13T21:00:00-05:00",
          "2016-02-13T22:00:00-05:00",
          "2016-02-13T23:00:00-05:00",
          "2016-02-14T00:00:00-05:00",
          "2016-02-14T01:00:00-05:00",
          "2016-02-14T02:00:00-05:00",
          "2016-02-14T03:00:00-05:00",
          "2016-02-14T04:00:00-05:00",
          "2016-02-14T05:00:00-05:00",
          "2016-02-14T06:00:00-05:00",
          "2016-02-14T07:00:00-05:00",
          "2016-02-14T08:00:00-05:00",
          "2016-02-14T09:00:00-05:00",
          "2016-02-14T10:00:00-05:00",
          "2016-02-14T11:00:00-05:00",
          "2016-02-14T12:00:00-05:00",
          "2016-02-14T13:00:00-05:00",
          "2016-02-14T14:00:00-05:00",
          "2016-02-14T15:00:00-05:00",
          "2016-02-14T16:00:00-05:00",
          "2016-02-14T17:00:00-05:00",
          "2016-02-14T18:00:00-05:00",
          "2016-02-14T19:00:00-05:00",
          "2016-02-14T20:00:00-05:00",
          "2016-02-14T21:00:00-05:00",
          "2016-02-14T22:00:00-05:00",
          "2016-02-14T23:00:00-05:00",
          "2016-02-15T00:00:00-05:00",
          "2016-02-15T01:00:00-05:00",
          "2016-02-15T02:00:00-05:00",
          "2016-02-15T03:00:00-05:00",
          "2016-02-15T04:00:00-05:00",
          "2016-02-15T05:00:00-05:00",
          "2016-02-15T06:00:00-05:00",
          "2016-02-15T07:00:00-05:00",
          "2016-02-15T08:00:00-05:00",
          "2016-02-15T09:00:00-05:00",
          "2016-02-15T10:00:00-05:00",
          "2016-02-15T11:00:00-05:00",
          "2016-02-15T12:00:00-05:00",
          "2016-02-15T13:00:00-05:00",
          "2016-02-15T14:00:00-05:00",
          "2016-02-15T15:00:00-05:00",
          "2016-02-15T16:00:00-05:00",
          "2016-02-15T17:00:00-05:00",
          "2016-02-15T18:00:00-05:00",
          "2016-02-15T19:00:00-05:00",
          "2016-02-15T20:00:00-05:00",
          "2016-02-15T21:00:00-05:00",
          "2016-02-15T22:00:00-05:00",
          "2016-02-15T23:00:00-05:00",
          "2016-02-16T00:00:00-05:00",
          "2016-02-16T01:00:00-05:00",
          "2016-02-16T02:00:00-05:00",
          "2016-02-16T03:00:00-05:00",
          "2016-02-16T04:00:00-05:00",
          "2016-02-16T05:00:00-05:00",
          "2016-02-16T06:00:00-05:00",
          "2016-02-16T07:00:00-05:00",
          "2016-02-16T08:00:00-05:00",
          "2016-02-16T09:00:00-05:00",
          "2016-02-16T10:00:00-05:00",
          "2016-02-16T11:00:00-05:00",
          "2016-02-16T12:00:00-05:00",
          "2016-02-16T13:00:00-05:00",
          "2016-02-16T14:00:00-05:00",
          "2016-02-16T15:00:00-05:00",
          "2016-02-16T16:00:00-05:00",
          "2016-02-16T17:00:00-05:00",
          "2016-02-16T18:00:00-05:00",
          "2016-02-16T19:00:00-05:00",
          "2016-02-16T20:00:00-05:00",
          "2016-02-16T21:00:00-05:00",
          "2016-02-16T22:00:00-05:00",
          "2016-02-16T23:00:00-05:00",
          "2016-02-17T00:00:00-05:00",
          "2016-02-17T01:00:00-05:00",
          "2016-02-17T02:00:00-05:00",
          "2016-02-17T03:00:00-05:00",
          "2016-02-17T04:00:00-05:00",
          "2016-02-17T05:00:00-05:00",
          "2016-02-17T06:00:00-05:00",
          "2016-02-17T07:00:00-05:00",
          "2016-02-17T08:00:00-05:00",
          "2016-02-17T09:00:00-05:00",
          "2016-02-17T10:00:00-05:00",
          "2016-02-17T11:00:00-05:00",
          "2016-02-17T12:00:00-05:00",
          "2016-02-17T13:00:00-05:00",
          "2016-02-17T14:00:00-05:00",
          "2016-02-17T15:00:00-05:00",
          "2016-02-17T16:00:00-05:00",
          "2016-02-17T17:00:00-05:00",
          "2016-02-17T18:00:00-05:00",
          "2016-02-17T19:00:00-05:00",
          "2016-02-17T20:00:00-05:00",
          "2016-02-17T21:00:00-05:00",
          "2016-02-17T22:00:00-05:00",
          "2016-02-17T23:00:00-05:00",
          "2016-02-18T00:00:00-05:00",
          "2016-02-18T01:00:00-05:00",
          "2016-02-18T02:00:00-05:00",
          "2016-02-18T03:00:00-05:00",
          "2016-02-18T04:00:00-05:00",
          "2016-02-18T05:00:00-05:00",
          "2016-02-18T06:00:00-05:00",
          "2016-02-18T07:00:00-05:00",
          "2016-02-18T08:00:00-05:00",
          "2016-02-18T09:00:00-05:00",
          "2016-02-18T10:00:00-05:00",
          "2016-02-18T11:00:00-05:00",
          "2016-02-18T12:00:00-05:00",
          "2016-02-18T13:00:00-05:00",
          "2016-02-18T14:00:00-05:00",
          "2016-02-18T15:00:00-05:00",
          "2016-02-18T16:00:00-05:00",
          "2016-02-18T17:00:00-05:00",
          "2016-02-18T18:00:00-05:00",
          "2016-02-18T19:00:00-05:00",
          "2016-02-18T20:00:00-05:00",
          "2016-02-18T21:00:00-05:00",
          "2016-02-18T22:00:00-05:00",
          "2016-02-18T23:00:00-05:00",
          "2016-02-19T00:00:00-05:00",
          "2016-02-19T01:00:00-05:00",
          "2016-02-19T02:00:00-05:00",
          "2016-02-19T03:00:00-05:00",
          "2016-02-19T04:00:00-05:00",
          "2016-02-19T05:00:00-05:00",
          "2016-02-19T06:00:00-05:00",
          "2016-02-19T07:00:00-05:00",
          "2016-02-19T08:00:00-05:00",
          "2016-02-19T09:00:00-05:00",
          "2016-02-19T10:00:00-05:00",
          "2016-02-19T11:00:00-05:00",
          "2016-02-19T12:00:00-05:00",
          "2016-02-19T13:00:00-05:00",
          "2016-02-19T14:00:00-05:00",
          "2016-02-19T15:00:00-05:00",
          "2016-02-19T16:00:00-05:00",
          "2016-02-19T17:00:00-05:00",
          "2016-02-19T18:00:00-05:00",
          "2016-02-19T19:00:00-05:00",
          "2016-02-19T20:00:00-05:00",
          "2016-02-19T21:00:00-05:00",
          "2016-02-19T22:00:00-05:00",
          "2016-02-19T23:00:00-05:00",
          "2016-02-20T00:00:00-05:00",
          "2016-02-20T01:00:00-05:00",
          "2016-02-20T02:00:00-05:00",
          "2016-02-20T03:00:00-05:00",
          "2016-02-20T04:00:00-05:00",
          "2016-02-20T05:00:00-05:00",
          "2016-02-20T06:00:00-05:00",
          "2016-02-20T07:00:00-05:00",
          "2016-02-20T08:00:00-05:00",
          "2016-02-20T09:00:00-05:00",
          "2016-02-20T10:00:00-05:00",
          "2016-02-20T11:00:00-05:00",
          "2016-02-20T12:00:00-05:00",
          "2016-02-20T13:00:00-05:00",
          "2016-02-20T14:00:00-05:00",
          "2016-02-20T15:00:00-05:00",
          "2016-02-20T16:00:00-05:00",
          "2016-02-20T17:00:00-05:00",
          "2016-02-20T18:00:00-05:00",
          "2016-02-20T19:00:00-05:00",
          "2016-02-20T20:00:00-05:00",
          "2016-02-20T21:00:00-05:00",
          "2016-02-20T22:00:00-05:00",
          "2016-02-20T23:00:00-05:00",
          "2016-02-21T00:00:00-05:00",
          "2016-02-21T01:00:00-05:00",
          "2016-02-21T02:00:00-05:00",
          "2016-02-21T03:00:00-05:00",
          "2016-02-21T04:00:00-05:00",
          "2016-02-21T05:00:00-05:00",
          "2016-02-21T06:00:00-05:00",
          "2016-02-21T07:00:00-05:00",
          "2016-02-21T08:00:00-05:00",
          "2016-02-21T09:00:00-05:00",
          "2016-02-21T10:00:00-05:00",
          "2016-02-21T11:00:00-05:00",
          "2016-02-21T12:00:00-05:00",
          "2016-02-21T13:00:00-05:00",
          "2016-02-21T14:00:00-05:00",
          "2016-02-21T15:00:00-05:00",
          "2016-02-21T16:00:00-05:00",
          "2016-02-21T17:00:00-05:00",
          "2016-02-21T18:00:00-05:00",
          "2016-02-21T19:00:00-05:00",
          "2016-02-21T20:00:00-05:00",
          "2016-02-21T21:00:00-05:00",
          "2016-02-21T22:00:00-05:00",
          "2016-02-21T23:00:00-05:00",
          "2016-02-22T00:00:00-05:00",
          "2016-02-22T01:00:00-05:00",
          "2016-02-22T02:00:00-05:00",
          "2016-02-22T03:00:00-05:00",
          "2016-02-22T04:00:00-05:00",
          "2016-02-22T05:00:00-05:00",
          "2016-02-22T06:00:00-05:00",
          "2016-02-22T07:00:00-05:00",
          "2016-02-22T08:00:00-05:00",
          "2016-02-22T09:00:00-05:00",
          "2016-02-22T10:00:00-05:00",
          "2016-02-22T11:00:00-05:00",
          "2016-02-22T12:00:00-05:00",
          "2016-02-22T13:00:00-05:00",
          "2016-02-22T14:00:00-05:00",
          "2016-02-22T15:00:00-05:00",
          "2016-02-22T16:00:00-05:00",
          "2016-02-22T17:00:00-05:00",
          "2016-02-22T18:00:00-05:00",
          "2016-02-22T19:00:00-05:00",
          "2016-02-22T20:00:00-05:00",
          "2016-02-22T21:00:00-05:00",
          "2016-02-22T22:00:00-05:00",
          "2016-02-22T23:00:00-05:00",
          "2016-02-23T00:00:00-05:00",
          "2016-02-23T01:00:00-05:00",
          "2016-02-23T02:00:00-05:00",
          "2016-02-23T03:00:00-05:00",
          "2016-02-23T04:00:00-05:00",
          "2016-02-23T05:00:00-05:00",
          "2016-02-23T06:00:00-05:00",
          "2016-02-23T07:00:00-05:00",
          "2016-02-23T08:00:00-05:00",
          "2016-02-23T09:00:00-05:00",
          "2016-02-23T10:00:00-05:00",
          "2016-02-23T11:00:00-05:00",
          "2016-02-23T12:00:00-05:00",
          "2016-02-23T13:00:00-05:00",
          "2016-02-23T14:00:00-05:00",
          "2016-02-23T15:00:00-05:00",
          "2016-02-23T16:00:00-05:00",
          "2016-02-23T17:00:00-05:00",
          "2016-02-23T18:00:00-05:00",
          "2016-02-23T19:00:00-05:00",
          "2016-02-23T20:00:00-05:00",
          "2016-02-23T21:00:00-05:00",
          "2016-02-23T22:00:00-05:00",
          "2016-02-23T23:00:00-05:00",
          "2016-02-24T00:00:00-05:00",
          "2016-02-24T01:00:00-05:00",
          "2016-02-24T02:00:00-05:00",
          "2016-02-24T03:00:00-05:00",
          "2016-02-24T04:00:00-05:00",
          "2016-02-24T05:00:00-05:00"
         ],
         "xaxis": "x",
         "y": [
          2311,
          2175,
          2024,
          2106,
          2716,
          3009,
          3517,
          4040,
          4564,
          4725,
          4432,
          4048,
          3870,
          3828,
          3736,
          3164,
          2686,
          2076,
          1517,
          774,
          619,
          813,
          1269,
          1958,
          2139,
          2502,
          2714,
          2926,
          3155,
          3384,
          3957,
          4199,
          4824,
          5124,
          4721,
          4295,
          3947,
          4153,
          3511,
          2738,
          2216,
          1752,
          1348,
          646,
          601,
          675,
          954,
          1365,
          1837,
          2267,
          2447,
          2694,
          2793,
          2946,
          3273,
          3480,
          3861,
          3934,
          3562,
          3140,
          3015,
          2847,
          2294,
          1667,
          1181,
          927,
          791,
          601,
          713,
          1038,
          1598,
          1949,
          1864,
          1876,
          1961,
          2169,
          2368,
          2646,
          2706,
          2522,
          2695,
          2554,
          2437,
          2115,
          1989,
          1608,
          1047,
          633,
          444,
          264,
          303,
          391,
          700,
          1426,
          2338,
          2648,
          2037,
          1941,
          2094,
          2515,
          2855,
          2340,
          2246,
          2540,
          2923,
          2810,
          2473,
          2200,
          1911,
          1600,
          1242,
          854,
          534,
          329,
          344,
          352,
          708,
          1446,
          2313,
          2336,
          2111,
          2016,
          1987,
          2046,
          2214,
          2460,
          2689,
          2912,
          3323,
          3360,
          2858,
          2663,
          2313,
          2056,
          1514,
          973,
          645,
          446,
          401,
          358,
          703,
          1543,
          2436,
          2537,
          2200,
          2064,
          1975,
          2145,
          2169,
          2421,
          2926,
          3291,
          3858,
          3762,
          3416,
          3264,
          2936,
          2629,
          1871,
          1329,
          953,
          685,
          536,
          422,
          762,
          1597,
          2514,
          2541,
          2163,
          1974,
          1892,
          1895,
          2298,
          2618,
          3269,
          3639,
          4294,
          4314,
          3938,
          3854,
          3776,
          3870,
          3781,
          3298,
          2694,
          2277,
          1646,
          824,
          687,
          964,
          1350,
          1788,
          2079,
          2301,
          2465,
          2663,
          2752,
          2885,
          3297,
          3502,
          4045,
          4264,
          4131,
          4108,
          4242,
          4470,
          4212,
          3872,
          3265,
          2762,
          2018,
          951,
          684,
          702,
          954,
          1390,
          1741,
          1990,
          2113,
          2359,
          2424,
          2592,
          2781,
          2972,
          3292,
          2873,
          2812,
          2510,
          2186,
          1687,
          1216,
          822,
          494,
          301,
          448,
          428,
          870,
          1957,
          2582,
          2368,
          1971,
          1740,
          1612,
          1711,
          1985,
          2100,
          2373,
          2699,
          2961,
          2807,
          2398,
          2073,
          1812,
          1451,
          1067,
          672,
          422,
          303,
          297,
          345,
          780,
          1895,
          2643,
          2544,
          2007,
          2081,
          2207,
          2148,
          2579,
          2792,
          2955,
          3400,
          3845,
          3725,
          3561,
          2888,
          2473,
          1894,
          1296,
          746,
          448,
          291,
          331,
          374,
          819,
          1933,
          2869,
          2779,
          2262
         ],
         "yaxis": "y"
        },
        {
         "hovertemplate": "indicator=Predicted Values<br>lpep_pickup_datetime=%{x}<br>Forecast=%{y}<extra></extra>",
         "legendgroup": "Predicted Values",
         "line": {
          "color": "#EF553B",
          "dash": "solid"
         },
         "marker": {
          "symbol": "circle"
         },
         "mode": "lines",
         "name": "Predicted Values",
         "orientation": "v",
         "showlegend": true,
         "type": "scatter",
         "x": [
          "2016-02-12T05:00:00-05:00",
          "2016-02-12T06:00:00-05:00",
          "2016-02-12T07:00:00-05:00",
          "2016-02-12T08:00:00-05:00",
          "2016-02-12T09:00:00-05:00",
          "2016-02-12T10:00:00-05:00",
          "2016-02-12T11:00:00-05:00",
          "2016-02-12T12:00:00-05:00",
          "2016-02-12T13:00:00-05:00",
          "2016-02-12T14:00:00-05:00",
          "2016-02-12T15:00:00-05:00",
          "2016-02-12T16:00:00-05:00",
          "2016-02-12T17:00:00-05:00",
          "2016-02-12T18:00:00-05:00",
          "2016-02-12T19:00:00-05:00",
          "2016-02-12T20:00:00-05:00",
          "2016-02-12T21:00:00-05:00",
          "2016-02-12T22:00:00-05:00",
          "2016-02-12T23:00:00-05:00",
          "2016-02-13T00:00:00-05:00",
          "2016-02-13T01:00:00-05:00",
          "2016-02-13T02:00:00-05:00",
          "2016-02-13T03:00:00-05:00",
          "2016-02-13T04:00:00-05:00",
          "2016-02-13T05:00:00-05:00",
          "2016-02-13T06:00:00-05:00",
          "2016-02-13T07:00:00-05:00",
          "2016-02-13T08:00:00-05:00",
          "2016-02-13T09:00:00-05:00",
          "2016-02-13T10:00:00-05:00",
          "2016-02-13T11:00:00-05:00",
          "2016-02-13T12:00:00-05:00",
          "2016-02-13T13:00:00-05:00",
          "2016-02-13T14:00:00-05:00",
          "2016-02-13T15:00:00-05:00",
          "2016-02-13T16:00:00-05:00",
          "2016-02-13T17:00:00-05:00",
          "2016-02-13T18:00:00-05:00",
          "2016-02-13T19:00:00-05:00",
          "2016-02-13T20:00:00-05:00",
          "2016-02-13T21:00:00-05:00",
          "2016-02-13T22:00:00-05:00",
          "2016-02-13T23:00:00-05:00",
          "2016-02-14T00:00:00-05:00",
          "2016-02-14T01:00:00-05:00",
          "2016-02-14T02:00:00-05:00",
          "2016-02-14T03:00:00-05:00",
          "2016-02-14T04:00:00-05:00",
          "2016-02-14T05:00:00-05:00",
          "2016-02-14T06:00:00-05:00",
          "2016-02-14T07:00:00-05:00",
          "2016-02-14T08:00:00-05:00",
          "2016-02-14T09:00:00-05:00",
          "2016-02-14T10:00:00-05:00",
          "2016-02-14T11:00:00-05:00",
          "2016-02-14T12:00:00-05:00",
          "2016-02-14T13:00:00-05:00",
          "2016-02-14T14:00:00-05:00",
          "2016-02-14T15:00:00-05:00",
          "2016-02-14T16:00:00-05:00",
          "2016-02-14T17:00:00-05:00",
          "2016-02-14T18:00:00-05:00",
          "2016-02-14T19:00:00-05:00",
          "2016-02-14T20:00:00-05:00",
          "2016-02-14T21:00:00-05:00",
          "2016-02-14T22:00:00-05:00",
          "2016-02-14T23:00:00-05:00",
          "2016-02-15T00:00:00-05:00",
          "2016-02-15T01:00:00-05:00",
          "2016-02-15T02:00:00-05:00",
          "2016-02-15T03:00:00-05:00",
          "2016-02-15T04:00:00-05:00",
          "2016-02-15T05:00:00-05:00",
          "2016-02-15T06:00:00-05:00",
          "2016-02-15T07:00:00-05:00",
          "2016-02-15T08:00:00-05:00",
          "2016-02-15T09:00:00-05:00",
          "2016-02-15T10:00:00-05:00",
          "2016-02-15T11:00:00-05:00",
          "2016-02-15T12:00:00-05:00",
          "2016-02-15T13:00:00-05:00",
          "2016-02-15T14:00:00-05:00",
          "2016-02-15T15:00:00-05:00",
          "2016-02-15T16:00:00-05:00",
          "2016-02-15T17:00:00-05:00",
          "2016-02-15T18:00:00-05:00",
          "2016-02-15T19:00:00-05:00",
          "2016-02-15T20:00:00-05:00",
          "2016-02-15T21:00:00-05:00",
          "2016-02-15T22:00:00-05:00",
          "2016-02-15T23:00:00-05:00",
          "2016-02-16T00:00:00-05:00",
          "2016-02-16T01:00:00-05:00",
          "2016-02-16T02:00:00-05:00",
          "2016-02-16T03:00:00-05:00",
          "2016-02-16T04:00:00-05:00",
          "2016-02-16T05:00:00-05:00",
          "2016-02-16T06:00:00-05:00",
          "2016-02-16T07:00:00-05:00",
          "2016-02-16T08:00:00-05:00",
          "2016-02-16T09:00:00-05:00",
          "2016-02-16T10:00:00-05:00",
          "2016-02-16T11:00:00-05:00",
          "2016-02-16T12:00:00-05:00",
          "2016-02-16T13:00:00-05:00",
          "2016-02-16T14:00:00-05:00",
          "2016-02-16T15:00:00-05:00",
          "2016-02-16T16:00:00-05:00",
          "2016-02-16T17:00:00-05:00",
          "2016-02-16T18:00:00-05:00",
          "2016-02-16T19:00:00-05:00",
          "2016-02-16T20:00:00-05:00",
          "2016-02-16T21:00:00-05:00",
          "2016-02-16T22:00:00-05:00",
          "2016-02-16T23:00:00-05:00",
          "2016-02-17T00:00:00-05:00",
          "2016-02-17T01:00:00-05:00",
          "2016-02-17T02:00:00-05:00",
          "2016-02-17T03:00:00-05:00",
          "2016-02-17T04:00:00-05:00",
          "2016-02-17T05:00:00-05:00",
          "2016-02-17T06:00:00-05:00",
          "2016-02-17T07:00:00-05:00",
          "2016-02-17T08:00:00-05:00",
          "2016-02-17T09:00:00-05:00",
          "2016-02-17T10:00:00-05:00",
          "2016-02-17T11:00:00-05:00",
          "2016-02-17T12:00:00-05:00",
          "2016-02-17T13:00:00-05:00",
          "2016-02-17T14:00:00-05:00",
          "2016-02-17T15:00:00-05:00",
          "2016-02-17T16:00:00-05:00",
          "2016-02-17T17:00:00-05:00",
          "2016-02-17T18:00:00-05:00",
          "2016-02-17T19:00:00-05:00",
          "2016-02-17T20:00:00-05:00",
          "2016-02-17T21:00:00-05:00",
          "2016-02-17T22:00:00-05:00",
          "2016-02-17T23:00:00-05:00",
          "2016-02-18T00:00:00-05:00",
          "2016-02-18T01:00:00-05:00",
          "2016-02-18T02:00:00-05:00",
          "2016-02-18T03:00:00-05:00",
          "2016-02-18T04:00:00-05:00",
          "2016-02-18T05:00:00-05:00",
          "2016-02-18T06:00:00-05:00",
          "2016-02-18T07:00:00-05:00",
          "2016-02-18T08:00:00-05:00",
          "2016-02-18T09:00:00-05:00",
          "2016-02-18T10:00:00-05:00",
          "2016-02-18T11:00:00-05:00",
          "2016-02-18T12:00:00-05:00",
          "2016-02-18T13:00:00-05:00",
          "2016-02-18T14:00:00-05:00",
          "2016-02-18T15:00:00-05:00",
          "2016-02-18T16:00:00-05:00",
          "2016-02-18T17:00:00-05:00",
          "2016-02-18T18:00:00-05:00",
          "2016-02-18T19:00:00-05:00",
          "2016-02-18T20:00:00-05:00",
          "2016-02-18T21:00:00-05:00",
          "2016-02-18T22:00:00-05:00",
          "2016-02-18T23:00:00-05:00",
          "2016-02-19T00:00:00-05:00",
          "2016-02-19T01:00:00-05:00",
          "2016-02-19T02:00:00-05:00",
          "2016-02-19T03:00:00-05:00",
          "2016-02-19T04:00:00-05:00",
          "2016-02-19T05:00:00-05:00",
          "2016-02-19T06:00:00-05:00",
          "2016-02-19T07:00:00-05:00",
          "2016-02-19T08:00:00-05:00",
          "2016-02-19T09:00:00-05:00",
          "2016-02-19T10:00:00-05:00",
          "2016-02-19T11:00:00-05:00",
          "2016-02-19T12:00:00-05:00",
          "2016-02-19T13:00:00-05:00",
          "2016-02-19T14:00:00-05:00",
          "2016-02-19T15:00:00-05:00",
          "2016-02-19T16:00:00-05:00",
          "2016-02-19T17:00:00-05:00",
          "2016-02-19T18:00:00-05:00",
          "2016-02-19T19:00:00-05:00",
          "2016-02-19T20:00:00-05:00",
          "2016-02-19T21:00:00-05:00",
          "2016-02-19T22:00:00-05:00",
          "2016-02-19T23:00:00-05:00",
          "2016-02-20T00:00:00-05:00",
          "2016-02-20T01:00:00-05:00",
          "2016-02-20T02:00:00-05:00",
          "2016-02-20T03:00:00-05:00",
          "2016-02-20T04:00:00-05:00",
          "2016-02-20T05:00:00-05:00",
          "2016-02-20T06:00:00-05:00",
          "2016-02-20T07:00:00-05:00",
          "2016-02-20T08:00:00-05:00",
          "2016-02-20T09:00:00-05:00",
          "2016-02-20T10:00:00-05:00",
          "2016-02-20T11:00:00-05:00",
          "2016-02-20T12:00:00-05:00",
          "2016-02-20T13:00:00-05:00",
          "2016-02-20T14:00:00-05:00",
          "2016-02-20T15:00:00-05:00",
          "2016-02-20T16:00:00-05:00",
          "2016-02-20T17:00:00-05:00",
          "2016-02-20T18:00:00-05:00",
          "2016-02-20T19:00:00-05:00",
          "2016-02-20T20:00:00-05:00",
          "2016-02-20T21:00:00-05:00",
          "2016-02-20T22:00:00-05:00",
          "2016-02-20T23:00:00-05:00",
          "2016-02-21T00:00:00-05:00",
          "2016-02-21T01:00:00-05:00",
          "2016-02-21T02:00:00-05:00",
          "2016-02-21T03:00:00-05:00",
          "2016-02-21T04:00:00-05:00",
          "2016-02-21T05:00:00-05:00",
          "2016-02-21T06:00:00-05:00",
          "2016-02-21T07:00:00-05:00",
          "2016-02-21T08:00:00-05:00",
          "2016-02-21T09:00:00-05:00",
          "2016-02-21T10:00:00-05:00",
          "2016-02-21T11:00:00-05:00",
          "2016-02-21T12:00:00-05:00",
          "2016-02-21T13:00:00-05:00",
          "2016-02-21T14:00:00-05:00",
          "2016-02-21T15:00:00-05:00",
          "2016-02-21T16:00:00-05:00",
          "2016-02-21T17:00:00-05:00",
          "2016-02-21T18:00:00-05:00",
          "2016-02-21T19:00:00-05:00",
          "2016-02-21T20:00:00-05:00",
          "2016-02-21T21:00:00-05:00",
          "2016-02-21T22:00:00-05:00",
          "2016-02-21T23:00:00-05:00",
          "2016-02-22T00:00:00-05:00",
          "2016-02-22T01:00:00-05:00",
          "2016-02-22T02:00:00-05:00",
          "2016-02-22T03:00:00-05:00",
          "2016-02-22T04:00:00-05:00",
          "2016-02-22T05:00:00-05:00",
          "2016-02-22T06:00:00-05:00",
          "2016-02-22T07:00:00-05:00",
          "2016-02-22T08:00:00-05:00",
          "2016-02-22T09:00:00-05:00",
          "2016-02-22T10:00:00-05:00",
          "2016-02-22T11:00:00-05:00",
          "2016-02-22T12:00:00-05:00",
          "2016-02-22T13:00:00-05:00",
          "2016-02-22T14:00:00-05:00",
          "2016-02-22T15:00:00-05:00",
          "2016-02-22T16:00:00-05:00",
          "2016-02-22T17:00:00-05:00",
          "2016-02-22T18:00:00-05:00",
          "2016-02-22T19:00:00-05:00",
          "2016-02-22T20:00:00-05:00",
          "2016-02-22T21:00:00-05:00",
          "2016-02-22T22:00:00-05:00",
          "2016-02-22T23:00:00-05:00",
          "2016-02-23T00:00:00-05:00",
          "2016-02-23T01:00:00-05:00",
          "2016-02-23T02:00:00-05:00",
          "2016-02-23T03:00:00-05:00",
          "2016-02-23T04:00:00-05:00",
          "2016-02-23T05:00:00-05:00",
          "2016-02-23T06:00:00-05:00",
          "2016-02-23T07:00:00-05:00",
          "2016-02-23T08:00:00-05:00",
          "2016-02-23T09:00:00-05:00",
          "2016-02-23T10:00:00-05:00",
          "2016-02-23T11:00:00-05:00",
          "2016-02-23T12:00:00-05:00",
          "2016-02-23T13:00:00-05:00",
          "2016-02-23T14:00:00-05:00",
          "2016-02-23T15:00:00-05:00",
          "2016-02-23T16:00:00-05:00",
          "2016-02-23T17:00:00-05:00",
          "2016-02-23T18:00:00-05:00",
          "2016-02-23T19:00:00-05:00",
          "2016-02-23T20:00:00-05:00",
          "2016-02-23T21:00:00-05:00",
          "2016-02-23T22:00:00-05:00",
          "2016-02-23T23:00:00-05:00",
          "2016-02-24T00:00:00-05:00",
          "2016-02-24T01:00:00-05:00",
          "2016-02-24T02:00:00-05:00",
          "2016-02-24T03:00:00-05:00",
          "2016-02-24T04:00:00-05:00",
          "2016-02-24T05:00:00-05:00"
         ],
         "xaxis": "x",
         "y": [
          2067.889982872023,
          2175.645673782305,
          2247.413363803481,
          1851.2459507574242,
          2228.49349718001,
          3237.599751536145,
          3036.0416438498337,
          3846.9133041108353,
          4398.441372714822,
          4808.968922628311,
          4725.271040085854,
          4143.861237389688,
          3831.62642068243,
          3851.4730337892356,
          3825.834122221223,
          3652.616458358067,
          2703.022034679622,
          2456.0984971200105,
          1724.933519166087,
          1180.0054906504242,
          322.696805451062,
          696.3798012218823,
          1032.2408435531406,
          1541.3707345536668,
          2421.266446482412,
          2082.0589864206668,
          2752.083424304229,
          2846.000654588284,
          2995.9139733490274,
          3320.3994313836233,
          3509.5303267589024,
          4374.779778103297,
          4241.407964818171,
          5264.1037126299,
          5242.8304380199515,
          4232.2034187084655,
          4109.517892453251,
          3815.011087474056,
          4384.372244347018,
          2900.909786264322,
          2232.8628448968975,
          2094.7977469262287,
          1455.0932846820265,
          1112.6716781265363,
          186.19201134618112,
          757.0432542119122,
          770.6740544342207,
          1098.8274914715312,
          1666.765890581697,
          2105.1843323630046,
          2487.3881231303753,
          2483.8099000814673,
          2859.6112922642583,
          2822.201260713914,
          3031.2480771931337,
          3529.6881703247864,
          3546.691636772154,
          4117.368405863729,
          3906.502478137633,
          3196.529127369354,
          2930.620867334611,
          3052.1488947490543,
          2710.840416439064,
          1851.3194524127698,
          1318.8206112000482,
          969.8504835620446,
          830.7943434630445,
          737.8501163132157,
          467.17648130567557,
          865.1503548479086,
          1289.464643349761,
          1949.9456470433756,
          2085.256954750147,
          1680.3447382329994,
          1943.0055262238352,
          2052.1178740910163,
          2287.9352578899584,
          2486.4999540300996,
          2821.264757168077,
          2676.9050867904602,
          2342.5309900253014,
          2924.5264646770547,
          2383.216261194303,
          2338.0567942196767,
          1928.2415868970065,
          1950.4369678596092,
          1332.0976444816533,
          658.1025108806207,
          475.296025215711,
          400.767206011826,
          137.47485446670544,
          386.8205507604973,
          462.0688277151478,
          914.9153247506529,
          1967.9089812747616,
          2886.5098421340635,
          2617.9243295580604,
          1437.4984562071572,
          2106.1271799960996,
          2283.131581227347,
          2737.594637528163,
          3051.5394835622756,
          1784.1520358026742,
          2335.6549005093984,
          2888.187239335193,
          3068.550023993617,
          2606.008751856227,
          2242.317037763473,
          2094.8474283415553,
          1733.2258695953983,
          1407.1167581915827,
          1036.5511733836845,
          623.1510423325943,
          374.79555484063764,
          247.3577979183227,
          407.6490865714314,
          346.5066860270683,
          999.8603993767413,
          1984.0385262791501,
          2803.518641600509,
          2086.8417122790956,
          1932.360030150546,
          2074.686492918921,
          1954.2287092734878,
          2091.862602692507,
          2354.6670564304363,
          2607.9385675861163,
          2807.9619416887995,
          3038.392648577085,
          3614.1430191714962,
          3266.6344568823747,
          2403.924761594878,
          2694.925713789456,
          2084.22944714994,
          1882.531829487491,
          1168.4826872756526,
          648.1379874729001,
          546.1973435784672,
          357.0168764702231,
          399.8415174975905,
          338.37313137729694,
          1002.0493286751017,
          2165.6106604327942,
          2917.3773277240894,
          2340.79906692593,
          1913.4907337848344,
          2112.283835751442,
          1921.5268605277436,
          2287.3343963126545,
          2157.5858837580367,
          2605.9675798041794,
          3309.027024986931,
          3424.6976517039284,
          4231.569679676532,
          3538.894587183385,
          3120.6577067129087,
          3310.808954259097,
          2676.0558945936896,
          2434.871391789554,
          1349.748672347198,
          1069.5692529946677,
          825.5927624702308,
          521.283793297594,
          486.250129616407,
          369.8329855668347,
          1075.0650914826429,
          2215.0370898588562,
          3013.19164303335,
          2277.084838311291,
          1860.8345912643913,
          1998.0446262289313,
          1851.455649999971,
          1894.5303080625279,
          2659.6487133380842,
          2759.8420568111032,
          3703.9234222033783,
          3796.339555119018,
          4711.728187151124,
          4177.500313001497,
          3575.6698953735186,
          3968.269583817587,
          3726.387963769936,
          3925.6868176095068,
          3708.7732129822657,
          2888.0244036711874,
          2341.904569210251,
          2123.641434364962,
          1206.105798396173,
          289.9050462279979,
          847.9196102612175,
          1230.057424500232,
          1525.9231320318963,
          2065.8204124479676,
          2204.8214700352482,
          2396.5661010573945,
          2561.7547138123305,
          2782.0544220580214,
          2771.023231612171,
          2972.3941259539247,
          3623.2498115355015,
          3542.5623959204404,
          4435.393196292654,
          4324.686936140223,
          3908.1578999962976,
          4182.897822078645,
          4373.087381874141,
          4590.009379339903,
          3928.480800390545,
          3660.925177777501,
          2883.931556751276,
          2488.319519433429,
          1548.151267214482,
          234.19787028891983,
          798.9396827259284,
          799.8780841425461,
          1071.982997836504,
          1723.341945768739,
          1899.1853372701166,
          2085.3069674882263,
          2171.5036107894175,
          2534.1233552699086,
          2410.0652585955254,
          2706.948215287624,
          2916.8739279226024,
          3059.0264043156462,
          3517.08314148727,
          2419.2790369368618,
          2877.961275770625,
          2336.504825708782,
          1919.4104502340324,
          1405.1547515583966,
          950.5716216129383,
          624.5158272918927,
          323.18712944747557,
          224.45081797184395,
          629.0474123361895,
          353.5335486500779,
          1236.6583902248335,
          2791.325574095702,
          2734.9521425809835,
          1980.0053694232329,
          1783.2484189200886,
          1685.4221590831644,
          1536.1724768432753,
          1830.1943711173656,
          2192.3390231386848,
          2095.1567579266984,
          2575.5652781146,
          2919.5117705922057,
          3061.0035814143425,
          2606.855773805859,
          2106.197474688348,
          1943.3562843686527,
          1680.5735252253014,
          1199.3143880482978,
          850.0822469609512,
          454.94451996288615,
          315.5445725155058,
          274.5061832201733,
          313.024295964536,
          383.12542978938114,
          1136.9592053173621,
          2721.2597339329914,
          2918.3529826712315,
          2208.652432436169,
          1654.6847334835795,
          2345.00769184137,
          2271.9295442628386,
          2001.5938697438555,
          3012.255291738904,
          2848.498378323698,
          2974.353296166282,
          3796.9880465254764,
          4075.687266093043,
          3458.339276732041,
          3492.172041602277,
          2396.6822148360843,
          2285.224770980855,
          1568.4127872574,
          902.8986445883602,
          479.96884229497095,
          348.1332250840706,
          227.99858757251243,
          397.4169897900057,
          397.61651873816925,
          1176.560714904988,
          2765.5105093013294,
          3301.613735967527,
          2394.61886736194
         ],
         "yaxis": "y"
        }
       ],
       "layout": {
        "legend": {
         "title": {
          "text": "indicator"
         },
         "tracegroupgap": 0
        },
        "template": {
         "data": {
          "bar": [
           {
            "error_x": {
             "color": "#2a3f5f"
            },
            "error_y": {
             "color": "#2a3f5f"
            },
            "marker": {
             "line": {
              "color": "#E5ECF6",
              "width": 0.5
             },
             "pattern": {
              "fillmode": "overlay",
              "size": 10,
              "solidity": 0.2
             }
            },
            "type": "bar"
           }
          ],
          "barpolar": [
           {
            "marker": {
             "line": {
              "color": "#E5ECF6",
              "width": 0.5
             },
             "pattern": {
              "fillmode": "overlay",
              "size": 10,
              "solidity": 0.2
             }
            },
            "type": "barpolar"
           }
          ],
          "carpet": [
           {
            "aaxis": {
             "endlinecolor": "#2a3f5f",
             "gridcolor": "white",
             "linecolor": "white",
             "minorgridcolor": "white",
             "startlinecolor": "#2a3f5f"
            },
            "baxis": {
             "endlinecolor": "#2a3f5f",
             "gridcolor": "white",
             "linecolor": "white",
             "minorgridcolor": "white",
             "startlinecolor": "#2a3f5f"
            },
            "type": "carpet"
           }
          ],
          "choropleth": [
           {
            "colorbar": {
             "outlinewidth": 0,
             "ticks": ""
            },
            "type": "choropleth"
           }
          ],
          "contour": [
           {
            "colorbar": {
             "outlinewidth": 0,
             "ticks": ""
            },
            "colorscale": [
             [
              0,
              "#0d0887"
             ],
             [
              0.1111111111111111,
              "#46039f"
             ],
             [
              0.2222222222222222,
              "#7201a8"
             ],
             [
              0.3333333333333333,
              "#9c179e"
             ],
             [
              0.4444444444444444,
              "#bd3786"
             ],
             [
              0.5555555555555556,
              "#d8576b"
             ],
             [
              0.6666666666666666,
              "#ed7953"
             ],
             [
              0.7777777777777778,
              "#fb9f3a"
             ],
             [
              0.8888888888888888,
              "#fdca26"
             ],
             [
              1,
              "#f0f921"
             ]
            ],
            "type": "contour"
           }
          ],
          "contourcarpet": [
           {
            "colorbar": {
             "outlinewidth": 0,
             "ticks": ""
            },
            "type": "contourcarpet"
           }
          ],
          "heatmap": [
           {
            "colorbar": {
             "outlinewidth": 0,
             "ticks": ""
            },
            "colorscale": [
             [
              0,
              "#0d0887"
             ],
             [
              0.1111111111111111,
              "#46039f"
             ],
             [
              0.2222222222222222,
              "#7201a8"
             ],
             [
              0.3333333333333333,
              "#9c179e"
             ],
             [
              0.4444444444444444,
              "#bd3786"
             ],
             [
              0.5555555555555556,
              "#d8576b"
             ],
             [
              0.6666666666666666,
              "#ed7953"
             ],
             [
              0.7777777777777778,
              "#fb9f3a"
             ],
             [
              0.8888888888888888,
              "#fdca26"
             ],
             [
              1,
              "#f0f921"
             ]
            ],
            "type": "heatmap"
           }
          ],
          "heatmapgl": [
           {
            "colorbar": {
             "outlinewidth": 0,
             "ticks": ""
            },
            "colorscale": [
             [
              0,
              "#0d0887"
             ],
             [
              0.1111111111111111,
              "#46039f"
             ],
             [
              0.2222222222222222,
              "#7201a8"
             ],
             [
              0.3333333333333333,
              "#9c179e"
             ],
             [
              0.4444444444444444,
              "#bd3786"
             ],
             [
              0.5555555555555556,
              "#d8576b"
             ],
             [
              0.6666666666666666,
              "#ed7953"
             ],
             [
              0.7777777777777778,
              "#fb9f3a"
             ],
             [
              0.8888888888888888,
              "#fdca26"
             ],
             [
              1,
              "#f0f921"
             ]
            ],
            "type": "heatmapgl"
           }
          ],
          "histogram": [
           {
            "marker": {
             "pattern": {
              "fillmode": "overlay",
              "size": 10,
              "solidity": 0.2
             }
            },
            "type": "histogram"
           }
          ],
          "histogram2d": [
           {
            "colorbar": {
             "outlinewidth": 0,
             "ticks": ""
            },
            "colorscale": [
             [
              0,
              "#0d0887"
             ],
             [
              0.1111111111111111,
              "#46039f"
             ],
             [
              0.2222222222222222,
              "#7201a8"
             ],
             [
              0.3333333333333333,
              "#9c179e"
             ],
             [
              0.4444444444444444,
              "#bd3786"
             ],
             [
              0.5555555555555556,
              "#d8576b"
             ],
             [
              0.6666666666666666,
              "#ed7953"
             ],
             [
              0.7777777777777778,
              "#fb9f3a"
             ],
             [
              0.8888888888888888,
              "#fdca26"
             ],
             [
              1,
              "#f0f921"
             ]
            ],
            "type": "histogram2d"
           }
          ],
          "histogram2dcontour": [
           {
            "colorbar": {
             "outlinewidth": 0,
             "ticks": ""
            },
            "colorscale": [
             [
              0,
              "#0d0887"
             ],
             [
              0.1111111111111111,
              "#46039f"
             ],
             [
              0.2222222222222222,
              "#7201a8"
             ],
             [
              0.3333333333333333,
              "#9c179e"
             ],
             [
              0.4444444444444444,
              "#bd3786"
             ],
             [
              0.5555555555555556,
              "#d8576b"
             ],
             [
              0.6666666666666666,
              "#ed7953"
             ],
             [
              0.7777777777777778,
              "#fb9f3a"
             ],
             [
              0.8888888888888888,
              "#fdca26"
             ],
             [
              1,
              "#f0f921"
             ]
            ],
            "type": "histogram2dcontour"
           }
          ],
          "mesh3d": [
           {
            "colorbar": {
             "outlinewidth": 0,
             "ticks": ""
            },
            "type": "mesh3d"
           }
          ],
          "parcoords": [
           {
            "line": {
             "colorbar": {
              "outlinewidth": 0,
              "ticks": ""
             }
            },
            "type": "parcoords"
           }
          ],
          "pie": [
           {
            "automargin": true,
            "type": "pie"
           }
          ],
          "scatter": [
           {
            "fillpattern": {
             "fillmode": "overlay",
             "size": 10,
             "solidity": 0.2
            },
            "type": "scatter"
           }
          ],
          "scatter3d": [
           {
            "line": {
             "colorbar": {
              "outlinewidth": 0,
              "ticks": ""
             }
            },
            "marker": {
             "colorbar": {
              "outlinewidth": 0,
              "ticks": ""
             }
            },
            "type": "scatter3d"
           }
          ],
          "scattercarpet": [
           {
            "marker": {
             "colorbar": {
              "outlinewidth": 0,
              "ticks": ""
             }
            },
            "type": "scattercarpet"
           }
          ],
          "scattergeo": [
           {
            "marker": {
             "colorbar": {
              "outlinewidth": 0,
              "ticks": ""
             }
            },
            "type": "scattergeo"
           }
          ],
          "scattergl": [
           {
            "marker": {
             "colorbar": {
              "outlinewidth": 0,
              "ticks": ""
             }
            },
            "type": "scattergl"
           }
          ],
          "scattermapbox": [
           {
            "marker": {
             "colorbar": {
              "outlinewidth": 0,
              "ticks": ""
             }
            },
            "type": "scattermapbox"
           }
          ],
          "scatterpolar": [
           {
            "marker": {
             "colorbar": {
              "outlinewidth": 0,
              "ticks": ""
             }
            },
            "type": "scatterpolar"
           }
          ],
          "scatterpolargl": [
           {
            "marker": {
             "colorbar": {
              "outlinewidth": 0,
              "ticks": ""
             }
            },
            "type": "scatterpolargl"
           }
          ],
          "scatterternary": [
           {
            "marker": {
             "colorbar": {
              "outlinewidth": 0,
              "ticks": ""
             }
            },
            "type": "scatterternary"
           }
          ],
          "surface": [
           {
            "colorbar": {
             "outlinewidth": 0,
             "ticks": ""
            },
            "colorscale": [
             [
              0,
              "#0d0887"
             ],
             [
              0.1111111111111111,
              "#46039f"
             ],
             [
              0.2222222222222222,
              "#7201a8"
             ],
             [
              0.3333333333333333,
              "#9c179e"
             ],
             [
              0.4444444444444444,
              "#bd3786"
             ],
             [
              0.5555555555555556,
              "#d8576b"
             ],
             [
              0.6666666666666666,
              "#ed7953"
             ],
             [
              0.7777777777777778,
              "#fb9f3a"
             ],
             [
              0.8888888888888888,
              "#fdca26"
             ],
             [
              1,
              "#f0f921"
             ]
            ],
            "type": "surface"
           }
          ],
          "table": [
           {
            "cells": {
             "fill": {
              "color": "#EBF0F8"
             },
             "line": {
              "color": "white"
             }
            },
            "header": {
             "fill": {
              "color": "#C8D4E3"
             },
             "line": {
              "color": "white"
             }
            },
            "type": "table"
           }
          ]
         },
         "layout": {
          "annotationdefaults": {
           "arrowcolor": "#2a3f5f",
           "arrowhead": 0,
           "arrowwidth": 1
          },
          "autotypenumbers": "strict",
          "coloraxis": {
           "colorbar": {
            "outlinewidth": 0,
            "ticks": ""
           }
          },
          "colorscale": {
           "diverging": [
            [
             0,
             "#8e0152"
            ],
            [
             0.1,
             "#c51b7d"
            ],
            [
             0.2,
             "#de77ae"
            ],
            [
             0.3,
             "#f1b6da"
            ],
            [
             0.4,
             "#fde0ef"
            ],
            [
             0.5,
             "#f7f7f7"
            ],
            [
             0.6,
             "#e6f5d0"
            ],
            [
             0.7,
             "#b8e186"
            ],
            [
             0.8,
             "#7fbc41"
            ],
            [
             0.9,
             "#4d9221"
            ],
            [
             1,
             "#276419"
            ]
           ],
           "sequential": [
            [
             0,
             "#0d0887"
            ],
            [
             0.1111111111111111,
             "#46039f"
            ],
            [
             0.2222222222222222,
             "#7201a8"
            ],
            [
             0.3333333333333333,
             "#9c179e"
            ],
            [
             0.4444444444444444,
             "#bd3786"
            ],
            [
             0.5555555555555556,
             "#d8576b"
            ],
            [
             0.6666666666666666,
             "#ed7953"
            ],
            [
             0.7777777777777778,
             "#fb9f3a"
            ],
            [
             0.8888888888888888,
             "#fdca26"
            ],
            [
             1,
             "#f0f921"
            ]
           ],
           "sequentialminus": [
            [
             0,
             "#0d0887"
            ],
            [
             0.1111111111111111,
             "#46039f"
            ],
            [
             0.2222222222222222,
             "#7201a8"
            ],
            [
             0.3333333333333333,
             "#9c179e"
            ],
            [
             0.4444444444444444,
             "#bd3786"
            ],
            [
             0.5555555555555556,
             "#d8576b"
            ],
            [
             0.6666666666666666,
             "#ed7953"
            ],
            [
             0.7777777777777778,
             "#fb9f3a"
            ],
            [
             0.8888888888888888,
             "#fdca26"
            ],
            [
             1,
             "#f0f921"
            ]
           ]
          },
          "colorway": [
           "#636efa",
           "#EF553B",
           "#00cc96",
           "#ab63fa",
           "#FFA15A",
           "#19d3f3",
           "#FF6692",
           "#B6E880",
           "#FF97FF",
           "#FECB52"
          ],
          "font": {
           "color": "#2a3f5f"
          },
          "geo": {
           "bgcolor": "white",
           "lakecolor": "white",
           "landcolor": "#E5ECF6",
           "showlakes": true,
           "showland": true,
           "subunitcolor": "white"
          },
          "hoverlabel": {
           "align": "left"
          },
          "hovermode": "closest",
          "mapbox": {
           "style": "light"
          },
          "paper_bgcolor": "white",
          "plot_bgcolor": "#E5ECF6",
          "polar": {
           "angularaxis": {
            "gridcolor": "white",
            "linecolor": "white",
            "ticks": ""
           },
           "bgcolor": "#E5ECF6",
           "radialaxis": {
            "gridcolor": "white",
            "linecolor": "white",
            "ticks": ""
           }
          },
          "scene": {
           "xaxis": {
            "backgroundcolor": "#E5ECF6",
            "gridcolor": "white",
            "gridwidth": 2,
            "linecolor": "white",
            "showbackground": true,
            "ticks": "",
            "zerolinecolor": "white"
           },
           "yaxis": {
            "backgroundcolor": "#E5ECF6",
            "gridcolor": "white",
            "gridwidth": 2,
            "linecolor": "white",
            "showbackground": true,
            "ticks": "",
            "zerolinecolor": "white"
           },
           "zaxis": {
            "backgroundcolor": "#E5ECF6",
            "gridcolor": "white",
            "gridwidth": 2,
            "linecolor": "white",
            "showbackground": true,
            "ticks": "",
            "zerolinecolor": "white"
           }
          },
          "shapedefaults": {
           "line": {
            "color": "#2a3f5f"
           }
          },
          "ternary": {
           "aaxis": {
            "gridcolor": "white",
            "linecolor": "white",
            "ticks": ""
           },
           "baxis": {
            "gridcolor": "white",
            "linecolor": "white",
            "ticks": ""
           },
           "bgcolor": "#E5ECF6",
           "caxis": {
            "gridcolor": "white",
            "linecolor": "white",
            "ticks": ""
           }
          },
          "title": {
           "x": 0.05
          },
          "xaxis": {
           "automargin": true,
           "gridcolor": "white",
           "linecolor": "white",
           "ticks": "",
           "title": {
            "standoff": 15
           },
           "zerolinecolor": "white",
           "zerolinewidth": 2
          },
          "yaxis": {
           "automargin": true,
           "gridcolor": "white",
           "linecolor": "white",
           "ticks": "",
           "title": {
            "standoff": 15
           },
           "zerolinecolor": "white",
           "zerolinewidth": 2
          }
         }
        },
        "title": {
         "text": "12 Day Forecast: True Values vs Predicted Values"
        },
        "xaxis": {
         "anchor": "y",
         "domain": [
          0,
          1
         ],
         "title": {
          "text": "lpep_pickup_datetime"
         }
        },
        "yaxis": {
         "anchor": "x",
         "domain": [
          0,
          1
         ],
         "title": {
          "text": "Forecast"
         }
        }
       }
      }
     },
     "metadata": {},
     "output_type": "display_data"
    },
    {
     "name": "stdout",
     "output_type": "stream",
     "text": [
      "Figure 9. Observed, Trend, Seasonal, and Residual Plot of the Number of Hourly Trip\n"
     ]
    }
   ],
   "source": [
    "groud_truth_hourly_trip = hourly_count_trip_data[start_index:end_index].to_frame().rename(columns={0: \"forecast\"})\n",
    "predicted_values = pred.predicted_mean.to_frame().rename(columns={\"predicted_mean\": \"forecast\"})\n",
    "comparison_line_plot(groud_truth_hourly_trip,\n",
    "                     predicted_values,\n",
    "                     column_name=\"forecast\",\n",
    "                     df1_name=\"True Values\",\n",
    "                     df2_name=\"Predicted Values\",\n",
    "                     plot_title_name = '12 Day Forecast: True Values vs Predicted Values', \n",
    "                     plot_xlabel_name= 'Date and Time',\n",
    "                     plot_ylabel_name= 'Forecast')\n",
    "print(\"Figure 9. Observed, Trend, Seasonal, and Residual Plot of the Number of Hourly Trip\")\n"
   ]
  },
  {
   "cell_type": "markdown",
   "metadata": {},
   "source": [
    "In Figure 9, we see that the created model can follow the trend of the data. Therefore, I think this is somehow a good (okay) model. However, time-series modelling should also consider statistical assumption to have a better model. Looking at the model summary:\n"
   ]
  },
  {
   "cell_type": "code",
   "execution_count": 32,
   "metadata": {},
   "outputs": [
    {
     "data": {
      "text/html": [
       "<table class=\"simpletable\">\n",
       "<caption>SARIMAX Results</caption>\n",
       "<tr>\n",
       "  <th>Dep. Variable:</th>           <td>y</td>        <th>  No. Observations:  </th>    <td>696</td>   \n",
       "</tr>\n",
       "<tr>\n",
       "  <th>Model:</th>            <td>ARIMA(2, 1, 2)</td>  <th>  Log Likelihood     </th> <td>-4937.245</td>\n",
       "</tr>\n",
       "<tr>\n",
       "  <th>Date:</th>            <td>Thu, 19 Sep 2024</td> <th>  AIC                </th> <td>9884.490</td> \n",
       "</tr>\n",
       "<tr>\n",
       "  <th>Time:</th>                <td>19:12:16</td>     <th>  BIC                </th> <td>9907.209</td> \n",
       "</tr>\n",
       "<tr>\n",
       "  <th>Sample:</th>             <td>01-31-2016</td>    <th>  HQIC               </th> <td>9893.275</td> \n",
       "</tr>\n",
       "<tr>\n",
       "  <th></th>                   <td>- 02-29-2016</td>   <th>                     </th>     <td> </td>    \n",
       "</tr>\n",
       "<tr>\n",
       "  <th>Covariance Type:</th>        <td>opg</td>       <th>                     </th>     <td> </td>    \n",
       "</tr>\n",
       "</table>\n",
       "<table class=\"simpletable\">\n",
       "<tr>\n",
       "     <td></td>       <th>coef</th>     <th>std err</th>      <th>z</th>      <th>P>|z|</th>  <th>[0.025</th>    <th>0.975]</th>  \n",
       "</tr>\n",
       "<tr>\n",
       "  <th>ar.L1</th>  <td>    0.1819</td> <td>    0.200</td> <td>    0.909</td> <td> 0.363</td> <td>   -0.210</td> <td>    0.574</td>\n",
       "</tr>\n",
       "<tr>\n",
       "  <th>ar.L2</th>  <td>   -0.0498</td> <td>    0.122</td> <td>   -0.408</td> <td> 0.684</td> <td>   -0.290</td> <td>    0.190</td>\n",
       "</tr>\n",
       "<tr>\n",
       "  <th>ma.L1</th>  <td>    0.6797</td> <td>    0.202</td> <td>    3.363</td> <td> 0.001</td> <td>    0.284</td> <td>    1.076</td>\n",
       "</tr>\n",
       "<tr>\n",
       "  <th>ma.L2</th>  <td>    0.3272</td> <td>    0.075</td> <td>    4.376</td> <td> 0.000</td> <td>    0.181</td> <td>    0.474</td>\n",
       "</tr>\n",
       "<tr>\n",
       "  <th>sigma2</th> <td> 8.677e+04</td> <td> 3955.442</td> <td>   21.938</td> <td> 0.000</td> <td>  7.9e+04</td> <td> 9.45e+04</td>\n",
       "</tr>\n",
       "</table>\n",
       "<table class=\"simpletable\">\n",
       "<tr>\n",
       "  <th>Ljung-Box (L1) (Q):</th>     <td>0.00</td> <th>  Jarque-Bera (JB):  </th> <td>24.23</td>\n",
       "</tr>\n",
       "<tr>\n",
       "  <th>Prob(Q):</th>                <td>0.97</td> <th>  Prob(JB):          </th> <td>0.00</td> \n",
       "</tr>\n",
       "<tr>\n",
       "  <th>Heteroskedasticity (H):</th> <td>1.00</td> <th>  Skew:              </th> <td>-0.01</td>\n",
       "</tr>\n",
       "<tr>\n",
       "  <th>Prob(H) (two-sided):</th>    <td>0.99</td> <th>  Kurtosis:          </th> <td>3.91</td> \n",
       "</tr>\n",
       "</table><br/><br/>Warnings:<br/>[1] Covariance matrix calculated using the outer product of gradients (complex-step)."
      ],
      "text/latex": [
       "\\begin{center}\n",
       "\\begin{tabular}{lclc}\n",
       "\\toprule\n",
       "\\textbf{Dep. Variable:}          &        y         & \\textbf{  No. Observations:  } &    696      \\\\\n",
       "\\textbf{Model:}                  &  ARIMA(2, 1, 2)  & \\textbf{  Log Likelihood     } & -4937.245   \\\\\n",
       "\\textbf{Date:}                   & Thu, 19 Sep 2024 & \\textbf{  AIC                } &  9884.490   \\\\\n",
       "\\textbf{Time:}                   &     19:12:16     & \\textbf{  BIC                } &  9907.209   \\\\\n",
       "\\textbf{Sample:}                 &    01-31-2016    & \\textbf{  HQIC               } &  9893.275   \\\\\n",
       "\\textbf{}                        &   - 02-29-2016   & \\textbf{                     } &             \\\\\n",
       "\\textbf{Covariance Type:}        &       opg        & \\textbf{                     } &             \\\\\n",
       "\\bottomrule\n",
       "\\end{tabular}\n",
       "\\begin{tabular}{lcccccc}\n",
       "                & \\textbf{coef} & \\textbf{std err} & \\textbf{z} & \\textbf{P$> |$z$|$} & \\textbf{[0.025} & \\textbf{0.975]}  \\\\\n",
       "\\midrule\n",
       "\\textbf{ar.L1}  &       0.1819  &        0.200     &     0.909  &         0.363        &       -0.210    &        0.574     \\\\\n",
       "\\textbf{ar.L2}  &      -0.0498  &        0.122     &    -0.408  &         0.684        &       -0.290    &        0.190     \\\\\n",
       "\\textbf{ma.L1}  &       0.6797  &        0.202     &     3.363  &         0.001        &        0.284    &        1.076     \\\\\n",
       "\\textbf{ma.L2}  &       0.3272  &        0.075     &     4.376  &         0.000        &        0.181    &        0.474     \\\\\n",
       "\\textbf{sigma2} &    8.677e+04  &     3955.442     &    21.938  &         0.000        &      7.9e+04    &     9.45e+04     \\\\\n",
       "\\bottomrule\n",
       "\\end{tabular}\n",
       "\\begin{tabular}{lclc}\n",
       "\\textbf{Ljung-Box (L1) (Q):}     & 0.00 & \\textbf{  Jarque-Bera (JB):  } & 24.23  \\\\\n",
       "\\textbf{Prob(Q):}                & 0.97 & \\textbf{  Prob(JB):          } &  0.00  \\\\\n",
       "\\textbf{Heteroskedasticity (H):} & 1.00 & \\textbf{  Skew:              } & -0.01  \\\\\n",
       "\\textbf{Prob(H) (two-sided):}    & 0.99 & \\textbf{  Kurtosis:          } &  3.91  \\\\\n",
       "\\bottomrule\n",
       "\\end{tabular}\n",
       "%\\caption{SARIMAX Results}\n",
       "\\end{center}\n",
       "\n",
       "Warnings: \\newline\n",
       " [1] Covariance matrix calculated using the outer product of gradients (complex-step)."
      ],
      "text/plain": [
       "<class 'statsmodels.iolib.summary.Summary'>\n",
       "\"\"\"\n",
       "                               SARIMAX Results                                \n",
       "==============================================================================\n",
       "Dep. Variable:                      y   No. Observations:                  696\n",
       "Model:                 ARIMA(2, 1, 2)   Log Likelihood               -4937.245\n",
       "Date:                Thu, 19 Sep 2024   AIC                           9884.490\n",
       "Time:                        19:12:16   BIC                           9907.209\n",
       "Sample:                    01-31-2016   HQIC                          9893.275\n",
       "                         - 02-29-2016                                         \n",
       "Covariance Type:                  opg                                         \n",
       "==============================================================================\n",
       "                 coef    std err          z      P>|z|      [0.025      0.975]\n",
       "------------------------------------------------------------------------------\n",
       "ar.L1          0.1819      0.200      0.909      0.363      -0.210       0.574\n",
       "ar.L2         -0.0498      0.122     -0.408      0.684      -0.290       0.190\n",
       "ma.L1          0.6797      0.202      3.363      0.001       0.284       1.076\n",
       "ma.L2          0.3272      0.075      4.376      0.000       0.181       0.474\n",
       "sigma2      8.677e+04   3955.442     21.938      0.000     7.9e+04    9.45e+04\n",
       "===================================================================================\n",
       "Ljung-Box (L1) (Q):                   0.00   Jarque-Bera (JB):                24.23\n",
       "Prob(Q):                              0.97   Prob(JB):                         0.00\n",
       "Heteroskedasticity (H):               1.00   Skew:                            -0.01\n",
       "Prob(H) (two-sided):                  0.99   Kurtosis:                         3.91\n",
       "===================================================================================\n",
       "\n",
       "Warnings:\n",
       "[1] Covariance matrix calculated using the outer product of gradients (complex-step).\n",
       "\"\"\""
      ]
     },
     "execution_count": 32,
     "metadata": {},
     "output_type": "execute_result"
    }
   ],
   "source": [
    "fitted_model.summary()"
   ]
  },
  {
   "cell_type": "markdown",
   "metadata": {},
   "source": [
    "Looking at the summary although the predicted values are following the trend of the true values. Our statistical analysis says that our model is not good. The following are the reason:\n",
    "\n",
    "1. The ar.L1 and ar.L2 is the p parameter of our ARIMA model (the autoregressive part), since the P>|z| is not small, this could a low impact to the time-series model prediction sinc the coeffients ar part is closer to 0. We need to think of a better way find the best value of the p (autoregressive part) parameter of the model or properly transform our data.\n",
    "\n",
    "2. The jarque bera p-value is less than 0.05 significance level, which indicates the rejection of the idea that the residual is normally distributed (simply non-distributed residuals). If we implement this model, we wouldn't get a valid confidence interval, coefficient estimates, and p-value.\n",
    "\n",
    "3. Ljung-Box (L1) is less than 0.05 significance level, which means that our residuals are not independent, which is also an important assumption.\n",
    "\n",
    "\n",
    "In this case, I think it is safe to asume that ARIMA cannot satify all the assumptions needed (the order that I inferred earlier may not be the optimal order). Other models, data transformations, and order should be considered as well. For now, I will evaluate the developed model."
   ]
  },
  {
   "cell_type": "markdown",
   "metadata": {},
   "source": [
    "## 5. Evaluate your forecast model and outcomes using any appropriate measures."
   ]
  },
  {
   "cell_type": "code",
   "execution_count": 33,
   "metadata": {},
   "outputs": [
    {
     "name": "stdout",
     "output_type": "stream",
     "text": [
      "Figure 10. Observed, Trend, Seasonal, and Residual Plot of the Number of Hourly Trip\n"
     ]
    },
    {
     "data": {
      "image/png": "[encoded data removed]",
      "text/plain": [
       "<Figure size 1500x1200 with 4 Axes>"
      ]
     },
     "metadata": {},
     "output_type": "display_data"
    }
   ],
   "source": [
    "fitted_model.plot_diagnostics(figsize=(15, 12))\n",
    "plt.tight_layout()\n",
    "print(\"Figure 10. Observed, Trend, Seasonal, and Residual Plot of the Number of Hourly Trip\");"
   ]
  },
  {
   "cell_type": "markdown",
   "metadata": {},
   "source": [
    "On the top right plot, It has been observed that the blue KDE line is not that close with the N(0,1) curve, which represents a non-normal distribution / non-parameteric distribution. This also supports that our findings looking at the model summary. However, we do not have a long tail, which is a good thing because we can assume that there's no prediction that is very far from the true value. Similar could also be observed in the QQ Plot since we have points that are far away from the line."
   ]
  },
  {
   "cell_type": "markdown",
   "metadata": {},
   "source": [
    "**Regression Metrics**"
   ]
  },
  {
   "cell_type": "code",
   "execution_count": 34,
   "metadata": {},
   "outputs": [
    {
     "name": "stdout",
     "output_type": "stream",
     "text": [
      "The baseline: forecast    2223.02\n",
      "dtype: float64\n",
      "The Mean Squared Error of our forecasts is forecast    276.27\n",
      "dtype: float64\n",
      "The Mean Squared Error of our forecasts is forecast    217.54\n",
      "dtype: float64\n",
      "R Squared of our forecasts is 0.94\n"
     ]
    }
   ],
   "source": [
    "\n",
    "baseline = groud_truth_hourly_trip.mean()\n",
    "print(f'The baseline: {round(baseline, 2)}')\n",
    "\n",
    "rmse = np.sqrt(((groud_truth_hourly_trip - predicted_values) ** 2).mean())\n",
    "print(f'The Mean Squared Error of our forecasts is {round(rmse, 2)}')\n",
    "\n",
    "mae = abs(groud_truth_hourly_trip - predicted_values).mean()\n",
    "print(f'The Mean Squared Error of our forecasts is {round(mae, 2)}')\n",
    "\n",
    "r2 = r2_score(groud_truth_hourly_trip, predicted_values)\n",
    "print(f'R Squared of our forecasts is {round(r2, 2)}')\n"
   ]
  },
  {
   "cell_type": "markdown",
   "metadata": {},
   "source": [
    "Although some statistical tests are not satisfied. The error of the prediction of the model is way lower than the baseline, which is the average count of the hourly trip, which is a good indicator that our model is good at predicting. To support this, the R2 is also provided with 0.94, which means 94% of the variance of the target variable can be explained by the model."
   ]
  },
  {
   "cell_type": "markdown",
   "metadata": {},
   "source": [
    "\n",
    "Future improvements:\n",
    "\n",
    "1. Consider out-of-sample tests and make sure that the model is performing good as well in out-of-sample tests (dynamic prediction)\n",
    "\n",
    "2. Try other models and other transformations to satisfy the statistical assumptions of the model.\n",
    "\n",
    "3. Find the most optimal order of ARIMA model or consider Seasonal ARIMA model."
   ]
  },
  {
   "cell_type": "code",
   "execution_count": 35,
   "metadata": {},
   "outputs": [],
   "source": [
    "# Optimizing the parameter using grid search\n",
    "\n",
    "p = range(0, 2)\n",
    "d = range(1, 2)\n",
    "q = range(0, 2)\n",
    "\n",
    "for order in product(p, d, q):\n",
    "    for seasonal_order in product(range(0, 5), range(0, 2), range(0, 5)):\n",
    "        mod = sm.tsa.statespace.SARIMAX(hourly_count_trip_data,\n",
    "                                        order=order,\n",
    "                                        seasonal_order=(*seasonal_order, 12))\n",
    "        result = mod.fit(disp=False)\n",
    "        print(order, seasonal_order, 12)\n",
    "        print(result.aic)\n"
   ]
  },
  {
   "cell_type": "markdown",
   "metadata": {},
   "source": [
    "And that's it for this assessment. You can also access the assessment in my GitHub Repository by clicking this link: https://github.com/Justinjay282/assembly-forecasting"
   ]
  }
 ],
 "metadata": {
  "kernelspec": {
   "display_name": "Python 3 (ipykernel)",
   "language": "python",
   "name": "python3"
  },
  "language_info": {
   "codemirror_mode": {
    "name": "ipython",
    "version": 3
   },
   "file_extension": ".py",
   "mimetype": "text/x-python",
   "name": "python",
   "nbconvert_exporter": "python",
   "pygments_lexer": "ipython3",
   "version": "3.12.4"
  },
  "widgets": {
   "application/vnd.jupyter.widget-state+json": {
    "state": {},
    "version_major": 2,
    "version_minor": 0
   }
  }
 },
 "nbformat": 4,
 "nbformat_minor": 4
}
